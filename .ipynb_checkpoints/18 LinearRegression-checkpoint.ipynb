{
 "cells": [
  {
   "cell_type": "markdown",
   "id": "77836475",
   "metadata": {},
   "source": [
    "### 多元线性回归：多个特征\n"
   ]
  },
  {
   "cell_type": "markdown",
   "id": "77657ee2",
   "metadata": {},
   "source": [
    "##### 使用最小二乘法求解多元线性回归的参数\n",
    "##### 逆矩阵存在的充分必要条件是矩阵不存在多重共线性（矩阵的行列式不为0）\n",
    "##### 使用最小二乘法时，标签的分布必须服从正态分布"
   ]
  },
  {
   "cell_type": "code",
   "execution_count": 5,
   "id": "d1930532",
   "metadata": {},
   "outputs": [],
   "source": [
    "from sklearn.linear_model import LinearRegression as LR\n"
   ]
  },
  {
   "cell_type": "markdown",
   "id": "d015573e",
   "metadata": {},
   "source": [
    "### 参数解析：\n",
    "##### fit_intercept:布尔值，默认为True，是否计算截距\n",
    "##### normalize:布尔值，默认为False，特征矩阵在回归前是否进行标准化（去中心化），并处以L反噬\n",
    "##### copy_x:布尔值，用于是否在x.copy()上面操作，默认为True\n",
    "##### n_jobs:工作线程数，如果为-1,表示使用全部CPU进行计算，默认为1"
   ]
  },
  {
   "cell_type": "code",
   "execution_count": 6,
   "id": "2521f650",
   "metadata": {},
   "outputs": [],
   "source": [
    "from sklearn.model_selection import train_test_split\n",
    "from sklearn.model_selection import cross_val_score\n",
    "from sklearn.datasets import fetch_california_housing as fch #加利福尼亚房价数据集\n",
    "import pandas as pd\n"
   ]
  },
  {
   "cell_type": "code",
   "execution_count": 14,
   "id": "32b1cfd6",
   "metadata": {},
   "outputs": [
    {
     "data": {
      "text/html": [
       "<div>\n",
       "<style scoped>\n",
       "    .dataframe tbody tr th:only-of-type {\n",
       "        vertical-align: middle;\n",
       "    }\n",
       "\n",
       "    .dataframe tbody tr th {\n",
       "        vertical-align: top;\n",
       "    }\n",
       "\n",
       "    .dataframe thead th {\n",
       "        text-align: right;\n",
       "    }\n",
       "</style>\n",
       "<table border=\"1\" class=\"dataframe\">\n",
       "  <thead>\n",
       "    <tr style=\"text-align: right;\">\n",
       "      <th></th>\n",
       "      <th>0</th>\n",
       "      <th>1</th>\n",
       "      <th>2</th>\n",
       "      <th>3</th>\n",
       "      <th>4</th>\n",
       "      <th>5</th>\n",
       "      <th>6</th>\n",
       "      <th>7</th>\n",
       "    </tr>\n",
       "  </thead>\n",
       "  <tbody>\n",
       "    <tr>\n",
       "      <th>0</th>\n",
       "      <td>8.3252</td>\n",
       "      <td>41.0</td>\n",
       "      <td>6.984127</td>\n",
       "      <td>1.023810</td>\n",
       "      <td>322.0</td>\n",
       "      <td>2.555556</td>\n",
       "      <td>37.88</td>\n",
       "      <td>-122.23</td>\n",
       "    </tr>\n",
       "    <tr>\n",
       "      <th>1</th>\n",
       "      <td>8.3014</td>\n",
       "      <td>21.0</td>\n",
       "      <td>6.238137</td>\n",
       "      <td>0.971880</td>\n",
       "      <td>2401.0</td>\n",
       "      <td>2.109842</td>\n",
       "      <td>37.86</td>\n",
       "      <td>-122.22</td>\n",
       "    </tr>\n",
       "    <tr>\n",
       "      <th>2</th>\n",
       "      <td>7.2574</td>\n",
       "      <td>52.0</td>\n",
       "      <td>8.288136</td>\n",
       "      <td>1.073446</td>\n",
       "      <td>496.0</td>\n",
       "      <td>2.802260</td>\n",
       "      <td>37.85</td>\n",
       "      <td>-122.24</td>\n",
       "    </tr>\n",
       "    <tr>\n",
       "      <th>3</th>\n",
       "      <td>5.6431</td>\n",
       "      <td>52.0</td>\n",
       "      <td>5.817352</td>\n",
       "      <td>1.073059</td>\n",
       "      <td>558.0</td>\n",
       "      <td>2.547945</td>\n",
       "      <td>37.85</td>\n",
       "      <td>-122.25</td>\n",
       "    </tr>\n",
       "    <tr>\n",
       "      <th>4</th>\n",
       "      <td>3.8462</td>\n",
       "      <td>52.0</td>\n",
       "      <td>6.281853</td>\n",
       "      <td>1.081081</td>\n",
       "      <td>565.0</td>\n",
       "      <td>2.181467</td>\n",
       "      <td>37.85</td>\n",
       "      <td>-122.25</td>\n",
       "    </tr>\n",
       "    <tr>\n",
       "      <th>...</th>\n",
       "      <td>...</td>\n",
       "      <td>...</td>\n",
       "      <td>...</td>\n",
       "      <td>...</td>\n",
       "      <td>...</td>\n",
       "      <td>...</td>\n",
       "      <td>...</td>\n",
       "      <td>...</td>\n",
       "    </tr>\n",
       "    <tr>\n",
       "      <th>20635</th>\n",
       "      <td>1.5603</td>\n",
       "      <td>25.0</td>\n",
       "      <td>5.045455</td>\n",
       "      <td>1.133333</td>\n",
       "      <td>845.0</td>\n",
       "      <td>2.560606</td>\n",
       "      <td>39.48</td>\n",
       "      <td>-121.09</td>\n",
       "    </tr>\n",
       "    <tr>\n",
       "      <th>20636</th>\n",
       "      <td>2.5568</td>\n",
       "      <td>18.0</td>\n",
       "      <td>6.114035</td>\n",
       "      <td>1.315789</td>\n",
       "      <td>356.0</td>\n",
       "      <td>3.122807</td>\n",
       "      <td>39.49</td>\n",
       "      <td>-121.21</td>\n",
       "    </tr>\n",
       "    <tr>\n",
       "      <th>20637</th>\n",
       "      <td>1.7000</td>\n",
       "      <td>17.0</td>\n",
       "      <td>5.205543</td>\n",
       "      <td>1.120092</td>\n",
       "      <td>1007.0</td>\n",
       "      <td>2.325635</td>\n",
       "      <td>39.43</td>\n",
       "      <td>-121.22</td>\n",
       "    </tr>\n",
       "    <tr>\n",
       "      <th>20638</th>\n",
       "      <td>1.8672</td>\n",
       "      <td>18.0</td>\n",
       "      <td>5.329513</td>\n",
       "      <td>1.171920</td>\n",
       "      <td>741.0</td>\n",
       "      <td>2.123209</td>\n",
       "      <td>39.43</td>\n",
       "      <td>-121.32</td>\n",
       "    </tr>\n",
       "    <tr>\n",
       "      <th>20639</th>\n",
       "      <td>2.3886</td>\n",
       "      <td>16.0</td>\n",
       "      <td>5.254717</td>\n",
       "      <td>1.162264</td>\n",
       "      <td>1387.0</td>\n",
       "      <td>2.616981</td>\n",
       "      <td>39.37</td>\n",
       "      <td>-121.24</td>\n",
       "    </tr>\n",
       "  </tbody>\n",
       "</table>\n",
       "<p>20640 rows × 8 columns</p>\n",
       "</div>"
      ],
      "text/plain": [
       "            0     1         2         3       4         5      6       7\n",
       "0      8.3252  41.0  6.984127  1.023810   322.0  2.555556  37.88 -122.23\n",
       "1      8.3014  21.0  6.238137  0.971880  2401.0  2.109842  37.86 -122.22\n",
       "2      7.2574  52.0  8.288136  1.073446   496.0  2.802260  37.85 -122.24\n",
       "3      5.6431  52.0  5.817352  1.073059   558.0  2.547945  37.85 -122.25\n",
       "4      3.8462  52.0  6.281853  1.081081   565.0  2.181467  37.85 -122.25\n",
       "...       ...   ...       ...       ...     ...       ...    ...     ...\n",
       "20635  1.5603  25.0  5.045455  1.133333   845.0  2.560606  39.48 -121.09\n",
       "20636  2.5568  18.0  6.114035  1.315789   356.0  3.122807  39.49 -121.21\n",
       "20637  1.7000  17.0  5.205543  1.120092  1007.0  2.325635  39.43 -121.22\n",
       "20638  1.8672  18.0  5.329513  1.171920   741.0  2.123209  39.43 -121.32\n",
       "20639  2.3886  16.0  5.254717  1.162264  1387.0  2.616981  39.37 -121.24\n",
       "\n",
       "[20640 rows x 8 columns]"
      ]
     },
     "execution_count": 14,
     "metadata": {},
     "output_type": "execute_result"
    }
   ],
   "source": [
    "data=fch()\n",
    "x=data.data\n",
    "y=data.target\n",
    "x=pd.DataFrame(x)\n",
    "y=pd.DataFrame(y)\n",
    "x"
   ]
  },
  {
   "cell_type": "code",
   "execution_count": 15,
   "id": "36a90ecc",
   "metadata": {},
   "outputs": [
    {
     "data": {
      "text/plain": [
       "0       15.000100\n",
       "1       52.000000\n",
       "2      141.909091\n",
       "3       34.066667\n",
       "4    35682.000000\n",
       "5     1243.333333\n",
       "6       41.950000\n",
       "7     -114.310000\n",
       "dtype: float64"
      ]
     },
     "execution_count": 15,
     "metadata": {},
     "output_type": "execute_result"
    }
   ],
   "source": [
    "x.max()\n"
   ]
  },
  {
   "cell_type": "code",
   "execution_count": 16,
   "id": "c23d5dc9",
   "metadata": {},
   "outputs": [
    {
     "data": {
      "text/plain": [
       "0      0.499900\n",
       "1      1.000000\n",
       "2      0.846154\n",
       "3      0.333333\n",
       "4      3.000000\n",
       "5      0.692308\n",
       "6     32.540000\n",
       "7   -124.350000\n",
       "dtype: float64"
      ]
     },
     "execution_count": 16,
     "metadata": {},
     "output_type": "execute_result"
    }
   ],
   "source": [
    "x.min()"
   ]
  },
  {
   "cell_type": "code",
   "execution_count": 17,
   "id": "0131fe47",
   "metadata": {},
   "outputs": [
    {
     "data": {
      "text/plain": [
       "0    5.00001\n",
       "dtype: float64"
      ]
     },
     "execution_count": 17,
     "metadata": {},
     "output_type": "execute_result"
    }
   ],
   "source": [
    "y.max()\n"
   ]
  },
  {
   "cell_type": "code",
   "execution_count": 18,
   "id": "fc2f44df",
   "metadata": {},
   "outputs": [
    {
     "data": {
      "text/plain": [
       "0    0.14999\n",
       "dtype: float64"
      ]
     },
     "execution_count": 18,
     "metadata": {},
     "output_type": "execute_result"
    }
   ],
   "source": [
    "y.min()"
   ]
  },
  {
   "cell_type": "code",
   "execution_count": 21,
   "id": "e926c2cc",
   "metadata": {},
   "outputs": [
    {
     "data": {
      "text/html": [
       "<div>\n",
       "<style scoped>\n",
       "    .dataframe tbody tr th:only-of-type {\n",
       "        vertical-align: middle;\n",
       "    }\n",
       "\n",
       "    .dataframe tbody tr th {\n",
       "        vertical-align: top;\n",
       "    }\n",
       "\n",
       "    .dataframe thead th {\n",
       "        text-align: right;\n",
       "    }\n",
       "</style>\n",
       "<table border=\"1\" class=\"dataframe\">\n",
       "  <thead>\n",
       "    <tr style=\"text-align: right;\">\n",
       "      <th></th>\n",
       "      <th>MedInc</th>\n",
       "      <th>HouseAge</th>\n",
       "      <th>AveRooms</th>\n",
       "      <th>AveBedrms</th>\n",
       "      <th>Population</th>\n",
       "      <th>AveOccup</th>\n",
       "      <th>Latitude</th>\n",
       "      <th>Longitude</th>\n",
       "    </tr>\n",
       "  </thead>\n",
       "  <tbody>\n",
       "    <tr>\n",
       "      <th>0</th>\n",
       "      <td>8.3252</td>\n",
       "      <td>41.0</td>\n",
       "      <td>6.984127</td>\n",
       "      <td>1.023810</td>\n",
       "      <td>322.0</td>\n",
       "      <td>2.555556</td>\n",
       "      <td>37.88</td>\n",
       "      <td>-122.23</td>\n",
       "    </tr>\n",
       "    <tr>\n",
       "      <th>1</th>\n",
       "      <td>8.3014</td>\n",
       "      <td>21.0</td>\n",
       "      <td>6.238137</td>\n",
       "      <td>0.971880</td>\n",
       "      <td>2401.0</td>\n",
       "      <td>2.109842</td>\n",
       "      <td>37.86</td>\n",
       "      <td>-122.22</td>\n",
       "    </tr>\n",
       "    <tr>\n",
       "      <th>2</th>\n",
       "      <td>7.2574</td>\n",
       "      <td>52.0</td>\n",
       "      <td>8.288136</td>\n",
       "      <td>1.073446</td>\n",
       "      <td>496.0</td>\n",
       "      <td>2.802260</td>\n",
       "      <td>37.85</td>\n",
       "      <td>-122.24</td>\n",
       "    </tr>\n",
       "    <tr>\n",
       "      <th>3</th>\n",
       "      <td>5.6431</td>\n",
       "      <td>52.0</td>\n",
       "      <td>5.817352</td>\n",
       "      <td>1.073059</td>\n",
       "      <td>558.0</td>\n",
       "      <td>2.547945</td>\n",
       "      <td>37.85</td>\n",
       "      <td>-122.25</td>\n",
       "    </tr>\n",
       "    <tr>\n",
       "      <th>4</th>\n",
       "      <td>3.8462</td>\n",
       "      <td>52.0</td>\n",
       "      <td>6.281853</td>\n",
       "      <td>1.081081</td>\n",
       "      <td>565.0</td>\n",
       "      <td>2.181467</td>\n",
       "      <td>37.85</td>\n",
       "      <td>-122.25</td>\n",
       "    </tr>\n",
       "    <tr>\n",
       "      <th>...</th>\n",
       "      <td>...</td>\n",
       "      <td>...</td>\n",
       "      <td>...</td>\n",
       "      <td>...</td>\n",
       "      <td>...</td>\n",
       "      <td>...</td>\n",
       "      <td>...</td>\n",
       "      <td>...</td>\n",
       "    </tr>\n",
       "    <tr>\n",
       "      <th>20635</th>\n",
       "      <td>1.5603</td>\n",
       "      <td>25.0</td>\n",
       "      <td>5.045455</td>\n",
       "      <td>1.133333</td>\n",
       "      <td>845.0</td>\n",
       "      <td>2.560606</td>\n",
       "      <td>39.48</td>\n",
       "      <td>-121.09</td>\n",
       "    </tr>\n",
       "    <tr>\n",
       "      <th>20636</th>\n",
       "      <td>2.5568</td>\n",
       "      <td>18.0</td>\n",
       "      <td>6.114035</td>\n",
       "      <td>1.315789</td>\n",
       "      <td>356.0</td>\n",
       "      <td>3.122807</td>\n",
       "      <td>39.49</td>\n",
       "      <td>-121.21</td>\n",
       "    </tr>\n",
       "    <tr>\n",
       "      <th>20637</th>\n",
       "      <td>1.7000</td>\n",
       "      <td>17.0</td>\n",
       "      <td>5.205543</td>\n",
       "      <td>1.120092</td>\n",
       "      <td>1007.0</td>\n",
       "      <td>2.325635</td>\n",
       "      <td>39.43</td>\n",
       "      <td>-121.22</td>\n",
       "    </tr>\n",
       "    <tr>\n",
       "      <th>20638</th>\n",
       "      <td>1.8672</td>\n",
       "      <td>18.0</td>\n",
       "      <td>5.329513</td>\n",
       "      <td>1.171920</td>\n",
       "      <td>741.0</td>\n",
       "      <td>2.123209</td>\n",
       "      <td>39.43</td>\n",
       "      <td>-121.32</td>\n",
       "    </tr>\n",
       "    <tr>\n",
       "      <th>20639</th>\n",
       "      <td>2.3886</td>\n",
       "      <td>16.0</td>\n",
       "      <td>5.254717</td>\n",
       "      <td>1.162264</td>\n",
       "      <td>1387.0</td>\n",
       "      <td>2.616981</td>\n",
       "      <td>39.37</td>\n",
       "      <td>-121.24</td>\n",
       "    </tr>\n",
       "  </tbody>\n",
       "</table>\n",
       "<p>20640 rows × 8 columns</p>\n",
       "</div>"
      ],
      "text/plain": [
       "       MedInc  HouseAge  AveRooms  AveBedrms  Population  AveOccup  Latitude  \\\n",
       "0      8.3252      41.0  6.984127   1.023810       322.0  2.555556     37.88   \n",
       "1      8.3014      21.0  6.238137   0.971880      2401.0  2.109842     37.86   \n",
       "2      7.2574      52.0  8.288136   1.073446       496.0  2.802260     37.85   \n",
       "3      5.6431      52.0  5.817352   1.073059       558.0  2.547945     37.85   \n",
       "4      3.8462      52.0  6.281853   1.081081       565.0  2.181467     37.85   \n",
       "...       ...       ...       ...        ...         ...       ...       ...   \n",
       "20635  1.5603      25.0  5.045455   1.133333       845.0  2.560606     39.48   \n",
       "20636  2.5568      18.0  6.114035   1.315789       356.0  3.122807     39.49   \n",
       "20637  1.7000      17.0  5.205543   1.120092      1007.0  2.325635     39.43   \n",
       "20638  1.8672      18.0  5.329513   1.171920       741.0  2.123209     39.43   \n",
       "20639  2.3886      16.0  5.254717   1.162264      1387.0  2.616981     39.37   \n",
       "\n",
       "       Longitude  \n",
       "0        -122.23  \n",
       "1        -122.22  \n",
       "2        -122.24  \n",
       "3        -122.25  \n",
       "4        -122.25  \n",
       "...          ...  \n",
       "20635    -121.09  \n",
       "20636    -121.21  \n",
       "20637    -121.22  \n",
       "20638    -121.32  \n",
       "20639    -121.24  \n",
       "\n",
       "[20640 rows x 8 columns]"
      ]
     },
     "execution_count": 21,
     "metadata": {},
     "output_type": "execute_result"
    }
   ],
   "source": [
    "# 数据解析\n",
    "x.columns=fch().feature_names"
   ]
  },
  {
   "cell_type": "code",
   "execution_count": 22,
   "id": "78278dcd",
   "metadata": {},
   "outputs": [
    {
     "data": {
      "text/plain": [
       "{'MedInc': '该街区住户的收入中位数',\n",
       " 'HouseAge': '该街区房屋使用年代的中位数',\n",
       " 'AveRooms': '该街区平均房间数目',\n",
       " 'AveBedrms': '该街区平均卧室数目',\n",
       " 'Population': '该街区人口',\n",
       " 'AveOccup': '平均入住率',\n",
       " 'Latitude': '街区的纬度',\n",
       " 'Longitude': '街区的经度'}"
      ]
     },
     "execution_count": 22,
     "metadata": {},
     "output_type": "execute_result"
    }
   ],
   "source": [
    "info=[\"该街区住户的收入中位数\",\"该街区房屋使用年代的中位数\",\"该街区平均房间数目\",\"该街区平均卧室数目\",\"该街区人口\",\"平均入住率\",\"街区的纬度\",\"街区的经度\"]\n",
    "info=dict(zip(x.columns,info))\n",
    "info"
   ]
  },
  {
   "cell_type": "code",
   "execution_count": 120,
   "id": "989cefe8",
   "metadata": {},
   "outputs": [],
   "source": [
    "# 划分数据集\n",
    "x_train,x_test,y_train,y_test=train_test_split(x,y,test_size=0.3,random_state=420)\n",
    "# 修改索引\n",
    "for i in [x_train,x_test,y_train,y_test]:\n",
    "    i.index=range(i.shape[0])\n",
    "    "
   ]
  },
  {
   "cell_type": "code",
   "execution_count": 61,
   "id": "b3ef8705",
   "metadata": {},
   "outputs": [],
   "source": [
    "# 如果希望对数据进行标准化，先对训练集进行fit，然后去用于训练集和测试集\n",
    "from sklearn.preprocessing import StandardScaler #标准化\n",
    "x_tr=x_train.copy()\n",
    "x_te=x_test.copy()\n",
    "y_tr=y_train.copy()\n",
    "y_te=y_test.copy()\n",
    "\n",
    "ss=StandardScaler().fit(x_tr)\n",
    "x_tr=ss.transform(x_tr)\n",
    "x_te=ss.transform(x_te)\n",
    "\n",
    "ssy=StandardScaler().fit(y_tr)\n",
    "y_tr=ssy.transform(y_tr)\n",
    "y_te=ssy.transform(y_te)"
   ]
  },
  {
   "cell_type": "code",
   "execution_count": 62,
   "id": "fb5ad813",
   "metadata": {},
   "outputs": [
    {
     "data": {
      "text/plain": [
       "array([[1.46824464],\n",
       "       [0.73320386],\n",
       "       [1.86207317],\n",
       "       ...,\n",
       "       [2.18678728],\n",
       "       [1.91922961],\n",
       "       [0.78664554]])"
      ]
     },
     "execution_count": 62,
     "metadata": {},
     "output_type": "execute_result"
    }
   ],
   "source": [
    "# 不进行标准化，开始建模\n",
    "reg=LR(fit_intercept=False).fit(x_train,y_train) #拟合\n",
    "yHat=reg.predict(x_test) #预测\n",
    "yHat"
   ]
  },
  {
   "cell_type": "code",
   "execution_count": 63,
   "id": "f521cb59",
   "metadata": {},
   "outputs": [
    {
     "data": {
      "text/plain": [
       "array([[ 5.11004560e-01,  1.65398231e-02, -1.80099701e-01,\n",
       "         8.41580880e-01,  1.37035073e-05, -4.15519993e-03,\n",
       "        -6.26082708e-02, -1.58235754e-02]])"
      ]
     },
     "execution_count": 63,
     "metadata": {},
     "output_type": "execute_result"
    }
   ],
   "source": [
    "# 查看w\n",
    "reg.coef_ #w，系数向量"
   ]
  },
  {
   "cell_type": "code",
   "execution_count": 64,
   "id": "edb0ffa0",
   "metadata": {},
   "outputs": [
    {
     "data": {
      "text/plain": [
       "0.0"
      ]
     },
     "execution_count": 64,
     "metadata": {},
     "output_type": "execute_result"
    }
   ],
   "source": [
    "# 查看截距\n",
    "reg.intercept_"
   ]
  },
  {
   "cell_type": "code",
   "execution_count": 82,
   "id": "2c26a3c7",
   "metadata": {},
   "outputs": [
    {
     "data": {
      "text/plain": [
       "[('MedInc', 0.5110045597711509),\n",
       " ('HouseAge', 0.016539823050682585),\n",
       " ('AveRooms', -0.18009970103529468),\n",
       " ('AveBedrms', 0.8415808795203695),\n",
       " ('Population', 1.3703507323402364e-05),\n",
       " ('AveOccup', -0.004155199930715188),\n",
       " ('Latitude', -0.06260827083267713),\n",
       " ('Longitude', -0.015823575414810144)]"
      ]
     },
     "execution_count": 82,
     "metadata": {},
     "output_type": "execute_result"
    }
   ],
   "source": [
    "x_train.columns,reg.coef_\n",
    "t=list(x_train.columns)\n",
    "r=reg.coef_.tolist()[0]\n",
    "list(zip(t,r))"
   ]
  },
  {
   "cell_type": "markdown",
   "id": "b235e1d4",
   "metadata": {},
   "source": [
    "### 回归的模型评估指标"
   ]
  },
  {
   "cell_type": "code",
   "execution_count": 83,
   "id": "026c5d8c",
   "metadata": {},
   "outputs": [
    {
     "data": {
      "text/plain": [
       "0.615934516909277"
      ]
     },
     "execution_count": 83,
     "metadata": {},
     "output_type": "execute_result"
    }
   ],
   "source": [
    "# MSE均方误差和\n",
    "from sklearn.metrics import mean_squared_error as MSE\n",
    "MSE(y_test,yHat) #均方误差"
   ]
  },
  {
   "cell_type": "code",
   "execution_count": 93,
   "id": "eae1aecb",
   "metadata": {},
   "outputs": [
    {
     "data": {
      "text/plain": [
       "['accuracy',\n",
       " 'adjusted_mutual_info_score',\n",
       " 'adjusted_rand_score',\n",
       " 'average_precision',\n",
       " 'balanced_accuracy',\n",
       " 'completeness_score',\n",
       " 'explained_variance',\n",
       " 'f1',\n",
       " 'f1_macro',\n",
       " 'f1_micro',\n",
       " 'f1_samples',\n",
       " 'f1_weighted',\n",
       " 'fowlkes_mallows_score',\n",
       " 'homogeneity_score',\n",
       " 'jaccard',\n",
       " 'jaccard_macro',\n",
       " 'jaccard_micro',\n",
       " 'jaccard_samples',\n",
       " 'jaccard_weighted',\n",
       " 'max_error',\n",
       " 'mutual_info_score',\n",
       " 'neg_brier_score',\n",
       " 'neg_log_loss',\n",
       " 'neg_mean_absolute_error',\n",
       " 'neg_mean_absolute_percentage_error',\n",
       " 'neg_mean_gamma_deviance',\n",
       " 'neg_mean_poisson_deviance',\n",
       " 'neg_mean_squared_error',\n",
       " 'neg_mean_squared_log_error',\n",
       " 'neg_median_absolute_error',\n",
       " 'neg_root_mean_squared_error',\n",
       " 'normalized_mutual_info_score',\n",
       " 'precision',\n",
       " 'precision_macro',\n",
       " 'precision_micro',\n",
       " 'precision_samples',\n",
       " 'precision_weighted',\n",
       " 'r2',\n",
       " 'rand_score',\n",
       " 'recall',\n",
       " 'recall_macro',\n",
       " 'recall_micro',\n",
       " 'recall_samples',\n",
       " 'recall_weighted',\n",
       " 'roc_auc',\n",
       " 'roc_auc_ovo',\n",
       " 'roc_auc_ovo_weighted',\n",
       " 'roc_auc_ovr',\n",
       " 'roc_auc_ovr_weighted',\n",
       " 'top_k_accuracy',\n",
       " 'v_measure_score']"
      ]
     },
     "execution_count": 93,
     "metadata": {},
     "output_type": "execute_result"
    }
   ],
   "source": [
    "import sklearn\n",
    "sorted(sklearn.metrics.SCORERS.keys())"
   ]
  },
  {
   "cell_type": "code",
   "execution_count": 94,
   "id": "05069e3b",
   "metadata": {},
   "outputs": [
    {
     "data": {
      "text/plain": [
       "array([-0.40044727, -0.55550722, -0.9033955 , -0.42100984, -0.809625  ,\n",
       "       -0.5670704 , -0.44944883, -0.9458456 , -0.9261885 , -0.40538178])"
      ]
     },
     "execution_count": 94,
     "metadata": {},
     "output_type": "execute_result"
    }
   ],
   "source": [
    "# 使用交叉验证\n",
    "cross_val_score(reg,x,y,cv=10,scoring=\"neg_mean_squared_error\") #一种损失（本质是一种损失）"
   ]
  },
  {
   "cell_type": "code",
   "execution_count": 95,
   "id": "6300efa9",
   "metadata": {},
   "outputs": [
    {
     "data": {
      "text/plain": [
       "array([-0.43673961, -0.6169903 , -0.6909458 , -0.50077044, -0.65985281,\n",
       "       -0.53940524, -0.55269627, -0.71563154, -0.72313296, -0.47228311])"
      ]
     },
     "execution_count": 95,
     "metadata": {},
     "output_type": "execute_result"
    }
   ],
   "source": [
    "# MAE绝对平均误差\n",
    "cross_val_score(reg,x,y,cv=10,scoring=\"neg_mean_absolute_error\") #MAE"
   ]
  },
  {
   "cell_type": "code",
   "execution_count": 103,
   "id": "32fda1e1",
   "metadata": {},
   "outputs": [
    {
     "data": {
      "text/plain": [
       "0.5409991450306522"
      ]
     },
     "execution_count": 103,
     "metadata": {},
     "output_type": "execute_result"
    }
   ],
   "source": [
    "# 使用R方进行评估\n",
    "# R^2=1-RSS/方差*m(样本数)\n",
    "from sklearn.metrics import r2_score\n",
    "r2_score(y_test,yHat) #相同评估指标，结果不一致(顺序必须真实值在前，预测值在后)"
   ]
  },
  {
   "cell_type": "code",
   "execution_count": 110,
   "id": "3d05bd87",
   "metadata": {},
   "outputs": [
    {
     "data": {
      "text/plain": [
       "0.5409991450306522"
      ]
     },
     "execution_count": 110,
     "metadata": {},
     "output_type": "execute_result"
    }
   ],
   "source": [
    "r2=reg.score(x_test,y_test)\n",
    "r2"
   ]
  },
  {
   "cell_type": "markdown",
   "id": "1ac2ef0d",
   "metadata": {},
   "source": [
    "##### 通过观察图像观察拟合效果\n",
    "\n"
   ]
  },
  {
   "cell_type": "code",
   "execution_count": 124,
   "id": "32fc9a27",
   "metadata": {},
   "outputs": [
    {
     "data": {
      "image/png": "[encoded data removed]",
      "text/plain": [
       "<Figure size 432x288 with 1 Axes>"
      ]
     },
     "metadata": {
      "needs_background": "light"
     },
     "output_type": "display_data"
    }
   ],
   "source": [
    "# 画图观察结果\n",
    "import matplotlib.pyplot as plt\n",
    "\n",
    "plt.plot(range(len(y_test)),sorted(y_test[0].tolist()),c=\"b\",label=\"True\")\n",
    "plt.plot(range(len(yHat)),sorted(yHat),c=\"r\",label=\"Predict\")\n",
    "\n",
    "plt.legend()\n",
    "plt.show()"
   ]
  },
  {
   "cell_type": "markdown",
   "id": "cc6c743f",
   "metadata": {},
   "source": [
    "### 自创数据，进行观察\n",
    "### R方可以为负数\n",
    "##### R^2=(ESS+2sum((y-y_mean)(yHat-y_mean)))/TSS ,当yHat-y_mean小于0时，就可能为负\n",
    "##### TSS=sum((y-y_mean)^2)\n",
    "##### ESS=sum((yHat-y_mean)^2)\n",
    "##### TSS=RSS+ESS 该表达式不是永远成立"
   ]
  },
  {
   "cell_type": "code",
   "execution_count": 123,
   "id": "811eaedb",
   "metadata": {},
   "outputs": [
    {
     "data": {
      "text/plain": [
       "array([-180.67246194,   -5.66780145,  -15.66792619,  -77.40687841,\n",
       "        -65.58285907])"
      ]
     },
     "execution_count": 123,
     "metadata": {},
     "output_type": "execute_result"
    }
   ],
   "source": [
    "import numpy as np\n",
    "rng=np.random.RandomState(42)\n",
    "x1=rng.randn(100,80)\n",
    "y1=rng.randn(100)\n",
    "\n",
    "cross_val_score(LR(),x1,y1,cv=5,scoring=\"r2\")"
   ]
  },
  {
   "cell_type": "code",
   "execution_count": 134,
   "id": "aef2524a",
   "metadata": {},
   "outputs": [
    {
     "data": {
      "text/plain": [
       "{'MedInc': '该街区住户的收入中位数',\n",
       " 'HouseAge': '该街区房屋使用年代的中位数',\n",
       " 'AveRooms': '该街区平均房间数目',\n",
       " 'AveBedrms': '该街区平均卧室数目',\n",
       " 'Population': '该街区人口',\n",
       " 'AveOccup': '平均入住率',\n",
       " 'Latitude': '街区的纬度',\n",
       " 'Longitude': '街区的经度'}"
      ]
     },
     "execution_count": 134,
     "metadata": {},
     "output_type": "execute_result"
    }
   ],
   "source": [
    "info=[\"该街区住户的收入中位数\",\"该街区房屋使用年代的中位数\",\"该街区平均房间数目\",\"该街区平均卧室数目\",\"该街区人口\",\"平均入住率\",\"街区的纬度\",\"街区的经度\"]\n",
    "info=dict(zip(x.columns,info))\n",
    "info"
   ]
  },
  {
   "cell_type": "markdown",
   "id": "0e512089",
   "metadata": {},
   "source": [
    "### 多重线性回归\n"
   ]
  },
  {
   "cell_type": "markdown",
   "id": "9d21430c",
   "metadata": {},
   "source": [
    "### 多重共线性\n",
    "##### 精确相关关系（完全相关）：一行可以由另外一行线性表示\n",
    "##### 高度相关关系：两行不线性相关，但是矩阵的行列式非常接近于0。会使得w趋于无穷"
   ]
  },
  {
   "cell_type": "code",
   "execution_count": 139,
   "id": "af0b693d",
   "metadata": {},
   "outputs": [
    {
     "data": {
      "text/plain": [
       "0.6043610352312285"
      ]
     },
     "execution_count": 139,
     "metadata": {},
     "output_type": "execute_result"
    }
   ],
   "source": [
    "# 对于多重共线性\n",
    "# 1.使用统计学的先验思路\n",
    "# 2.使用向前逐步回归\n",
    "# 3.改进线性回归\n",
    "\n",
    "### 3.改进线性回归\n",
    "### 岭回归:通过加入一个正则化项，使得行列式满秩（存在逆矩阵）\n",
    "\n",
    "from sklearn.linear_model import Ridge,LinearRegression,Lasso\n",
    "import pandas as pd\n",
    "import numpy as np\n",
    "from sklearn.datasets import fetch_california_housing as fch\n",
    "import matplotlib.pyplot as plt\n",
    "\n",
    "\n",
    "h=fch()\n",
    "\n",
    "x=pd.DataFrame(h.data)\n",
    "y=h.target\n",
    "\n",
    "x.columns=h.feature_names\n",
    "x.head()\n",
    "\n",
    "\n",
    "# 使用岭回归\n",
    "# 加入正则项\n",
    "x_train,x_test,y_train,y_test=train_test_split(x,y,test_size=0.3,random_state=420)\n",
    "reg=Ridge(alpha=1).fit(x_train,y_train)\n",
    "reg.score(x_test,y_test)"
   ]
  },
  {
   "cell_type": "code",
   "execution_count": 142,
   "id": "9c674266",
   "metadata": {},
   "outputs": [
    {
     "data": {
      "image/png": "[encoded data removed]",
      "text/plain": [
       "<Figure size 432x288 with 1 Axes>"
      ]
     },
     "metadata": {
      "needs_background": "light"
     },
     "output_type": "display_data"
    }
   ],
   "source": [
    "# 根据不同alpha取值绘制图像\n",
    "\n",
    "alpharange=np.arange(1,200,10)\n",
    "ridge,lr=[],[]\n",
    "\n",
    "for alpha in alpharange:\n",
    "    reg=Ridge(alpha=alpha)\n",
    "    linear=LinearRegression()\n",
    "    ridge.append(cross_val_score(reg,x,y,cv=5,scoring=\"r2\").mean())\n",
    "    lr.append(cross_val_score(linear,x,y,cv=5,scoring=\"r2\").mean())\n",
    "    \n",
    "plt.plot(alpharange,ridge,c=\"b\",label=\"Ridge\")\n",
    "plt.plot(alpharange,lr,c=\"r\",label=\"Linear\")\n",
    "plt.title(\"Mean\")\n",
    "plt.xlabel(\"alpharange\")\n",
    "plt.ylabel(\"r2 score\")\n",
    "plt.legend()\n",
    "plt.show()"
   ]
  },
  {
   "cell_type": "code",
   "execution_count": 143,
   "id": "c6dad35a",
   "metadata": {},
   "outputs": [
    {
     "data": {
      "image/png": "[encoded data removed]",
      "text/plain": [
       "<Figure size 432x288 with 1 Axes>"
      ]
     },
     "metadata": {
      "needs_background": "light"
     },
     "output_type": "display_data"
    }
   ],
   "source": [
    "# 根据不同alpha取值绘制图像\n",
    "\n",
    "alpharange=np.arange(1,200,10)\n",
    "ridge,lr=[],[]\n",
    "\n",
    "for alpha in alpharange:\n",
    "    reg=Ridge(alpha=alpha)\n",
    "    linear=LinearRegression()\n",
    "    ridge.append(cross_val_score(reg,x,y,cv=5,scoring=\"r2\").var())\n",
    "    lr.append(cross_val_score(linear,x,y,cv=5,scoring=\"r2\").var())\n",
    "    \n",
    "plt.plot(alpharange,ridge,c=\"b\",label=\"Ridge\")\n",
    "plt.plot(alpharange,lr,c=\"r\",label=\"Linear\")\n",
    "plt.title(\"Variance\")\n",
    "plt.xlabel(\"alpharange\")\n",
    "plt.ylabel(\"r2 score\")\n",
    "plt.legend()\n",
    "plt.show()"
   ]
  },
  {
   "cell_type": "markdown",
   "id": "4f638984",
   "metadata": {},
   "source": [
    "### 使用波士顿房价数据集"
   ]
  },
  {
   "cell_type": "code",
   "execution_count": 145,
   "id": "2fe48d72",
   "metadata": {},
   "outputs": [
    {
     "data": {
      "text/plain": [
       "(506, 13)"
      ]
     },
     "execution_count": 145,
     "metadata": {},
     "output_type": "execute_result"
    }
   ],
   "source": [
    "from sklearn.datasets import load_boston\n",
    "from sklearn.model_selection import cross_val_score\n",
    "\n",
    "x=load_boston().data\n",
    "y=load_boston().target\n",
    "\n",
    "x_train,x_test,y_train,y_test=train_test_split(x,y,test_size=0.3,random_state=420)\n",
    "x.shape"
   ]
  },
  {
   "cell_type": "code",
   "execution_count": 147,
   "id": "083d6add",
   "metadata": {},
   "outputs": [
    {
     "data": {
      "image/png": "[encoded data removed]",
      "text/plain": [
       "<Figure size 432x288 with 1 Axes>"
      ]
     },
     "metadata": {
      "needs_background": "light"
     },
     "output_type": "display_data"
    }
   ],
   "source": [
    "# 查看方差变化(说明存在高度相关)\n",
    "# 根据不同alpha取值绘制图像\n",
    "\n",
    "alpharange=np.arange(1,1001,100)\n",
    "ridge,lr=[],[]\n",
    "\n",
    "for alpha in alpharange:\n",
    "    reg=Ridge(alpha=alpha)\n",
    "    linear=LinearRegression()\n",
    "    ridge.append(cross_val_score(reg,x,y,cv=5,scoring=\"r2\").var())\n",
    "    lr.append(cross_val_score(linear,x,y,cv=5,scoring=\"r2\").var())\n",
    "    \n",
    "plt.plot(alpharange,ridge,c=\"b\",label=\"Ridge\")\n",
    "plt.plot(alpharange,lr,c=\"r\",label=\"Linear\")\n",
    "plt.title(\"Variance\")\n",
    "plt.xlabel(\"alpharange\")\n",
    "plt.ylabel(\"r2 score\")\n",
    "plt.legend()\n",
    "plt.show()"
   ]
  },
  {
   "cell_type": "code",
   "execution_count": 149,
   "id": "8f0e6605",
   "metadata": {},
   "outputs": [
    {
     "data": {
      "image/png": "[encoded data removed]",
      "text/plain": [
       "<Figure size 432x288 with 1 Axes>"
      ]
     },
     "metadata": {
      "needs_background": "light"
     },
     "output_type": "display_data"
    }
   ],
   "source": [
    "# 根据不同alpha取值绘制图像\n",
    "\n",
    "alpharange=np.arange(1,1001,100)\n",
    "ridge,lr=[],[]\n",
    "\n",
    "for alpha in alpharange:\n",
    "    reg=Ridge(alpha=alpha)\n",
    "    linear=LinearRegression()\n",
    "    ridge.append(cross_val_score(reg,x,y,cv=5,scoring=\"r2\").mean())\n",
    "    lr.append(cross_val_score(linear,x,y,cv=5,scoring=\"r2\").mean())\n",
    "    \n",
    "plt.plot(alpharange,ridge,c=\"b\",label=\"Ridge\")\n",
    "plt.plot(alpharange,lr,c=\"r\",label=\"Linear\")\n",
    "plt.title(\"Mean\")\n",
    "plt.xlabel(\"alpharange\")\n",
    "plt.ylabel(\"r2 score\")\n",
    "plt.legend()\n",
    "plt.show()"
   ]
  },
  {
   "cell_type": "markdown",
   "id": "93bb2d6e",
   "metadata": {},
   "source": [
    "### 选取最佳正则化参数"
   ]
  },
  {
   "cell_type": "code",
   "execution_count": 154,
   "id": "7071ebdb",
   "metadata": {},
   "outputs": [
    {
     "data": {
      "image/png": "[encoded data removed]",
      "text/plain": [
       "<Figure size 432x288 with 1 Axes>"
      ]
     },
     "metadata": {
      "needs_background": "light"
     },
     "output_type": "display_data"
    },
    {
     "name": "stdout",
     "output_type": "stream",
     "text": [
      "线条交叉越多，特征之间的多重共线性越高\n",
      "应该选择系数较为平稳的喇叭口所对应的alpha值作为参数\n"
     ]
    }
   ],
   "source": [
    "##### 岭迹图（alpha与参数w）\n",
    "\n",
    "import numpy as np\n",
    "import matplotlib.pyplot as plt\n",
    "from sklearn import linear_model\n",
    "\n",
    "# 创造西伯尔特矩阵\n",
    "x=1./(np.arange(1,11)+np.arange(0,10)[:,np.newaxis])\n",
    "y=np.ones(10)\n",
    "\n",
    "# 计算横坐标\n",
    "n_alphas=200\n",
    "alphas=np.logspace(-10,-2,n_alphas)\n",
    "\n",
    "#建模，获取每一个正则化值下的系数组合\n",
    "coefs=[]\n",
    "for a in alphas:\n",
    "    ridge=linear_model.Ridge(alpha=a,fit_intercept=False)\n",
    "    ridge.fit(x,y)\n",
    "    coefs.append(ridge.coef_)\n",
    "    \n",
    "# 绘制图像\n",
    "ax=plt.gca()\n",
    "ax.plot(alphas,coefs)\n",
    "ax.set_xscale('log')\n",
    "ax.set_xlim(ax.get_xlim()[::-1]) #将横坐标逆转\n",
    "plt.xlabel(\"alpha\")\n",
    "plt.ylabel(\"w\")\n",
    "plt.title(\"ridge_tr_picture\")\n",
    "plt.axis(\"tight\")\n",
    "plt.show()\n",
    "\n",
    "print(\"线条交叉越多，特征之间的多重共线性越高\")\n",
    "print(\"应该选择系数较为平稳的喇叭口所对应的alpha值作为参数\")"
   ]
  },
  {
   "cell_type": "markdown",
   "id": "000e61e6",
   "metadata": {},
   "source": [
    "### 岭回归交叉验证\n",
    "##### alpha:需要测试的正则化参数范围\n",
    "##### scoring:默认为R方,评估指标\n",
    "##### store_cv_values ：是否保存每次交叉验证的结果，默认为False\n",
    "##### cv:交叉折数，默认留一交叉验证\n",
    "\n",
    "##### alpha_:查看选中的alpha\n",
    "##### cv_values:调用所有交叉验证的结果\n",
    "##### score:返回R方\n",
    "\n"
   ]
  },
  {
   "cell_type": "code",
   "execution_count": 172,
   "id": "7ce04a99",
   "metadata": {},
   "outputs": [
    {
     "data": {
      "text/plain": [
       "0.6060251767338423"
      ]
     },
     "execution_count": 172,
     "metadata": {},
     "output_type": "execute_result"
    }
   ],
   "source": [
    "from sklearn.linear_model import RidgeCV,LinearRegression\n",
    "from sklearn.linear_model import Lasso\n",
    "import pandas as pd\n",
    "import numpy as np\n",
    "from sklearn.datasets import fetch_california_housing as fch\n",
    "import matplotlib.pyplot as plt\n",
    "\n",
    "h=fch()\n",
    "x=pd.DataFrame(h.data)\n",
    "y=h.target\n",
    "x.columns=h.feature_names\n",
    "\n",
    "x_train,x_test,y_train,y_test=train_test_split(x,y,test_size=0.3,random_state=420)\n",
    "\n",
    "Ridge_=RidgeCV(alphas=np.arange(1,1001,100)\n",
    "               ,scoring=\"neg_mean_squared_error\"\n",
    "              ,store_cv_values=True\n",
    "              # ,cv=5 #不为空h时不会保存交叉结果\n",
    "              ).fit(x,y)\n",
    "\n",
    "Ridge_.score(x_test,y_test)\n",
    "Ridge_.score(x,y)"
   ]
  },
  {
   "cell_type": "code",
   "execution_count": 173,
   "id": "67dec3c4",
   "metadata": {},
   "outputs": [
    {
     "data": {
      "text/plain": [
       "array([-6.10618033e-05, -9.07302179e-05, -1.11785961e-04, -1.27544011e-04,\n",
       "       -1.39823410e-04, -1.49699514e-04, -1.57846229e-04, -1.64706208e-04,\n",
       "       -1.70581703e-04, -1.75685916e-04])"
      ]
     },
     "execution_count": 173,
     "metadata": {},
     "output_type": "execute_result"
    }
   ],
   "source": [
    "Ridge_.cv_values_.mean(axis=0) #平均得分"
   ]
  },
  {
   "cell_type": "code",
   "execution_count": 174,
   "id": "b7ebcc28",
   "metadata": {},
   "outputs": [
    {
     "data": {
      "text/plain": [
       "101"
      ]
     },
     "execution_count": 174,
     "metadata": {},
     "output_type": "execute_result"
    }
   ],
   "source": [
    "Ridge_.alpha_ #最佳正则化项"
   ]
  },
  {
   "cell_type": "markdown",
   "id": "ee267d73",
   "metadata": {},
   "source": [
    "### 使用Lasso（最小绝对收缩和选择算子）\n",
    "##### Lasso无法解决特征之间精确相关的问题\n",
    "##### 如果线性回归无解或者报除0错误，使用Lasso不能解决问题"
   ]
  },
  {
   "cell_type": "code",
   "execution_count": 213,
   "id": "55f036bf",
   "metadata": {},
   "outputs": [
    {
     "data": {
      "text/html": [
       "<div>\n",
       "<style scoped>\n",
       "    .dataframe tbody tr th:only-of-type {\n",
       "        vertical-align: middle;\n",
       "    }\n",
       "\n",
       "    .dataframe tbody tr th {\n",
       "        vertical-align: top;\n",
       "    }\n",
       "\n",
       "    .dataframe thead th {\n",
       "        text-align: right;\n",
       "    }\n",
       "</style>\n",
       "<table border=\"1\" class=\"dataframe\">\n",
       "  <thead>\n",
       "    <tr style=\"text-align: right;\">\n",
       "      <th></th>\n",
       "      <th>MedInc</th>\n",
       "      <th>HouseAge</th>\n",
       "      <th>AveRooms</th>\n",
       "      <th>AveBedrms</th>\n",
       "      <th>Population</th>\n",
       "      <th>AveOccup</th>\n",
       "      <th>Latitude</th>\n",
       "      <th>Longitude</th>\n",
       "    </tr>\n",
       "  </thead>\n",
       "  <tbody>\n",
       "    <tr>\n",
       "      <th>0</th>\n",
       "      <td>4.1776</td>\n",
       "      <td>35.0</td>\n",
       "      <td>4.425172</td>\n",
       "      <td>1.030683</td>\n",
       "      <td>5380.0</td>\n",
       "      <td>3.368817</td>\n",
       "      <td>37.48</td>\n",
       "      <td>-122.19</td>\n",
       "    </tr>\n",
       "    <tr>\n",
       "      <th>1</th>\n",
       "      <td>5.3261</td>\n",
       "      <td>38.0</td>\n",
       "      <td>6.267516</td>\n",
       "      <td>1.089172</td>\n",
       "      <td>429.0</td>\n",
       "      <td>2.732484</td>\n",
       "      <td>37.53</td>\n",
       "      <td>-122.30</td>\n",
       "    </tr>\n",
       "    <tr>\n",
       "      <th>2</th>\n",
       "      <td>1.9439</td>\n",
       "      <td>26.0</td>\n",
       "      <td>5.768977</td>\n",
       "      <td>1.141914</td>\n",
       "      <td>891.0</td>\n",
       "      <td>2.940594</td>\n",
       "      <td>36.02</td>\n",
       "      <td>-119.08</td>\n",
       "    </tr>\n",
       "    <tr>\n",
       "      <th>3</th>\n",
       "      <td>2.5000</td>\n",
       "      <td>22.0</td>\n",
       "      <td>4.916000</td>\n",
       "      <td>1.012000</td>\n",
       "      <td>733.0</td>\n",
       "      <td>2.932000</td>\n",
       "      <td>38.57</td>\n",
       "      <td>-121.31</td>\n",
       "    </tr>\n",
       "    <tr>\n",
       "      <th>4</th>\n",
       "      <td>3.8250</td>\n",
       "      <td>34.0</td>\n",
       "      <td>5.036765</td>\n",
       "      <td>1.098039</td>\n",
       "      <td>1134.0</td>\n",
       "      <td>2.779412</td>\n",
       "      <td>33.91</td>\n",
       "      <td>-118.35</td>\n",
       "    </tr>\n",
       "  </tbody>\n",
       "</table>\n",
       "</div>"
      ],
      "text/plain": [
       "   MedInc  HouseAge  AveRooms  AveBedrms  Population  AveOccup  Latitude  \\\n",
       "0  4.1776      35.0  4.425172   1.030683      5380.0  3.368817     37.48   \n",
       "1  5.3261      38.0  6.267516   1.089172       429.0  2.732484     37.53   \n",
       "2  1.9439      26.0  5.768977   1.141914       891.0  2.940594     36.02   \n",
       "3  2.5000      22.0  4.916000   1.012000       733.0  2.932000     38.57   \n",
       "4  3.8250      34.0  5.036765   1.098039      1134.0  2.779412     33.91   \n",
       "\n",
       "   Longitude  \n",
       "0    -122.19  \n",
       "1    -122.30  \n",
       "2    -119.08  \n",
       "3    -121.31  \n",
       "4    -118.35  "
      ]
     },
     "execution_count": 213,
     "metadata": {},
     "output_type": "execute_result"
    }
   ],
   "source": [
    "from sklearn.linear_model import Lasso,Ridge #可以用来做特征选择\n",
    "from sklearn.model_selection import cross_val_score,train_test_split\n",
    "from sklearn.datasets import fetch_california_housing as fch\n",
    "\n",
    "import numpy as np\n",
    "import pandas as pd\n",
    "\n",
    "\n",
    "f=fch()\n",
    "x=pd.DataFrame(f.data)\n",
    "x.columns=f.feature_names\n",
    "\n",
    "y=f.target\n",
    "\n",
    "x_train,x_test,y_train,y_test=train_test_split(x,y,test_size=0.3,random_state=420)\n",
    "for i in [x_train,x_test]:\n",
    "    i.index=range(i.shape[0])\n",
    "    \n",
    "x_train.head()"
   ]
  },
  {
   "cell_type": "code",
   "execution_count": 214,
   "id": "6cbae027",
   "metadata": {},
   "outputs": [
    {
     "data": {
      "text/plain": [
       "[43.73589305968394,\n",
       " 1.0211268294493865,\n",
       " -10.780721617317587,\n",
       " 62.643382753637525,\n",
       " 5.2161253533133944e-05,\n",
       " -0.33485096463337294,\n",
       " -41.30959378947716,\n",
       " -42.62109536208476]"
      ]
     },
     "execution_count": 214,
     "metadata": {},
     "output_type": "execute_result"
    }
   ],
   "source": [
    "# 线性回归进行拟合\n",
    "reg=LinearRegression().fit(x_train,y_train)\n",
    "(reg.coef_*100).tolist() #查看系数"
   ]
  },
  {
   "cell_type": "code",
   "execution_count": 217,
   "id": "0b262fd8",
   "metadata": {},
   "outputs": [
    {
     "data": {
      "text/plain": [
       "[43.72233876552478,\n",
       " 1.021366930100733,\n",
       " -10.754651565416,\n",
       " 62.50772248729578,\n",
       " 5.310340112609561e-05,\n",
       " -0.33481978032109433,\n",
       " -41.307341363589174,\n",
       " -42.616934171697345]"
      ]
     },
     "execution_count": 217,
     "metadata": {},
     "output_type": "execute_result"
    }
   ],
   "source": [
    "# 岭回归进行拟合\n",
    "ridge=Ridge(alpha=1).fit(x_train,y_train)\n",
    "(ridge.coef_*100).tolist()"
   ]
  },
  {
   "cell_type": "code",
   "execution_count": 218,
   "id": "05a76dac",
   "metadata": {},
   "outputs": [
    {
     "data": {
      "text/plain": [
       "[40.10568371834486,\n",
       " 1.0936292607860139,\n",
       " -3.742376361024466,\n",
       " 26.524037834897214,\n",
       " 0.00035253685115039585,\n",
       " -0.3207129394887794,\n",
       " -40.0648304734484,\n",
       " -40.81754399163315]"
      ]
     },
     "execution_count": 218,
     "metadata": {},
     "output_type": "execute_result"
    }
   ],
   "source": [
    "# Lasso回归\n",
    "lasso=Lasso(alpha=0.01).fit(x_train,y_train)\n",
    "(lasso.coef_*100).tolist() #查看系数（Lasso对alpha取值敏感）"
   ]
  },
  {
   "cell_type": "code",
   "execution_count": 220,
   "id": "bf615790",
   "metadata": {},
   "outputs": [
    {
     "data": {
      "image/png": "[encoded data removed]",
      "text/plain": [
       "<Figure size 432x288 with 1 Axes>"
      ]
     },
     "metadata": {
      "needs_background": "light"
     },
     "output_type": "display_data"
    }
   ],
   "source": [
    "# 使用绘图进行比较\n",
    "plt.plot(range(1,9),(reg.coef_*100).tolist(),color=\"r\",label=\"LR\")\n",
    "plt.plot(range(1,9),(ridge.coef_*100).tolist(),color=\"b\",label=\"Ridge\")\n",
    "plt.plot(range(1,9),(lasso.coef_*100).tolist(),color=\"g\",label=\"Lasso\")\n",
    "plt.plot(range(1,9),[0]*8,c=\"gray\",linestyle=\"--\")\n",
    "plt.xlabel(\"w\")\n",
    "plt.legend()\n",
    "plt.show()"
   ]
  },
  {
   "cell_type": "markdown",
   "id": "3398d72b",
   "metadata": {},
   "source": [
    "### 选取最佳正则化参数"
   ]
  },
  {
   "cell_type": "code",
   "execution_count": 228,
   "id": "ef16766e",
   "metadata": {},
   "outputs": [
    {
     "data": {
      "text/plain": [
       "(200,)"
      ]
     },
     "execution_count": 228,
     "metadata": {},
     "output_type": "execute_result"
    }
   ],
   "source": [
    "from sklearn.linear_model import LassoCV\n",
    "# 参数：eps:正则化路径长度，默认为0,01\n",
    "# n_alphas:正则化路径中alpha的个数,默认100\n",
    "# alphas:需要测试的正则化参数的取值的元组，默认为None,当不输入时，自定使用eps和n_slphas自定生成\n",
    "# cv:交叉验证的折数，默认3折交叉验证\n",
    "# 属性\n",
    "# alpha_：最佳alpha参数\n",
    "# alphas_:使用正则化路径长度\n",
    "# coef_:调用最佳正则化时的系数\n",
    "from sklearn.datasets import fetch_california_housing as fch\n",
    "\n",
    "import numpy as np\n",
    "import pandas as pd\n",
    "\n",
    "\n",
    "f=fch()\n",
    "x=pd.DataFrame(f.data)\n",
    "x.columns=f.feature_names\n",
    "\n",
    "y=f.target\n",
    "\n",
    "x_train,x_test,y_train,y_test=train_test_split(x,y,test_size=0.3,random_state=420)\n",
    "for i in [x_train,x_test]:\n",
    "    i.index=range(i.shape[0])\n",
    "    \n",
    "x_train.head()\n",
    "\n",
    "\n",
    "alpharange=np.logspace(-10,-2,200,base=10)\n",
    "alpharange.shape"
   ]
  },
  {
   "cell_type": "code",
   "execution_count": 229,
   "id": "bb999e2e",
   "metadata": {},
   "outputs": [
    {
     "data": {
      "text/plain": [
       "0.0020729217795953697"
      ]
     },
     "execution_count": 229,
     "metadata": {},
     "output_type": "execute_result"
    }
   ],
   "source": [
    "# 使用交叉验证\n",
    "lasso_=LassoCV(alphas=alpharange\n",
    "               ,cv=5\n",
    "              ).fit(x_train,y_train)\n",
    "lasso_.alpha_ #最佳参数"
   ]
  },
  {
   "cell_type": "code",
   "execution_count": 234,
   "id": "6114f0e8",
   "metadata": {},
   "outputs": [
    {
     "data": {
      "text/plain": [
       "(200, 5)"
      ]
     },
     "execution_count": 234,
     "metadata": {},
     "output_type": "execute_result"
    }
   ],
   "source": [
    "lasso_.mse_path_.shape #返回每一个alpha下的五折交叉验证结果"
   ]
  },
  {
   "cell_type": "code",
   "execution_count": 236,
   "id": "029d1ba7",
   "metadata": {},
   "outputs": [
    {
     "data": {
      "text/plain": [
       "array([0.52816924, 0.52742297, 0.5268146 , 0.52632488, 0.52593241,\n",
       "       0.52561942, 0.52537133, 0.5251761 , 0.52502385, 0.52490641,\n",
       "       0.52481712, 0.52475046, 0.52470198, 0.52466795, 0.52464541,\n",
       "       0.52463188, 0.5246254 , 0.52462436, 0.52462744, 0.52463361,\n",
       "       0.52464201, 0.52465199, 0.52466301, 0.52467466, 0.5246866 ,\n",
       "       0.5246986 , 0.52471046, 0.52472203, 0.5247332 , 0.52474392,\n",
       "       0.52475413, 0.52476379, 0.52477291, 0.52478147, 0.52478949,\n",
       "       0.52479697, 0.52480393, 0.52481039, 0.52481639, 0.52482193,\n",
       "       0.52482706, 0.52483179, 0.52483615, 0.52484016, 0.52484385,\n",
       "       0.52484725, 0.52485036, 0.52485322, 0.52485584, 0.52485824,\n",
       "       0.52486044, 0.52486246, 0.5248643 , 0.52486599, 0.52486753,\n",
       "       0.52486895, 0.52487024, 0.52487141, 0.52487249, 0.52487348,\n",
       "       0.52487437, 0.52487519, 0.52487594, 0.52487663, 0.52487725,\n",
       "       0.52487782, 0.52487834, 0.52487882, 0.52487925, 0.52487965,\n",
       "       0.52488001, 0.52488033, 0.52488063, 0.52488091, 0.52488116,\n",
       "       0.52488138, 0.52488159, 0.52488178, 0.52488195, 0.52488211,\n",
       "       0.52488225, 0.52488239, 0.5248825 , 0.52488261, 0.52488271,\n",
       "       0.5248828 , 0.52488289, 0.52488296, 0.52488303, 0.52488309,\n",
       "       0.52488315, 0.5248832 , 0.52488325, 0.52488329, 0.52488333,\n",
       "       0.52488337, 0.5248834 , 0.52488343, 0.52488346, 0.52488348,\n",
       "       0.5248835 , 0.52488352, 0.52488354, 0.52488356, 0.52488357,\n",
       "       0.52488359, 0.5248836 , 0.52488361, 0.52488362, 0.52488363,\n",
       "       0.52488364, 0.52488365, 0.52488366, 0.52488367, 0.52488367,\n",
       "       0.52488368, 0.52488368, 0.52488369, 0.52488369, 0.5248837 ,\n",
       "       0.5248837 , 0.5248837 , 0.52488371, 0.52488371, 0.52488371,\n",
       "       0.52488371, 0.52488371, 0.52488372, 0.52488372, 0.52488372,\n",
       "       0.52488372, 0.52488372, 0.52488372, 0.52488372, 0.52488373,\n",
       "       0.52488373, 0.52488373, 0.52488373, 0.52488373, 0.52488373,\n",
       "       0.52488373, 0.52488373, 0.52488373, 0.52488373, 0.52488373,\n",
       "       0.52488373, 0.52488373, 0.52488373, 0.52488373, 0.52488373,\n",
       "       0.52488373, 0.52488373, 0.52488373, 0.52488373, 0.52488373,\n",
       "       0.52488373, 0.52488373, 0.52488373, 0.52488373, 0.52488373,\n",
       "       0.52488373, 0.52488373, 0.52488374, 0.52488374, 0.52488374,\n",
       "       0.52488374, 0.52488374, 0.52488374, 0.52488374, 0.52488374,\n",
       "       0.52488374, 0.52488374, 0.52488374, 0.52488374, 0.52488374,\n",
       "       0.52488374, 0.52488374, 0.52488374, 0.52488374, 0.52488374,\n",
       "       0.52488374, 0.52488374, 0.52488374, 0.52488374, 0.52488374,\n",
       "       0.52488374, 0.52488374, 0.52488374, 0.52488374, 0.52488374,\n",
       "       0.52488374, 0.52488374, 0.52488374, 0.52488374, 0.52488374,\n",
       "       0.52488374, 0.52488374, 0.52488374, 0.52488374, 0.52488374])"
      ]
     },
     "execution_count": 236,
     "metadata": {},
     "output_type": "execute_result"
    }
   ],
   "source": [
    "lasso_.mse_path_.mean(axis=1) #均方误差"
   ]
  },
  {
   "cell_type": "code",
   "execution_count": 237,
   "id": "7dad2b21",
   "metadata": {},
   "outputs": [
    {
     "data": {
      "text/plain": [
       "array([ 4.29867301e-01,  1.03623683e-02, -9.32648616e-02,  5.51755252e-01,\n",
       "        1.14732262e-06, -3.31941716e-03, -4.10451223e-01, -4.22410330e-01])"
      ]
     },
     "execution_count": 237,
     "metadata": {},
     "output_type": "execute_result"
    }
   ],
   "source": [
    "lasso_.coef_ #查看系数"
   ]
  },
  {
   "cell_type": "code",
   "execution_count": 247,
   "id": "95b34561",
   "metadata": {},
   "outputs": [
    {
     "data": {
      "text/plain": [
       "0.6038982670571436"
      ]
     },
     "execution_count": 247,
     "metadata": {},
     "output_type": "execute_result"
    }
   ],
   "source": [
    "lasso_.score(x_test,y_test)"
   ]
  },
  {
   "cell_type": "code",
   "execution_count": 238,
   "id": "84a4681b",
   "metadata": {},
   "outputs": [
    {
     "data": {
      "text/plain": [
       "0.0020954551690628557"
      ]
     },
     "execution_count": 238,
     "metadata": {},
     "output_type": "execute_result"
    }
   ],
   "source": [
    "# 使用自动生成alpha范围\n",
    "ls_=LassoCV(eps=0.00001 #正则化步长\n",
    "           ,n_alphas=300 #选择正则化数目\n",
    "           ,cv=5\n",
    "            ).fit(x_train,y_train)\n",
    "\n",
    "ls_.alpha_ #最佳参数"
   ]
  },
  {
   "cell_type": "code",
   "execution_count": 239,
   "id": "d0043c6a",
   "metadata": {},
   "outputs": [
    {
     "data": {
      "text/plain": [
       "array([2.94059737e+01, 2.82952253e+01, 2.72264331e+01, 2.61980122e+01,\n",
       "       2.52084378e+01, 2.42562424e+01, 2.33400142e+01, 2.24583946e+01,\n",
       "       2.16100763e+01, 2.07938014e+01, 2.00083596e+01, 1.92525862e+01,\n",
       "       1.85253605e+01, 1.78256042e+01, 1.71522798e+01, 1.65043887e+01,\n",
       "       1.58809704e+01, 1.52811004e+01, 1.47038891e+01, 1.41484809e+01,\n",
       "       1.36140520e+01, 1.30998100e+01, 1.26049924e+01, 1.21288655e+01,\n",
       "       1.16707233e+01, 1.12298864e+01, 1.08057012e+01, 1.03975388e+01,\n",
       "       1.00047937e+01, 9.62688384e+00, 9.26324869e+00, 8.91334908e+00,\n",
       "       8.57666619e+00, 8.25270079e+00, 7.94097249e+00, 7.64101907e+00,\n",
       "       7.35239575e+00, 7.07467457e+00, 6.80744372e+00, 6.55030695e+00,\n",
       "       6.30288297e+00, 6.06480491e+00, 5.83571975e+00, 5.61528779e+00,\n",
       "       5.40318218e+00, 5.19908842e+00, 5.00270386e+00, 4.81373731e+00,\n",
       "       4.63190858e+00, 4.45694804e+00, 4.28859627e+00, 4.12660362e+00,\n",
       "       3.97072991e+00, 3.82074399e+00, 3.67642348e+00, 3.53755437e+00,\n",
       "       3.40393074e+00, 3.27535446e+00, 3.15163488e+00, 3.03258855e+00,\n",
       "       2.91803894e+00, 2.80781620e+00, 2.70175688e+00, 2.59970374e+00,\n",
       "       2.50150543e+00, 2.40701636e+00, 2.31609642e+00, 2.22861078e+00,\n",
       "       2.14442973e+00, 2.06342843e+00, 1.98548679e+00, 1.91048923e+00,\n",
       "       1.83832455e+00, 1.76888573e+00, 1.70206982e+00, 1.63777773e+00,\n",
       "       1.57591415e+00, 1.51638733e+00, 1.45910901e+00, 1.40399425e+00,\n",
       "       1.35096134e+00, 1.29993164e+00, 1.25082947e+00, 1.20358204e+00,\n",
       "       1.15811928e+00, 1.11437377e+00, 1.07228066e+00, 1.03177753e+00,\n",
       "       9.92804320e-01, 9.55303239e-01, 9.19218682e-01, 8.84497142e-01,\n",
       "       8.51087135e-01, 8.18939121e-01, 7.88005430e-01, 7.58240193e-01,\n",
       "       7.29599275e-01, 7.02040207e-01, 6.75522125e-01, 6.50005707e-01,\n",
       "       6.25453118e-01, 6.01827951e-01, 5.79095174e-01, 5.57221080e-01,\n",
       "       5.36173234e-01, 5.15920425e-01, 4.96432623e-01, 4.77680932e-01,\n",
       "       4.59637546e-01, 4.42275711e-01, 4.25569683e-01, 4.09494689e-01,\n",
       "       3.94026894e-01, 3.79143363e-01, 3.64822025e-01, 3.51041645e-01,\n",
       "       3.37781790e-01, 3.25022798e-01, 3.12745750e-01, 3.00932442e-01,\n",
       "       2.89565356e-01, 2.78627638e-01, 2.68103069e-01, 2.57976043e-01,\n",
       "       2.48231544e-01, 2.38855123e-01, 2.29832877e-01, 2.21151426e-01,\n",
       "       2.12797900e-01, 2.04759910e-01, 1.97025538e-01, 1.89583315e-01,\n",
       "       1.82422207e-01, 1.75531594e-01, 1.68901260e-01, 1.62521372e-01,\n",
       "       1.56382472e-01, 1.50475455e-01, 1.44791563e-01, 1.39322368e-01,\n",
       "       1.34059761e-01, 1.28995937e-01, 1.24123389e-01, 1.19434891e-01,\n",
       "       1.14923491e-01, 1.10582499e-01, 1.06405479e-01, 1.02386238e-01,\n",
       "       9.85188143e-02, 9.47974747e-02, 9.12167008e-02, 8.77711831e-02,\n",
       "       8.44558125e-02, 8.12656730e-02, 7.81960343e-02, 7.52423447e-02,\n",
       "       7.24002244e-02, 6.96654592e-02, 6.70339940e-02, 6.45019268e-02,\n",
       "       6.20655031e-02, 5.97211101e-02, 5.74652717e-02, 5.52946427e-02,\n",
       "       5.32060046e-02, 5.11962605e-02, 4.92624301e-02, 4.74016461e-02,\n",
       "       4.56111493e-02, 4.38882847e-02, 4.22304977e-02, 4.06353301e-02,\n",
       "       3.91004165e-02, 3.76234811e-02, 3.62023337e-02, 3.48348672e-02,\n",
       "       3.35190539e-02, 3.22529426e-02, 3.10346560e-02, 2.98623876e-02,\n",
       "       2.87343991e-02, 2.76490180e-02, 2.66046349e-02, 2.55997012e-02,\n",
       "       2.46327267e-02, 2.37022776e-02, 2.28069742e-02, 2.19454891e-02,\n",
       "       2.11165447e-02, 2.03189119e-02, 1.95514080e-02, 1.88128950e-02,\n",
       "       1.81022777e-02, 1.74185025e-02, 1.67605555e-02, 1.61274610e-02,\n",
       "       1.55182803e-02, 1.49321101e-02, 1.43680812e-02, 1.38253574e-02,\n",
       "       1.33031338e-02, 1.28006361e-02, 1.23171192e-02, 1.18518661e-02,\n",
       "       1.14041869e-02, 1.09734179e-02, 1.05589203e-02, 1.01600794e-02,\n",
       "       9.77630394e-03, 9.40702475e-03, 9.05169431e-03, 8.70978573e-03,\n",
       "       8.38079201e-03, 8.06422534e-03, 7.75961630e-03, 7.46651323e-03,\n",
       "       7.18448150e-03, 6.91310292e-03, 6.65197510e-03, 6.40071082e-03,\n",
       "       6.15893752e-03, 5.92629670e-03, 5.70244339e-03, 5.48704566e-03,\n",
       "       5.27978413e-03, 5.08035147e-03, 4.88845195e-03, 4.70380102e-03,\n",
       "       4.52612490e-03, 4.35516012e-03, 4.19065316e-03, 4.03236011e-03,\n",
       "       3.88004625e-03, 3.73348572e-03, 3.59246120e-03, 3.45676358e-03,\n",
       "       3.32619166e-03, 3.20055181e-03, 3.07965774e-03, 2.96333019e-03,\n",
       "       2.85139667e-03, 2.74369120e-03, 2.64005407e-03, 2.54033162e-03,\n",
       "       2.44437597e-03, 2.35204484e-03, 2.26320133e-03, 2.17771369e-03,\n",
       "       2.09545517e-03, 2.01630379e-03, 1.94014218e-03, 1.86685742e-03,\n",
       "       1.79634083e-03, 1.72848786e-03, 1.66319789e-03, 1.60037411e-03,\n",
       "       1.53992337e-03, 1.48175602e-03, 1.42578583e-03, 1.37192979e-03,\n",
       "       1.32010804e-03, 1.27024376e-03, 1.22226299e-03, 1.17609459e-03,\n",
       "       1.13167011e-03, 1.08892367e-03, 1.04779188e-03, 1.00821376e-03,\n",
       "       9.70130622e-04, 9.33485992e-04, 8.98225535e-04, 8.64296967e-04,\n",
       "       8.31649980e-04, 8.00236162e-04, 7.70008936e-04, 7.40923479e-04,\n",
       "       7.12936663e-04, 6.86006990e-04, 6.60094529e-04, 6.35160855e-04,\n",
       "       6.11168999e-04, 5.88083384e-04, 5.65869780e-04, 5.44495247e-04,\n",
       "       5.23928092e-04, 5.04137817e-04, 4.85095079e-04, 4.66771639e-04,\n",
       "       4.49140329e-04, 4.32175004e-04, 4.15850508e-04, 4.00142636e-04,\n",
       "       3.85028095e-04, 3.70484474e-04, 3.56490207e-04, 3.43024545e-04,\n",
       "       3.30067519e-04, 3.17599917e-04, 3.05603253e-04, 2.94059737e-04])"
      ]
     },
     "execution_count": 239,
     "metadata": {},
     "output_type": "execute_result"
    }
   ],
   "source": [
    "ls_.alphas_ #查看生成的矩阵"
   ]
  },
  {
   "cell_type": "code",
   "execution_count": 246,
   "id": "79926b87",
   "metadata": {},
   "outputs": [
    {
     "data": {
      "text/plain": [
       "(300,)"
      ]
     },
     "execution_count": 246,
     "metadata": {},
     "output_type": "execute_result"
    }
   ],
   "source": [
    "ls_.alphas_.shape"
   ]
  },
  {
   "cell_type": "code",
   "execution_count": 243,
   "id": "bdc8c28a",
   "metadata": {},
   "outputs": [
    {
     "data": {
      "text/plain": [
       "0.6038915423819201"
      ]
     },
     "execution_count": 243,
     "metadata": {},
     "output_type": "execute_result"
    }
   ],
   "source": [
    "ls_.score(x_test,y_test)"
   ]
  },
  {
   "cell_type": "markdown",
   "id": "2e3df37e",
   "metadata": {},
   "source": []
  },
  {
   "cell_type": "code",
   "execution_count": null,
   "id": "482d85b7",
   "metadata": {},
   "outputs": [],
   "source": []
  }
 ],
 "metadata": {
  "kernelspec": {
   "display_name": "Python 3 (ipykernel)",
   "language": "python",
   "name": "python3"
  },
  "language_info": {
   "codemirror_mode": {
    "name": "ipython",
    "version": 3
   },
   "file_extension": ".py",
   "mimetype": "text/x-python",
   "name": "python",
   "nbconvert_exporter": "python",
   "pygments_lexer": "ipython3",
   "version": "3.7.11"
  }
 },
 "nbformat": 4,
 "nbformat_minor": 5
}
