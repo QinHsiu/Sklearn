{
 "cells": [
  {
   "cell_type": "markdown",
   "id": "05444e76",
   "metadata": {},
   "source": [
    "### 数据预处理：让数据适应模型，匹配模型的需求\n",
    "### 特征工程：降低计算成本，提升模型上限（数据决定了模型的上限）\n",
    "##### 数据无量纲化：将不同数据规格的数据转换到统一规格\n",
    "##### 线性无量纲化包括去中心化（让所有记录减去一个固定值）和缩放处理（将数值限定在某一范围内，例如取对数）\n",
    "##### 归一化(Normalization)：(x-min)/(max-min)，将数据规范到[0,1],归一化后数据服从正态分布\n",
    "##### 正则化(Rgularization):不是数据预处理的手段\n"
   ]
  },
  {
   "cell_type": "code",
   "execution_count": 2,
   "id": "98d1243e",
   "metadata": {},
   "outputs": [
    {
     "data": {
      "text/html": [
       "<div>\n",
       "<style scoped>\n",
       "    .dataframe tbody tr th:only-of-type {\n",
       "        vertical-align: middle;\n",
       "    }\n",
       "\n",
       "    .dataframe tbody tr th {\n",
       "        vertical-align: top;\n",
       "    }\n",
       "\n",
       "    .dataframe thead th {\n",
       "        text-align: right;\n",
       "    }\n",
       "</style>\n",
       "<table border=\"1\" class=\"dataframe\">\n",
       "  <thead>\n",
       "    <tr style=\"text-align: right;\">\n",
       "      <th></th>\n",
       "      <th>0</th>\n",
       "      <th>1</th>\n",
       "    </tr>\n",
       "  </thead>\n",
       "  <tbody>\n",
       "    <tr>\n",
       "      <th>0</th>\n",
       "      <td>-1</td>\n",
       "      <td>2</td>\n",
       "    </tr>\n",
       "    <tr>\n",
       "      <th>1</th>\n",
       "      <td>0</td>\n",
       "      <td>4</td>\n",
       "    </tr>\n",
       "    <tr>\n",
       "      <th>2</th>\n",
       "      <td>10</td>\n",
       "      <td>4</td>\n",
       "    </tr>\n",
       "    <tr>\n",
       "      <th>3</th>\n",
       "      <td>1</td>\n",
       "      <td>19</td>\n",
       "    </tr>\n",
       "  </tbody>\n",
       "</table>\n",
       "</div>"
      ],
      "text/plain": [
       "    0   1\n",
       "0  -1   2\n",
       "1   0   4\n",
       "2  10   4\n",
       "3   1  19"
      ]
     },
     "execution_count": 2,
     "metadata": {},
     "output_type": "execute_result"
    }
   ],
   "source": [
    "from sklearn.preprocessing import MinMaxScaler\n",
    "data=[[-1,2],[0,4],[10,4],[1,19]]\n",
    "import pandas as pd\n",
    "data=pd.DataFrame(data)\n",
    "data"
   ]
  },
  {
   "cell_type": "code",
   "execution_count": 9,
   "id": "1d7d9237",
   "metadata": {},
   "outputs": [
    {
     "data": {
      "text/plain": [
       "array([[0.        , 0.        ],\n",
       "       [0.09090909, 0.11764706],\n",
       "       [1.        , 0.11764706],\n",
       "       [0.18181818, 1.        ]])"
      ]
     },
     "execution_count": 9,
     "metadata": {},
     "output_type": "execute_result"
    }
   ],
   "source": [
    "# 归一化\n",
    "scaler=MinMaxScaler() #实例化\n",
    "scaler=scaler.fit(data) #生成min(x)和max(x)\n",
    "result=scaler.transform(data) #调用接口导出结果\n",
    "result"
   ]
  },
  {
   "cell_type": "code",
   "execution_count": 11,
   "id": "0790bc7b",
   "metadata": {},
   "outputs": [
    {
     "data": {
      "text/plain": [
       "array([[0.        , 0.        ],\n",
       "       [0.09090909, 0.11764706],\n",
       "       [1.        , 0.11764706],\n",
       "       [0.18181818, 1.        ]])"
      ]
     },
     "execution_count": 11,
     "metadata": {},
     "output_type": "execute_result"
    }
   ],
   "source": [
    "# 直接一行代替\n",
    "result_=scaler.fit_transform(data)\n",
    "result_"
   ]
  },
  {
   "cell_type": "code",
   "execution_count": 12,
   "id": "3e42b322",
   "metadata": {},
   "outputs": [
    {
     "data": {
      "text/plain": [
       "array([[-1.,  2.],\n",
       "       [ 0.,  4.],\n",
       "       [10.,  4.],\n",
       "       [ 1., 19.]])"
      ]
     },
     "execution_count": 12,
     "metadata": {},
     "output_type": "execute_result"
    }
   ],
   "source": [
    "result_=scaler.fit_transform(data)\n",
    "scaler.inverse_transform(result) #将归一化数据结果逆转"
   ]
  },
  {
   "cell_type": "code",
   "execution_count": 15,
   "id": "d6063047",
   "metadata": {},
   "outputs": [
    {
     "data": {
      "text/plain": [
       "array([[ 5.        ,  5.        ],\n",
       "       [ 5.45454545,  5.58823529],\n",
       "       [10.        ,  5.58823529],\n",
       "       [ 5.90909091, 10.        ]])"
      ]
     },
     "execution_count": 15,
     "metadata": {},
     "output_type": "execute_result"
    }
   ],
   "source": [
    "# feature_range设置归化范围\n",
    "data=[[-1,2],[0,4],[10,4],[1,19]]\n",
    "scaler=MinMaxScaler(feature_range=[5,10])\n",
    "result=scaler.fit_transform(data)\n",
    "result"
   ]
  },
  {
   "cell_type": "code",
   "execution_count": 18,
   "id": "f6d19878",
   "metadata": {},
   "outputs": [
    {
     "data": {
      "text/plain": [
       "array([[ 5.        ,  5.        ],\n",
       "       [ 5.45454545,  5.58823529],\n",
       "       [10.        ,  5.58823529],\n",
       "       [ 5.90909091, 10.        ]])"
      ]
     },
     "execution_count": 18,
     "metadata": {},
     "output_type": "execute_result"
    }
   ],
   "source": [
    "# 当数据集中数据量比较大的时候，fit会报错，可以用partial_fir作为训练接口\n",
    "scaler=scaler.partial_fit(data)\n",
    "result=scaler.transform(data)\n",
    "result"
   ]
  },
  {
   "cell_type": "code",
   "execution_count": 22,
   "id": "e8328810",
   "metadata": {},
   "outputs": [
    {
     "data": {
      "text/plain": [
       "array([[-1.,  2.],\n",
       "       [ 0.,  4.],\n",
       "       [10.,  4.],\n",
       "       [ 1., 19.]])"
      ]
     },
     "execution_count": 22,
     "metadata": {},
     "output_type": "execute_result"
    }
   ],
   "source": [
    "# 使用numpy实现归一化\n",
    "import numpy as np\n",
    "x=np.array([[-1,2],[0,4],[10,4],[1,19]])\n",
    "\n",
    "\n",
    "# 归一化\n",
    "x_nor=((x-x.min(axis=0))/(x.max(axis=0)-x.min(axis=0)))\n",
    "x_nor\n",
    "\n",
    "# 逆转归一化\n",
    "x_returned=x_nor*(x.max(axis=0)-x.min(axis=0))+x.min(axis=0)\n",
    "x_returned"
   ]
  },
  {
   "cell_type": "code",
   "execution_count": 23,
   "id": "6afaf727",
   "metadata": {},
   "outputs": [
    {
     "data": {
      "text/plain": [
       "array([10, 19])"
      ]
     },
     "execution_count": 23,
     "metadata": {},
     "output_type": "execute_result"
    }
   ],
   "source": [
    "# 按列\n",
    "x.max(axis=0)"
   ]
  },
  {
   "cell_type": "code",
   "execution_count": 24,
   "id": "d0a27793",
   "metadata": {},
   "outputs": [
    {
     "data": {
      "text/plain": [
       "array([ 2,  4, 10, 19])"
      ]
     },
     "execution_count": 24,
     "metadata": {},
     "output_type": "execute_result"
    }
   ],
   "source": [
    "# 按行\n",
    "x.max(axis=1)"
   ]
  },
  {
   "cell_type": "code",
   "execution_count": 25,
   "id": "c2111511",
   "metadata": {},
   "outputs": [
    {
     "data": {
      "text/plain": [
       "19"
      ]
     },
     "execution_count": 25,
     "metadata": {},
     "output_type": "execute_result"
    }
   ],
   "source": [
    "# 按全局\n",
    "x.max()"
   ]
  },
  {
   "cell_type": "markdown",
   "id": "01225e43",
   "metadata": {},
   "source": [
    "### 数据标准化(Standardization)，也叫Z_score标准化，当数据(x)按均值（u）中心化后再按标准差(sigma)缩放 x_heat=(x-u)/sigma"
   ]
  },
  {
   "cell_type": "code",
   "execution_count": 42,
   "id": "07f8a356",
   "metadata": {},
   "outputs": [
    {
     "name": "stdout",
     "output_type": "stream",
     "text": [
      "均值： [2.5  7.25]\n",
      "方差： [19.25   46.6875]\n"
     ]
    },
    {
     "data": {
      "text/plain": [
       "array([[-1.0000000e+00,  2.0000000e+00],\n",
       "       [-4.4408921e-16,  4.0000000e+00],\n",
       "       [ 1.0000000e+01,  4.0000000e+00],\n",
       "       [ 1.0000000e+00,  1.9000000e+01]])"
      ]
     },
     "execution_count": 42,
     "metadata": {},
     "output_type": "execute_result"
    }
   ],
   "source": [
    "from sklearn.preprocessing import StandardScaler\n",
    "data=[[-1,2],[0,4],[10,4],[1,19]]\n",
    "\n",
    "scaler=StandardScaler()\n",
    "scaler.fit(data) #生成均值和方差\n",
    "\n",
    "scaler.mean_ #查看均值\n",
    "scaler.var_ #查看方差\n",
    "print(\"均值：\",scaler.mean_)\n",
    "print(\"方差：\",scaler.var_)\n",
    "\n",
    "x_std=scaler.transform(data) #导出结果为一个数组\n",
    "x_std.mean() #查看均值\n",
    "x_std.std() #查看方差\n",
    "x_std\n",
    "\n",
    "scaler.fit_transform(data) #使用fit_transform(data)一步达成结果\n",
    "scaler.inverse_transform(x_std) #使用inverse_trsnsform逆转标准化"
   ]
  },
  {
   "cell_type": "markdown",
   "id": "5d14174b",
   "metadata": {},
   "source": [
    "### 缺失值处理"
   ]
  },
  {
   "cell_type": "code",
   "execution_count": 47,
   "id": "6c82f00a",
   "metadata": {},
   "outputs": [],
   "source": [
    "import pandas as pd\n",
    "# data=pd.read_csv(r\"data.csv\",index_col=0) #使用第0列作为索引列\n",
    "\n",
    "from sklearn.impute import SimpleImputer"
   ]
  },
  {
   "cell_type": "markdown",
   "id": "8136af7d",
   "metadata": {},
   "source": [
    "### SimpleImputer四个参数：\n",
    "##### missing_values 数据的缺失值类型，默认为np.nan\n",
    "##### strategy 填充的类型：mean、median(中值)、most_frequent(众数，可以用于文字)、constant(常数)\n",
    "##### fill_value 指定填充的值（可以填充字符串）\n",
    "##### copy 默认为True，将创建特征矩阵的副本，反之则会将缺失值填补到原始特征矩阵中"
   ]
  },
  {
   "cell_type": "code",
   "execution_count": 2,
   "id": "b28be26d",
   "metadata": {},
   "outputs": [
    {
     "name": "stdout",
     "output_type": "stream",
     "text": [
      "<class 'pandas.core.frame.DataFrame'>\n",
      "RangeIndex: 100 entries, 0 to 99\n",
      "Data columns (total 3 columns):\n",
      " #   Column  Non-Null Count  Dtype  \n",
      "---  ------  --------------  -----  \n",
      " 0   age     67 non-null     float64\n",
      " 1   logo    74 non-null     object \n",
      " 2   id      100 non-null    object \n",
      "dtypes: float64(1), object(2)\n",
      "memory usage: 2.5+ KB\n"
     ]
    }
   ],
   "source": [
    "# 创建一个数据集\n",
    "age=[]\n",
    "for i in range(100):\n",
    "    if i%2==0 or i%3==0:\n",
    "        age.append(i)\n",
    "    else:\n",
    "        age.append(None)\n",
    "        \n",
    "logo=[]\n",
    "for i in range(100):\n",
    "    if i%2==0:\n",
    "        logo.append('S')\n",
    "        continue\n",
    "    if i%3==0:\n",
    "        logo.append(\"C\")\n",
    "        continue\n",
    "    if i%5==0:\n",
    "        logo.append('K')\n",
    "        continue\n",
    "    else:\n",
    "        logo.append(None)\n",
    "        continue\n",
    "id=[]\n",
    "for i in range(100):\n",
    "    id.append(\"id_\"+str(i))\n",
    "    \n",
    "data=pd.DataFrame()\n",
    "data['age']=age\n",
    "data['logo']=logo\n",
    "data['id']=id\n",
    "data.head(5)\n",
    "data.info()\n"
   ]
  },
  {
   "cell_type": "code",
   "execution_count": 3,
   "id": "bdb42717",
   "metadata": {},
   "outputs": [],
   "source": [
    "age=data.loc[:,'age'].values.reshape(-1,1) #升维"
   ]
  },
  {
   "cell_type": "code",
   "execution_count": 4,
   "id": "617ed1cb",
   "metadata": {},
   "outputs": [
    {
     "name": "stdout",
     "output_type": "stream",
     "text": [
      "<class 'pandas.core.frame.DataFrame'>\n",
      "RangeIndex: 100 entries, 0 to 99\n",
      "Data columns (total 3 columns):\n",
      " #   Column  Non-Null Count  Dtype  \n",
      "---  ------  --------------  -----  \n",
      " 0   age     100 non-null    float64\n",
      " 1   logo    74 non-null     object \n",
      " 2   id      100 non-null    object \n",
      "dtypes: float64(1), object(2)\n",
      "memory usage: 2.5+ KB\n"
     ]
    }
   ],
   "source": [
    "age=data.loc[:,'age'].values.reshape(-1,1) #升维\n",
    "from sklearn.impute import SimpleImputer\n",
    "imp_mean=SimpleImputer() #默认均值填充\n",
    "imp_median=SimpleImputer(strategy=\"median\") #使用中位数填充\n",
    "imp_0=SimpleImputer(strategy=\"constant\",fill_value=0) #使用0填充\n",
    "\n",
    "imp_mean=imp_mean.fit_transform(age)\n",
    "imp_median=imp_median.fit_transform(age)\n",
    "imp_0=imp_0.fit_transform(age)\n",
    "\n",
    "imp_mean[:20]\n",
    "imp_median[:20]\n",
    "imp_0[:20]\n",
    "\n",
    "# 使用中位数进行填充\n",
    "data.loc[:,\"age\"]=imp_median\n",
    "data.info()"
   ]
  },
  {
   "cell_type": "code",
   "execution_count": 5,
   "id": "7b8a0db1",
   "metadata": {},
   "outputs": [
    {
     "name": "stdout",
     "output_type": "stream",
     "text": [
      "<class 'pandas.core.frame.DataFrame'>\n",
      "RangeIndex: 100 entries, 0 to 99\n",
      "Data columns (total 3 columns):\n",
      " #   Column  Non-Null Count  Dtype  \n",
      "---  ------  --------------  -----  \n",
      " 0   age     100 non-null    float64\n",
      " 1   logo    74 non-null     object \n",
      " 2   id      100 non-null    object \n",
      "dtypes: float64(1), object(2)\n",
      "memory usage: 2.5+ KB\n"
     ]
    }
   ],
   "source": [
    "# 填充logo\n",
    "logo=data.loc[:,\"logo\"].values.reshape(-1,1)\n",
    "# imp_mode=SimpleImputer(strategy=\"constant\",fill_value=\"S\")\n",
    "imp_mode=SimpleImputer(strategy=\"most_frequent\")\n",
    "data.loc[:,'logo']=imp_mode.fit_transform(logo)\n",
    "data.info()"
   ]
  },
  {
   "cell_type": "code",
   "execution_count": 6,
   "id": "b410d55d",
   "metadata": {},
   "outputs": [
    {
     "name": "stdout",
     "output_type": "stream",
     "text": [
      "<class 'pandas.core.frame.DataFrame'>\n",
      "RangeIndex: 100 entries, 0 to 99\n",
      "Data columns (total 3 columns):\n",
      " #   Column  Non-Null Count  Dtype  \n",
      "---  ------  --------------  -----  \n",
      " 0   age     67 non-null     float64\n",
      " 1   logo    74 non-null     object \n",
      " 2   id      100 non-null    object \n",
      "dtypes: float64(1), object(2)\n",
      "memory usage: 2.5+ KB\n"
     ]
    }
   ],
   "source": [
    "# 创建一个数据集\n",
    "age=[]\n",
    "for i in range(100):\n",
    "    if i%2==0 or i%3==0:\n",
    "        age.append(i)\n",
    "    else:\n",
    "        age.append(None)\n",
    "        \n",
    "logo=[]\n",
    "for i in range(100):\n",
    "    if i%2==0:\n",
    "        logo.append('S')\n",
    "        continue\n",
    "    if i%3==0:\n",
    "        logo.append(\"C\")\n",
    "        continue\n",
    "    if i%5==0:\n",
    "        logo.append('K')\n",
    "        continue\n",
    "    else:\n",
    "        logo.append(None)\n",
    "        continue\n",
    "id=[]\n",
    "for i in range(100):\n",
    "    id.append(\"id_\"+str(i))\n",
    "    \n",
    "data=pd.DataFrame()\n",
    "data['age']=age\n",
    "data['logo']=logo\n",
    "data['id']=id\n",
    "data.head(5)\n",
    "data.info()\n"
   ]
  },
  {
   "cell_type": "code",
   "execution_count": null,
   "id": "672ef710",
   "metadata": {},
   "outputs": [],
   "source": []
  },
  {
   "cell_type": "code",
   "execution_count": 7,
   "id": "b2caf5f0",
   "metadata": {},
   "outputs": [
    {
     "ename": "NameError",
     "evalue": "name 'data_' is not defined",
     "output_type": "error",
     "traceback": [
      "\u001b[1;31m---------------------------------------------------------------------------\u001b[0m",
      "\u001b[1;31mNameError\u001b[0m                                 Traceback (most recent call last)",
      "\u001b[1;32mC:\\Users\\Public\\Documents\\Wondershare\\CreatorTemp/ipykernel_15632/2387010000.py\u001b[0m in \u001b[0;36m<module>\u001b[1;34m\u001b[0m\n\u001b[0;32m      1\u001b[0m \u001b[1;31m# 删除所有空值的行，删除列使用axis=1\u001b[0m\u001b[1;33m\u001b[0m\u001b[1;33m\u001b[0m\u001b[1;33m\u001b[0m\u001b[0m\n\u001b[1;32m----> 2\u001b[1;33m \u001b[0mdata_\u001b[0m\u001b[1;33m.\u001b[0m\u001b[0mdropna\u001b[0m\u001b[1;33m(\u001b[0m\u001b[0maxis\u001b[0m\u001b[1;33m=\u001b[0m\u001b[1;36m0\u001b[0m\u001b[1;33m,\u001b[0m\u001b[0minplace\u001b[0m\u001b[1;33m=\u001b[0m\u001b[1;32mTrue\u001b[0m\u001b[1;33m)\u001b[0m\u001b[1;33m\u001b[0m\u001b[1;33m\u001b[0m\u001b[0m\n\u001b[0m\u001b[0;32m      3\u001b[0m \u001b[0mdata_\u001b[0m\u001b[1;33m.\u001b[0m\u001b[0minfo\u001b[0m\u001b[1;33m(\u001b[0m\u001b[1;33m)\u001b[0m\u001b[1;33m\u001b[0m\u001b[1;33m\u001b[0m\u001b[0m\n",
      "\u001b[1;31mNameError\u001b[0m: name 'data_' is not defined"
     ]
    }
   ],
   "source": [
    "# 删除所有空值的行，删除列使用axis=1\n",
    "data_.dropna(axis=0,inplace=True)\n",
    "data_.info()"
   ]
  },
  {
   "cell_type": "markdown",
   "id": "23682632",
   "metadata": {},
   "source": [
    "### 编码与哑变量：用于处理分类型变量\n"
   ]
  },
  {
   "cell_type": "code",
   "execution_count": 8,
   "id": "9d5276d0",
   "metadata": {},
   "outputs": [
    {
     "name": "stdout",
     "output_type": "stream",
     "text": [
      "<class 'pandas.core.frame.DataFrame'>\n",
      "Int64Index: 74 entries, 0 to 99\n",
      "Data columns (total 4 columns):\n",
      " #   Column   Non-Null Count  Dtype  \n",
      "---  ------   --------------  -----  \n",
      " 0   age      74 non-null     float64\n",
      " 1   logo     74 non-null     object \n",
      " 2   id       74 non-null     object \n",
      " 3   survivd  74 non-null     object \n",
      "dtypes: float64(1), object(3)\n",
      "memory usage: 2.9+ KB\n"
     ]
    }
   ],
   "source": [
    "# 创建一个数据集\n",
    "age=[]\n",
    "for i in range(100):\n",
    "    if i%2==0 or i%3==0:\n",
    "        age.append(i)\n",
    "    else:\n",
    "        age.append(None)\n",
    "        \n",
    "logo=[]\n",
    "for i in range(100):\n",
    "    if i%2==0:\n",
    "        logo.append('S')\n",
    "        continue\n",
    "    if i%3==0:\n",
    "        logo.append(\"C\")\n",
    "        continue\n",
    "    if i%5==0:\n",
    "        logo.append('K')\n",
    "        continue\n",
    "    else:\n",
    "        logo.append(None)\n",
    "        continue\n",
    "id=[]\n",
    "for i in range(100):\n",
    "    id.append(\"id_\"+str(i))\n",
    "    \n",
    "\n",
    "survivd=[]\n",
    "for i in range(100):\n",
    "    if i%2==0 and i%3==0:\n",
    "        survivd.append(\"survivd\")\n",
    "    else:\n",
    "        survivd.append('dead')\n",
    "data=pd.DataFrame()\n",
    "data['age']=age\n",
    "data['logo']=logo\n",
    "data['id']=id\n",
    "data['survivd']=survivd\n",
    "\n",
    "\n",
    "# 缺失值处理\n",
    "import pandas as pd\n",
    "# 使用pandas进行填充\n",
    "data_=data\n",
    "data_.loc[:,'age']=data.loc[:,'age'].fillna(data.loc[:,'age'].median())\n",
    "\n",
    "\n",
    "# 删除所有空值的行，删除列使用axis=1\n",
    "data_.dropna(axis=0,inplace=True)\n",
    "data_.info()"
   ]
  },
  {
   "cell_type": "markdown",
   "id": "71ed45c1",
   "metadata": {},
   "source": [
    "### 标签编码 LabelEncoder"
   ]
  },
  {
   "cell_type": "code",
   "execution_count": 9,
   "id": "366aa3b7",
   "metadata": {},
   "outputs": [
    {
     "data": {
      "text/html": [
       "<div>\n",
       "<style scoped>\n",
       "    .dataframe tbody tr th:only-of-type {\n",
       "        vertical-align: middle;\n",
       "    }\n",
       "\n",
       "    .dataframe tbody tr th {\n",
       "        vertical-align: top;\n",
       "    }\n",
       "\n",
       "    .dataframe thead th {\n",
       "        text-align: right;\n",
       "    }\n",
       "</style>\n",
       "<table border=\"1\" class=\"dataframe\">\n",
       "  <thead>\n",
       "    <tr style=\"text-align: right;\">\n",
       "      <th></th>\n",
       "      <th>age</th>\n",
       "      <th>logo</th>\n",
       "      <th>id</th>\n",
       "      <th>survivd</th>\n",
       "    </tr>\n",
       "  </thead>\n",
       "  <tbody>\n",
       "    <tr>\n",
       "      <th>0</th>\n",
       "      <td>0.0</td>\n",
       "      <td>S</td>\n",
       "      <td>id_0</td>\n",
       "      <td>1</td>\n",
       "    </tr>\n",
       "    <tr>\n",
       "      <th>2</th>\n",
       "      <td>2.0</td>\n",
       "      <td>S</td>\n",
       "      <td>id_2</td>\n",
       "      <td>0</td>\n",
       "    </tr>\n",
       "    <tr>\n",
       "      <th>3</th>\n",
       "      <td>3.0</td>\n",
       "      <td>C</td>\n",
       "      <td>id_3</td>\n",
       "      <td>0</td>\n",
       "    </tr>\n",
       "    <tr>\n",
       "      <th>4</th>\n",
       "      <td>4.0</td>\n",
       "      <td>S</td>\n",
       "      <td>id_4</td>\n",
       "      <td>0</td>\n",
       "    </tr>\n",
       "    <tr>\n",
       "      <th>5</th>\n",
       "      <td>50.0</td>\n",
       "      <td>K</td>\n",
       "      <td>id_5</td>\n",
       "      <td>0</td>\n",
       "    </tr>\n",
       "  </tbody>\n",
       "</table>\n",
       "</div>"
      ],
      "text/plain": [
       "    age logo    id  survivd\n",
       "0   0.0    S  id_0        1\n",
       "2   2.0    S  id_2        0\n",
       "3   3.0    C  id_3        0\n",
       "4   4.0    S  id_4        0\n",
       "5  50.0    K  id_5        0"
      ]
     },
     "execution_count": 9,
     "metadata": {},
     "output_type": "execute_result"
    }
   ],
   "source": [
    "from sklearn.preprocessing import LabelEncoder\n",
    "y=data.iloc[:,-1] #要输入的为标签，不是特征矩阵，允许为一维\n",
    "le=LabelEncoder() #实例化\n",
    "le=le.fit(y) #导入数据\n",
    "label=le.transform(y) #接口调用\n",
    "\n",
    "le.classes_ #属性、查看类别数量\n",
    "label #查看编码后的数据\n",
    "\n",
    "le.fit_transform(y) #一步到位\n",
    "le.inverse_transform(label) #使用reverse_transform进行逆转\n",
    "data.iloc[:,-1]=label\n",
    "data.head(5)\n"
   ]
  },
  {
   "cell_type": "code",
   "execution_count": 10,
   "id": "4a3b0307",
   "metadata": {},
   "outputs": [
    {
     "data": {
      "text/html": [
       "<div>\n",
       "<style scoped>\n",
       "    .dataframe tbody tr th:only-of-type {\n",
       "        vertical-align: middle;\n",
       "    }\n",
       "\n",
       "    .dataframe tbody tr th {\n",
       "        vertical-align: top;\n",
       "    }\n",
       "\n",
       "    .dataframe thead th {\n",
       "        text-align: right;\n",
       "    }\n",
       "</style>\n",
       "<table border=\"1\" class=\"dataframe\">\n",
       "  <thead>\n",
       "    <tr style=\"text-align: right;\">\n",
       "      <th></th>\n",
       "      <th>age</th>\n",
       "      <th>logo</th>\n",
       "      <th>id</th>\n",
       "      <th>survivd</th>\n",
       "    </tr>\n",
       "  </thead>\n",
       "  <tbody>\n",
       "    <tr>\n",
       "      <th>0</th>\n",
       "      <td>0.0</td>\n",
       "      <td>S</td>\n",
       "      <td>id_0</td>\n",
       "      <td>1</td>\n",
       "    </tr>\n",
       "    <tr>\n",
       "      <th>2</th>\n",
       "      <td>2.0</td>\n",
       "      <td>S</td>\n",
       "      <td>id_2</td>\n",
       "      <td>0</td>\n",
       "    </tr>\n",
       "    <tr>\n",
       "      <th>3</th>\n",
       "      <td>3.0</td>\n",
       "      <td>C</td>\n",
       "      <td>id_3</td>\n",
       "      <td>0</td>\n",
       "    </tr>\n",
       "    <tr>\n",
       "      <th>4</th>\n",
       "      <td>4.0</td>\n",
       "      <td>S</td>\n",
       "      <td>id_4</td>\n",
       "      <td>0</td>\n",
       "    </tr>\n",
       "    <tr>\n",
       "      <th>5</th>\n",
       "      <td>50.0</td>\n",
       "      <td>K</td>\n",
       "      <td>id_5</td>\n",
       "      <td>0</td>\n",
       "    </tr>\n",
       "  </tbody>\n",
       "</table>\n",
       "</div>"
      ],
      "text/plain": [
       "    age logo    id  survivd\n",
       "0   0.0    S  id_0        1\n",
       "2   2.0    S  id_2        0\n",
       "3   3.0    C  id_3        0\n",
       "4   4.0    S  id_4        0\n",
       "5  50.0    K  id_5        0"
      ]
     },
     "execution_count": 10,
     "metadata": {},
     "output_type": "execute_result"
    }
   ],
   "source": [
    "# 一步到位\n",
    "from sklearn.preprocessing import LabelEncoder\n",
    "data.iloc[:,-1]=LabelEncoder().fit_transform(data.iloc[:,-1])\n",
    "data.head(5)"
   ]
  },
  {
   "cell_type": "markdown",
   "id": "06e9d66c",
   "metadata": {},
   "source": [
    "### 特征专用编码 OrdnalEncoder"
   ]
  },
  {
   "cell_type": "code",
   "execution_count": 11,
   "id": "264c92c2",
   "metadata": {},
   "outputs": [
    {
     "data": {
      "text/html": [
       "<div>\n",
       "<style scoped>\n",
       "    .dataframe tbody tr th:only-of-type {\n",
       "        vertical-align: middle;\n",
       "    }\n",
       "\n",
       "    .dataframe tbody tr th {\n",
       "        vertical-align: top;\n",
       "    }\n",
       "\n",
       "    .dataframe thead th {\n",
       "        text-align: right;\n",
       "    }\n",
       "</style>\n",
       "<table border=\"1\" class=\"dataframe\">\n",
       "  <thead>\n",
       "    <tr style=\"text-align: right;\">\n",
       "      <th></th>\n",
       "      <th>age</th>\n",
       "      <th>logo</th>\n",
       "      <th>id</th>\n",
       "      <th>survivd</th>\n",
       "    </tr>\n",
       "  </thead>\n",
       "  <tbody>\n",
       "    <tr>\n",
       "      <th>0</th>\n",
       "      <td>0.0</td>\n",
       "      <td>2.0</td>\n",
       "      <td>0.0</td>\n",
       "      <td>1</td>\n",
       "    </tr>\n",
       "    <tr>\n",
       "      <th>2</th>\n",
       "      <td>2.0</td>\n",
       "      <td>2.0</td>\n",
       "      <td>7.0</td>\n",
       "      <td>0</td>\n",
       "    </tr>\n",
       "    <tr>\n",
       "      <th>3</th>\n",
       "      <td>3.0</td>\n",
       "      <td>0.0</td>\n",
       "      <td>16.0</td>\n",
       "      <td>0</td>\n",
       "    </tr>\n",
       "    <tr>\n",
       "      <th>4</th>\n",
       "      <td>4.0</td>\n",
       "      <td>2.0</td>\n",
       "      <td>25.0</td>\n",
       "      <td>0</td>\n",
       "    </tr>\n",
       "    <tr>\n",
       "      <th>5</th>\n",
       "      <td>50.0</td>\n",
       "      <td>1.0</td>\n",
       "      <td>32.0</td>\n",
       "      <td>0</td>\n",
       "    </tr>\n",
       "  </tbody>\n",
       "</table>\n",
       "</div>"
      ],
      "text/plain": [
       "    age  logo    id  survivd\n",
       "0   0.0   2.0   0.0        1\n",
       "2   2.0   2.0   7.0        0\n",
       "3   3.0   0.0  16.0        0\n",
       "4   4.0   2.0  25.0        0\n",
       "5  50.0   1.0  32.0        0"
      ]
     },
     "execution_count": 11,
     "metadata": {},
     "output_type": "execute_result"
    }
   ],
   "source": [
    "from sklearn.preprocessing import OrdinalEncoder\n",
    "\n",
    "data_=data.copy()\n",
    "# 编码后\n",
    "data_.iloc[:,1:-1]=OrdinalEncoder().fit_transform(data_.iloc[:,1:-1])\n",
    "data.head()\n",
    "data_.head()"
   ]
  },
  {
   "cell_type": "code",
   "execution_count": 12,
   "id": "acbae4b6",
   "metadata": {},
   "outputs": [
    {
     "data": {
      "text/plain": [
       "[array(['C', 'K', 'S'], dtype=object),\n",
       " array(['id_0', 'id_10', 'id_12', 'id_14', 'id_15', 'id_16', 'id_18',\n",
       "        'id_2', 'id_20', 'id_21', 'id_22', 'id_24', 'id_25', 'id_26',\n",
       "        'id_27', 'id_28', 'id_3', 'id_30', 'id_32', 'id_33', 'id_34',\n",
       "        'id_35', 'id_36', 'id_38', 'id_39', 'id_4', 'id_40', 'id_42',\n",
       "        'id_44', 'id_45', 'id_46', 'id_48', 'id_5', 'id_50', 'id_51',\n",
       "        'id_52', 'id_54', 'id_55', 'id_56', 'id_57', 'id_58', 'id_6',\n",
       "        'id_60', 'id_62', 'id_63', 'id_64', 'id_65', 'id_66', 'id_68',\n",
       "        'id_69', 'id_70', 'id_72', 'id_74', 'id_75', 'id_76', 'id_78',\n",
       "        'id_8', 'id_80', 'id_81', 'id_82', 'id_84', 'id_85', 'id_86',\n",
       "        'id_87', 'id_88', 'id_9', 'id_90', 'id_92', 'id_93', 'id_94',\n",
       "        'id_95', 'id_96', 'id_98', 'id_99'], dtype=object)]"
      ]
     },
     "execution_count": 12,
     "metadata": {},
     "output_type": "execute_result"
    }
   ],
   "source": [
    "# 查看原始数据的类别\n",
    "OrdinalEncoder().fit(data.iloc[:,1:-1]).categories_"
   ]
  },
  {
   "cell_type": "code",
   "execution_count": 13,
   "id": "00b905e6",
   "metadata": {},
   "outputs": [
    {
     "data": {
      "text/plain": [
       "[array([0., 1., 2.]),\n",
       " array([ 0.,  1.,  2.,  3.,  4.,  5.,  6.,  7.,  8.,  9., 10., 11., 12.,\n",
       "        13., 14., 15., 16., 17., 18., 19., 20., 21., 22., 23., 24., 25.,\n",
       "        26., 27., 28., 29., 30., 31., 32., 33., 34., 35., 36., 37., 38.,\n",
       "        39., 40., 41., 42., 43., 44., 45., 46., 47., 48., 49., 50., 51.,\n",
       "        52., 53., 54., 55., 56., 57., 58., 59., 60., 61., 62., 63., 64.,\n",
       "        65., 66., 67., 68., 69., 70., 71., 72., 73.])]"
      ]
     },
     "execution_count": 13,
     "metadata": {},
     "output_type": "execute_result"
    }
   ],
   "source": [
    "# 查看编码后的类别\n",
    "OrdinalEncoder().fit(data_.iloc[:,1:-1]).categories_"
   ]
  },
  {
   "cell_type": "markdown",
   "id": "52ea21d4",
   "metadata": {},
   "source": [
    "### 由于单纯使用数字编码会丢失一些重要的信息\n",
    "### 使用独热编码进行处理"
   ]
  },
  {
   "cell_type": "code",
   "execution_count": 14,
   "id": "b4e8fa4c",
   "metadata": {},
   "outputs": [
    {
     "data": {
      "text/html": [
       "<div>\n",
       "<style scoped>\n",
       "    .dataframe tbody tr th:only-of-type {\n",
       "        vertical-align: middle;\n",
       "    }\n",
       "\n",
       "    .dataframe tbody tr th {\n",
       "        vertical-align: top;\n",
       "    }\n",
       "\n",
       "    .dataframe thead th {\n",
       "        text-align: right;\n",
       "    }\n",
       "</style>\n",
       "<table border=\"1\" class=\"dataframe\">\n",
       "  <thead>\n",
       "    <tr style=\"text-align: right;\">\n",
       "      <th></th>\n",
       "      <th>age</th>\n",
       "      <th>logo</th>\n",
       "      <th>id</th>\n",
       "      <th>survivd</th>\n",
       "    </tr>\n",
       "  </thead>\n",
       "  <tbody>\n",
       "    <tr>\n",
       "      <th>0</th>\n",
       "      <td>0.0</td>\n",
       "      <td>S</td>\n",
       "      <td>id_0</td>\n",
       "      <td>1</td>\n",
       "    </tr>\n",
       "    <tr>\n",
       "      <th>2</th>\n",
       "      <td>2.0</td>\n",
       "      <td>S</td>\n",
       "      <td>id_2</td>\n",
       "      <td>0</td>\n",
       "    </tr>\n",
       "    <tr>\n",
       "      <th>3</th>\n",
       "      <td>3.0</td>\n",
       "      <td>C</td>\n",
       "      <td>id_3</td>\n",
       "      <td>0</td>\n",
       "    </tr>\n",
       "    <tr>\n",
       "      <th>4</th>\n",
       "      <td>4.0</td>\n",
       "      <td>S</td>\n",
       "      <td>id_4</td>\n",
       "      <td>0</td>\n",
       "    </tr>\n",
       "    <tr>\n",
       "      <th>5</th>\n",
       "      <td>50.0</td>\n",
       "      <td>K</td>\n",
       "      <td>id_5</td>\n",
       "      <td>0</td>\n",
       "    </tr>\n",
       "  </tbody>\n",
       "</table>\n",
       "</div>"
      ],
      "text/plain": [
       "    age logo    id  survivd\n",
       "0   0.0    S  id_0        1\n",
       "2   2.0    S  id_2        0\n",
       "3   3.0    C  id_3        0\n",
       "4   4.0    S  id_4        0\n",
       "5  50.0    K  id_5        0"
      ]
     },
     "execution_count": 14,
     "metadata": {},
     "output_type": "execute_result"
    }
   ],
   "source": [
    "from sklearn.preprocessing import OneHotEncoder\n",
    "data.head()"
   ]
  },
  {
   "cell_type": "code",
   "execution_count": 15,
   "id": "02e7f127",
   "metadata": {},
   "outputs": [
    {
     "data": {
      "text/plain": [
       "array([[0., 0., 1., ..., 0., 0., 0.],\n",
       "       [0., 0., 1., ..., 0., 0., 0.],\n",
       "       [1., 0., 0., ..., 0., 0., 0.],\n",
       "       ...,\n",
       "       [0., 0., 1., ..., 1., 0., 0.],\n",
       "       [0., 0., 1., ..., 0., 1., 0.],\n",
       "       [1., 0., 0., ..., 0., 0., 1.]])"
      ]
     },
     "execution_count": 15,
     "metadata": {},
     "output_type": "execute_result"
    }
   ],
   "source": [
    "x=data.iloc[:,1:-1]\n",
    "enc=OneHotEncoder(categories=\"auto\").fit(x)\n",
    "result=enc.transform(x).toarray()\n",
    "result"
   ]
  },
  {
   "cell_type": "code",
   "execution_count": 16,
   "id": "4ff97df3",
   "metadata": {},
   "outputs": [
    {
     "data": {
      "text/html": [
       "<div>\n",
       "<style scoped>\n",
       "    .dataframe tbody tr th:only-of-type {\n",
       "        vertical-align: middle;\n",
       "    }\n",
       "\n",
       "    .dataframe tbody tr th {\n",
       "        vertical-align: top;\n",
       "    }\n",
       "\n",
       "    .dataframe thead th {\n",
       "        text-align: right;\n",
       "    }\n",
       "</style>\n",
       "<table border=\"1\" class=\"dataframe\">\n",
       "  <thead>\n",
       "    <tr style=\"text-align: right;\">\n",
       "      <th></th>\n",
       "      <th>0</th>\n",
       "      <th>1</th>\n",
       "    </tr>\n",
       "  </thead>\n",
       "  <tbody>\n",
       "    <tr>\n",
       "      <th>0</th>\n",
       "      <td>S</td>\n",
       "      <td>id_0</td>\n",
       "    </tr>\n",
       "    <tr>\n",
       "      <th>1</th>\n",
       "      <td>S</td>\n",
       "      <td>id_2</td>\n",
       "    </tr>\n",
       "    <tr>\n",
       "      <th>2</th>\n",
       "      <td>C</td>\n",
       "      <td>id_3</td>\n",
       "    </tr>\n",
       "    <tr>\n",
       "      <th>3</th>\n",
       "      <td>S</td>\n",
       "      <td>id_4</td>\n",
       "    </tr>\n",
       "    <tr>\n",
       "      <th>4</th>\n",
       "      <td>K</td>\n",
       "      <td>id_5</td>\n",
       "    </tr>\n",
       "    <tr>\n",
       "      <th>...</th>\n",
       "      <td>...</td>\n",
       "      <td>...</td>\n",
       "    </tr>\n",
       "    <tr>\n",
       "      <th>69</th>\n",
       "      <td>S</td>\n",
       "      <td>id_94</td>\n",
       "    </tr>\n",
       "    <tr>\n",
       "      <th>70</th>\n",
       "      <td>K</td>\n",
       "      <td>id_95</td>\n",
       "    </tr>\n",
       "    <tr>\n",
       "      <th>71</th>\n",
       "      <td>S</td>\n",
       "      <td>id_96</td>\n",
       "    </tr>\n",
       "    <tr>\n",
       "      <th>72</th>\n",
       "      <td>S</td>\n",
       "      <td>id_98</td>\n",
       "    </tr>\n",
       "    <tr>\n",
       "      <th>73</th>\n",
       "      <td>C</td>\n",
       "      <td>id_99</td>\n",
       "    </tr>\n",
       "  </tbody>\n",
       "</table>\n",
       "<p>74 rows × 2 columns</p>\n",
       "</div>"
      ],
      "text/plain": [
       "    0      1\n",
       "0   S   id_0\n",
       "1   S   id_2\n",
       "2   C   id_3\n",
       "3   S   id_4\n",
       "4   K   id_5\n",
       ".. ..    ...\n",
       "69  S  id_94\n",
       "70  K  id_95\n",
       "71  S  id_96\n",
       "72  S  id_98\n",
       "73  C  id_99\n",
       "\n",
       "[74 rows x 2 columns]"
      ]
     },
     "execution_count": 16,
     "metadata": {},
     "output_type": "execute_result"
    }
   ],
   "source": [
    "# 还原数据\n",
    "pd.DataFrame(enc.inverse_transform(result))"
   ]
  },
  {
   "cell_type": "code",
   "execution_count": 17,
   "id": "632859e7",
   "metadata": {},
   "outputs": [
    {
     "data": {
      "text/plain": [
       "array(['x0_C', 'x0_K', 'x0_S', 'x1_id_0', 'x1_id_10', 'x1_id_12',\n",
       "       'x1_id_14', 'x1_id_15', 'x1_id_16', 'x1_id_18', 'x1_id_2',\n",
       "       'x1_id_20', 'x1_id_21', 'x1_id_22', 'x1_id_24', 'x1_id_25',\n",
       "       'x1_id_26', 'x1_id_27', 'x1_id_28', 'x1_id_3', 'x1_id_30',\n",
       "       'x1_id_32', 'x1_id_33', 'x1_id_34', 'x1_id_35', 'x1_id_36',\n",
       "       'x1_id_38', 'x1_id_39', 'x1_id_4', 'x1_id_40', 'x1_id_42',\n",
       "       'x1_id_44', 'x1_id_45', 'x1_id_46', 'x1_id_48', 'x1_id_5',\n",
       "       'x1_id_50', 'x1_id_51', 'x1_id_52', 'x1_id_54', 'x1_id_55',\n",
       "       'x1_id_56', 'x1_id_57', 'x1_id_58', 'x1_id_6', 'x1_id_60',\n",
       "       'x1_id_62', 'x1_id_63', 'x1_id_64', 'x1_id_65', 'x1_id_66',\n",
       "       'x1_id_68', 'x1_id_69', 'x1_id_70', 'x1_id_72', 'x1_id_74',\n",
       "       'x1_id_75', 'x1_id_76', 'x1_id_78', 'x1_id_8', 'x1_id_80',\n",
       "       'x1_id_81', 'x1_id_82', 'x1_id_84', 'x1_id_85', 'x1_id_86',\n",
       "       'x1_id_87', 'x1_id_88', 'x1_id_9', 'x1_id_90', 'x1_id_92',\n",
       "       'x1_id_93', 'x1_id_94', 'x1_id_95', 'x1_id_96', 'x1_id_98',\n",
       "       'x1_id_99'], dtype=object)"
      ]
     },
     "execution_count": 17,
     "metadata": {},
     "output_type": "execute_result"
    }
   ],
   "source": [
    "# 获取特征名字\n",
    "enc.get_feature_names()"
   ]
  },
  {
   "cell_type": "code",
   "execution_count": 18,
   "id": "5aa0b09a",
   "metadata": {},
   "outputs": [
    {
     "data": {
      "text/html": [
       "<div>\n",
       "<style scoped>\n",
       "    .dataframe tbody tr th:only-of-type {\n",
       "        vertical-align: middle;\n",
       "    }\n",
       "\n",
       "    .dataframe tbody tr th {\n",
       "        vertical-align: top;\n",
       "    }\n",
       "\n",
       "    .dataframe thead th {\n",
       "        text-align: right;\n",
       "    }\n",
       "</style>\n",
       "<table border=\"1\" class=\"dataframe\">\n",
       "  <thead>\n",
       "    <tr style=\"text-align: right;\">\n",
       "      <th></th>\n",
       "      <th>age</th>\n",
       "      <th>logo</th>\n",
       "      <th>id</th>\n",
       "      <th>survivd</th>\n",
       "      <th>0</th>\n",
       "      <th>1</th>\n",
       "      <th>2</th>\n",
       "      <th>3</th>\n",
       "      <th>4</th>\n",
       "      <th>5</th>\n",
       "      <th>...</th>\n",
       "      <th>67</th>\n",
       "      <th>68</th>\n",
       "      <th>69</th>\n",
       "      <th>70</th>\n",
       "      <th>71</th>\n",
       "      <th>72</th>\n",
       "      <th>73</th>\n",
       "      <th>74</th>\n",
       "      <th>75</th>\n",
       "      <th>76</th>\n",
       "    </tr>\n",
       "  </thead>\n",
       "  <tbody>\n",
       "    <tr>\n",
       "      <th>0</th>\n",
       "      <td>0.0</td>\n",
       "      <td>S</td>\n",
       "      <td>id_0</td>\n",
       "      <td>1.0</td>\n",
       "      <td>0.0</td>\n",
       "      <td>0.0</td>\n",
       "      <td>1.0</td>\n",
       "      <td>1.0</td>\n",
       "      <td>0.0</td>\n",
       "      <td>0.0</td>\n",
       "      <td>...</td>\n",
       "      <td>0.0</td>\n",
       "      <td>0.0</td>\n",
       "      <td>0.0</td>\n",
       "      <td>0.0</td>\n",
       "      <td>0.0</td>\n",
       "      <td>0.0</td>\n",
       "      <td>0.0</td>\n",
       "      <td>0.0</td>\n",
       "      <td>0.0</td>\n",
       "      <td>0.0</td>\n",
       "    </tr>\n",
       "    <tr>\n",
       "      <th>1</th>\n",
       "      <td>NaN</td>\n",
       "      <td>NaN</td>\n",
       "      <td>NaN</td>\n",
       "      <td>NaN</td>\n",
       "      <td>0.0</td>\n",
       "      <td>0.0</td>\n",
       "      <td>1.0</td>\n",
       "      <td>0.0</td>\n",
       "      <td>0.0</td>\n",
       "      <td>0.0</td>\n",
       "      <td>...</td>\n",
       "      <td>0.0</td>\n",
       "      <td>0.0</td>\n",
       "      <td>0.0</td>\n",
       "      <td>0.0</td>\n",
       "      <td>0.0</td>\n",
       "      <td>0.0</td>\n",
       "      <td>0.0</td>\n",
       "      <td>0.0</td>\n",
       "      <td>0.0</td>\n",
       "      <td>0.0</td>\n",
       "    </tr>\n",
       "    <tr>\n",
       "      <th>2</th>\n",
       "      <td>2.0</td>\n",
       "      <td>S</td>\n",
       "      <td>id_2</td>\n",
       "      <td>0.0</td>\n",
       "      <td>1.0</td>\n",
       "      <td>0.0</td>\n",
       "      <td>0.0</td>\n",
       "      <td>0.0</td>\n",
       "      <td>0.0</td>\n",
       "      <td>0.0</td>\n",
       "      <td>...</td>\n",
       "      <td>0.0</td>\n",
       "      <td>0.0</td>\n",
       "      <td>0.0</td>\n",
       "      <td>0.0</td>\n",
       "      <td>0.0</td>\n",
       "      <td>0.0</td>\n",
       "      <td>0.0</td>\n",
       "      <td>0.0</td>\n",
       "      <td>0.0</td>\n",
       "      <td>0.0</td>\n",
       "    </tr>\n",
       "    <tr>\n",
       "      <th>3</th>\n",
       "      <td>3.0</td>\n",
       "      <td>C</td>\n",
       "      <td>id_3</td>\n",
       "      <td>0.0</td>\n",
       "      <td>0.0</td>\n",
       "      <td>0.0</td>\n",
       "      <td>1.0</td>\n",
       "      <td>0.0</td>\n",
       "      <td>0.0</td>\n",
       "      <td>0.0</td>\n",
       "      <td>...</td>\n",
       "      <td>0.0</td>\n",
       "      <td>0.0</td>\n",
       "      <td>0.0</td>\n",
       "      <td>0.0</td>\n",
       "      <td>0.0</td>\n",
       "      <td>0.0</td>\n",
       "      <td>0.0</td>\n",
       "      <td>0.0</td>\n",
       "      <td>0.0</td>\n",
       "      <td>0.0</td>\n",
       "    </tr>\n",
       "    <tr>\n",
       "      <th>4</th>\n",
       "      <td>4.0</td>\n",
       "      <td>S</td>\n",
       "      <td>id_4</td>\n",
       "      <td>0.0</td>\n",
       "      <td>0.0</td>\n",
       "      <td>1.0</td>\n",
       "      <td>0.0</td>\n",
       "      <td>0.0</td>\n",
       "      <td>0.0</td>\n",
       "      <td>0.0</td>\n",
       "      <td>...</td>\n",
       "      <td>0.0</td>\n",
       "      <td>0.0</td>\n",
       "      <td>0.0</td>\n",
       "      <td>0.0</td>\n",
       "      <td>0.0</td>\n",
       "      <td>0.0</td>\n",
       "      <td>0.0</td>\n",
       "      <td>0.0</td>\n",
       "      <td>0.0</td>\n",
       "      <td>0.0</td>\n",
       "    </tr>\n",
       "  </tbody>\n",
       "</table>\n",
       "<p>5 rows × 81 columns</p>\n",
       "</div>"
      ],
      "text/plain": [
       "   age logo    id  survivd    0    1    2    3    4    5  ...   67   68   69  \\\n",
       "0  0.0    S  id_0      1.0  0.0  0.0  1.0  1.0  0.0  0.0  ...  0.0  0.0  0.0   \n",
       "1  NaN  NaN   NaN      NaN  0.0  0.0  1.0  0.0  0.0  0.0  ...  0.0  0.0  0.0   \n",
       "2  2.0    S  id_2      0.0  1.0  0.0  0.0  0.0  0.0  0.0  ...  0.0  0.0  0.0   \n",
       "3  3.0    C  id_3      0.0  0.0  0.0  1.0  0.0  0.0  0.0  ...  0.0  0.0  0.0   \n",
       "4  4.0    S  id_4      0.0  0.0  1.0  0.0  0.0  0.0  0.0  ...  0.0  0.0  0.0   \n",
       "\n",
       "    70   71   72   73   74   75   76  \n",
       "0  0.0  0.0  0.0  0.0  0.0  0.0  0.0  \n",
       "1  0.0  0.0  0.0  0.0  0.0  0.0  0.0  \n",
       "2  0.0  0.0  0.0  0.0  0.0  0.0  0.0  \n",
       "3  0.0  0.0  0.0  0.0  0.0  0.0  0.0  \n",
       "4  0.0  0.0  0.0  0.0  0.0  0.0  0.0  \n",
       "\n",
       "[5 rows x 81 columns]"
      ]
     },
     "execution_count": 18,
     "metadata": {},
     "output_type": "execute_result"
    }
   ],
   "source": [
    "# axis=1表示跨行进行合并，将两表左右相连，如果axis=0，就是将两个表上下拼接\n",
    "newData=pd.concat([data,pd.DataFrame(result)],axis=1)\n",
    "newData.head()"
   ]
  },
  {
   "cell_type": "code",
   "execution_count": 19,
   "id": "d302d23b",
   "metadata": {},
   "outputs": [],
   "source": [
    "newData.drop(['logo','id'],axis=1,inplace=True)"
   ]
  },
  {
   "cell_type": "code",
   "execution_count": 20,
   "id": "a97275b0",
   "metadata": {},
   "outputs": [
    {
     "data": {
      "text/html": [
       "<div>\n",
       "<style scoped>\n",
       "    .dataframe tbody tr th:only-of-type {\n",
       "        vertical-align: middle;\n",
       "    }\n",
       "\n",
       "    .dataframe tbody tr th {\n",
       "        vertical-align: top;\n",
       "    }\n",
       "\n",
       "    .dataframe thead th {\n",
       "        text-align: right;\n",
       "    }\n",
       "</style>\n",
       "<table border=\"1\" class=\"dataframe\">\n",
       "  <thead>\n",
       "    <tr style=\"text-align: right;\">\n",
       "      <th></th>\n",
       "      <th>age</th>\n",
       "      <th>survivd</th>\n",
       "      <th>0</th>\n",
       "      <th>1</th>\n",
       "      <th>2</th>\n",
       "      <th>3</th>\n",
       "      <th>4</th>\n",
       "      <th>5</th>\n",
       "      <th>6</th>\n",
       "      <th>7</th>\n",
       "      <th>...</th>\n",
       "      <th>67</th>\n",
       "      <th>68</th>\n",
       "      <th>69</th>\n",
       "      <th>70</th>\n",
       "      <th>71</th>\n",
       "      <th>72</th>\n",
       "      <th>73</th>\n",
       "      <th>74</th>\n",
       "      <th>75</th>\n",
       "      <th>76</th>\n",
       "    </tr>\n",
       "  </thead>\n",
       "  <tbody>\n",
       "    <tr>\n",
       "      <th>0</th>\n",
       "      <td>0.0</td>\n",
       "      <td>1.0</td>\n",
       "      <td>0.0</td>\n",
       "      <td>0.0</td>\n",
       "      <td>1.0</td>\n",
       "      <td>1.0</td>\n",
       "      <td>0.0</td>\n",
       "      <td>0.0</td>\n",
       "      <td>0.0</td>\n",
       "      <td>0.0</td>\n",
       "      <td>...</td>\n",
       "      <td>0.0</td>\n",
       "      <td>0.0</td>\n",
       "      <td>0.0</td>\n",
       "      <td>0.0</td>\n",
       "      <td>0.0</td>\n",
       "      <td>0.0</td>\n",
       "      <td>0.0</td>\n",
       "      <td>0.0</td>\n",
       "      <td>0.0</td>\n",
       "      <td>0.0</td>\n",
       "    </tr>\n",
       "    <tr>\n",
       "      <th>1</th>\n",
       "      <td>NaN</td>\n",
       "      <td>NaN</td>\n",
       "      <td>0.0</td>\n",
       "      <td>0.0</td>\n",
       "      <td>1.0</td>\n",
       "      <td>0.0</td>\n",
       "      <td>0.0</td>\n",
       "      <td>0.0</td>\n",
       "      <td>0.0</td>\n",
       "      <td>0.0</td>\n",
       "      <td>...</td>\n",
       "      <td>0.0</td>\n",
       "      <td>0.0</td>\n",
       "      <td>0.0</td>\n",
       "      <td>0.0</td>\n",
       "      <td>0.0</td>\n",
       "      <td>0.0</td>\n",
       "      <td>0.0</td>\n",
       "      <td>0.0</td>\n",
       "      <td>0.0</td>\n",
       "      <td>0.0</td>\n",
       "    </tr>\n",
       "    <tr>\n",
       "      <th>2</th>\n",
       "      <td>2.0</td>\n",
       "      <td>0.0</td>\n",
       "      <td>1.0</td>\n",
       "      <td>0.0</td>\n",
       "      <td>0.0</td>\n",
       "      <td>0.0</td>\n",
       "      <td>0.0</td>\n",
       "      <td>0.0</td>\n",
       "      <td>0.0</td>\n",
       "      <td>0.0</td>\n",
       "      <td>...</td>\n",
       "      <td>0.0</td>\n",
       "      <td>0.0</td>\n",
       "      <td>0.0</td>\n",
       "      <td>0.0</td>\n",
       "      <td>0.0</td>\n",
       "      <td>0.0</td>\n",
       "      <td>0.0</td>\n",
       "      <td>0.0</td>\n",
       "      <td>0.0</td>\n",
       "      <td>0.0</td>\n",
       "    </tr>\n",
       "    <tr>\n",
       "      <th>3</th>\n",
       "      <td>3.0</td>\n",
       "      <td>0.0</td>\n",
       "      <td>0.0</td>\n",
       "      <td>0.0</td>\n",
       "      <td>1.0</td>\n",
       "      <td>0.0</td>\n",
       "      <td>0.0</td>\n",
       "      <td>0.0</td>\n",
       "      <td>0.0</td>\n",
       "      <td>0.0</td>\n",
       "      <td>...</td>\n",
       "      <td>0.0</td>\n",
       "      <td>0.0</td>\n",
       "      <td>0.0</td>\n",
       "      <td>0.0</td>\n",
       "      <td>0.0</td>\n",
       "      <td>0.0</td>\n",
       "      <td>0.0</td>\n",
       "      <td>0.0</td>\n",
       "      <td>0.0</td>\n",
       "      <td>0.0</td>\n",
       "    </tr>\n",
       "    <tr>\n",
       "      <th>4</th>\n",
       "      <td>4.0</td>\n",
       "      <td>0.0</td>\n",
       "      <td>0.0</td>\n",
       "      <td>1.0</td>\n",
       "      <td>0.0</td>\n",
       "      <td>0.0</td>\n",
       "      <td>0.0</td>\n",
       "      <td>0.0</td>\n",
       "      <td>0.0</td>\n",
       "      <td>0.0</td>\n",
       "      <td>...</td>\n",
       "      <td>0.0</td>\n",
       "      <td>0.0</td>\n",
       "      <td>0.0</td>\n",
       "      <td>0.0</td>\n",
       "      <td>0.0</td>\n",
       "      <td>0.0</td>\n",
       "      <td>0.0</td>\n",
       "      <td>0.0</td>\n",
       "      <td>0.0</td>\n",
       "      <td>0.0</td>\n",
       "    </tr>\n",
       "  </tbody>\n",
       "</table>\n",
       "<p>5 rows × 79 columns</p>\n",
       "</div>"
      ],
      "text/plain": [
       "   age  survivd    0    1    2    3    4    5    6    7  ...   67   68   69  \\\n",
       "0  0.0      1.0  0.0  0.0  1.0  1.0  0.0  0.0  0.0  0.0  ...  0.0  0.0  0.0   \n",
       "1  NaN      NaN  0.0  0.0  1.0  0.0  0.0  0.0  0.0  0.0  ...  0.0  0.0  0.0   \n",
       "2  2.0      0.0  1.0  0.0  0.0  0.0  0.0  0.0  0.0  0.0  ...  0.0  0.0  0.0   \n",
       "3  3.0      0.0  0.0  0.0  1.0  0.0  0.0  0.0  0.0  0.0  ...  0.0  0.0  0.0   \n",
       "4  4.0      0.0  0.0  1.0  0.0  0.0  0.0  0.0  0.0  0.0  ...  0.0  0.0  0.0   \n",
       "\n",
       "    70   71   72   73   74   75   76  \n",
       "0  0.0  0.0  0.0  0.0  0.0  0.0  0.0  \n",
       "1  0.0  0.0  0.0  0.0  0.0  0.0  0.0  \n",
       "2  0.0  0.0  0.0  0.0  0.0  0.0  0.0  \n",
       "3  0.0  0.0  0.0  0.0  0.0  0.0  0.0  \n",
       "4  0.0  0.0  0.0  0.0  0.0  0.0  0.0  \n",
       "\n",
       "[5 rows x 79 columns]"
      ]
     },
     "execution_count": 20,
     "metadata": {},
     "output_type": "execute_result"
    }
   ],
   "source": [
    "newData.head()"
   ]
  },
  {
   "cell_type": "code",
   "execution_count": 21,
   "id": "12c120ee",
   "metadata": {},
   "outputs": [],
   "source": [
    "newData.columns=['age','survivd','x0_C', 'x0_K', 'x0_S', 'x1_id_0', 'x1_id_10', 'x1_id_12',\n",
    "       'x1_id_14', 'x1_id_15', 'x1_id_16', 'x1_id_18', 'x1_id_2',\n",
    "       'x1_id_20', 'x1_id_21', 'x1_id_22', 'x1_id_24', 'x1_id_25',\n",
    "       'x1_id_26', 'x1_id_27', 'x1_id_28', 'x1_id_3', 'x1_id_30',\n",
    "       'x1_id_32', 'x1_id_33', 'x1_id_34', 'x1_id_35', 'x1_id_36',\n",
    "       'x1_id_38', 'x1_id_39', 'x1_id_4', 'x1_id_40', 'x1_id_42',\n",
    "       'x1_id_44', 'x1_id_45', 'x1_id_46', 'x1_id_48', 'x1_id_5',\n",
    "       'x1_id_50', 'x1_id_51', 'x1_id_52', 'x1_id_54', 'x1_id_55',\n",
    "       'x1_id_56', 'x1_id_57', 'x1_id_58', 'x1_id_6', 'x1_id_60',\n",
    "       'x1_id_62', 'x1_id_63', 'x1_id_64', 'x1_id_65', 'x1_id_66',\n",
    "       'x1_id_68', 'x1_id_69', 'x1_id_70', 'x1_id_72', 'x1_id_74',\n",
    "       'x1_id_75', 'x1_id_76', 'x1_id_78', 'x1_id_8', 'x1_id_80',\n",
    "       'x1_id_81', 'x1_id_82', 'x1_id_84', 'x1_id_85', 'x1_id_86',\n",
    "       'x1_id_87', 'x1_id_88', 'x1_id_9', 'x1_id_90', 'x1_id_92',\n",
    "       'x1_id_93', 'x1_id_94', 'x1_id_95', 'x1_id_96', 'x1_id_98',\n",
    "       'x1_id_99']"
   ]
  },
  {
   "cell_type": "code",
   "execution_count": 22,
   "id": "2b1c1156",
   "metadata": {},
   "outputs": [
    {
     "data": {
      "text/html": [
       "<div>\n",
       "<style scoped>\n",
       "    .dataframe tbody tr th:only-of-type {\n",
       "        vertical-align: middle;\n",
       "    }\n",
       "\n",
       "    .dataframe tbody tr th {\n",
       "        vertical-align: top;\n",
       "    }\n",
       "\n",
       "    .dataframe thead th {\n",
       "        text-align: right;\n",
       "    }\n",
       "</style>\n",
       "<table border=\"1\" class=\"dataframe\">\n",
       "  <thead>\n",
       "    <tr style=\"text-align: right;\">\n",
       "      <th></th>\n",
       "      <th>age</th>\n",
       "      <th>survivd</th>\n",
       "      <th>x0_C</th>\n",
       "      <th>x0_K</th>\n",
       "      <th>x0_S</th>\n",
       "      <th>x1_id_0</th>\n",
       "      <th>x1_id_10</th>\n",
       "      <th>x1_id_12</th>\n",
       "      <th>x1_id_14</th>\n",
       "      <th>x1_id_15</th>\n",
       "      <th>...</th>\n",
       "      <th>x1_id_88</th>\n",
       "      <th>x1_id_9</th>\n",
       "      <th>x1_id_90</th>\n",
       "      <th>x1_id_92</th>\n",
       "      <th>x1_id_93</th>\n",
       "      <th>x1_id_94</th>\n",
       "      <th>x1_id_95</th>\n",
       "      <th>x1_id_96</th>\n",
       "      <th>x1_id_98</th>\n",
       "      <th>x1_id_99</th>\n",
       "    </tr>\n",
       "  </thead>\n",
       "  <tbody>\n",
       "    <tr>\n",
       "      <th>0</th>\n",
       "      <td>0.0</td>\n",
       "      <td>1.0</td>\n",
       "      <td>0.0</td>\n",
       "      <td>0.0</td>\n",
       "      <td>1.0</td>\n",
       "      <td>1.0</td>\n",
       "      <td>0.0</td>\n",
       "      <td>0.0</td>\n",
       "      <td>0.0</td>\n",
       "      <td>0.0</td>\n",
       "      <td>...</td>\n",
       "      <td>0.0</td>\n",
       "      <td>0.0</td>\n",
       "      <td>0.0</td>\n",
       "      <td>0.0</td>\n",
       "      <td>0.0</td>\n",
       "      <td>0.0</td>\n",
       "      <td>0.0</td>\n",
       "      <td>0.0</td>\n",
       "      <td>0.0</td>\n",
       "      <td>0.0</td>\n",
       "    </tr>\n",
       "    <tr>\n",
       "      <th>1</th>\n",
       "      <td>NaN</td>\n",
       "      <td>NaN</td>\n",
       "      <td>0.0</td>\n",
       "      <td>0.0</td>\n",
       "      <td>1.0</td>\n",
       "      <td>0.0</td>\n",
       "      <td>0.0</td>\n",
       "      <td>0.0</td>\n",
       "      <td>0.0</td>\n",
       "      <td>0.0</td>\n",
       "      <td>...</td>\n",
       "      <td>0.0</td>\n",
       "      <td>0.0</td>\n",
       "      <td>0.0</td>\n",
       "      <td>0.0</td>\n",
       "      <td>0.0</td>\n",
       "      <td>0.0</td>\n",
       "      <td>0.0</td>\n",
       "      <td>0.0</td>\n",
       "      <td>0.0</td>\n",
       "      <td>0.0</td>\n",
       "    </tr>\n",
       "    <tr>\n",
       "      <th>2</th>\n",
       "      <td>2.0</td>\n",
       "      <td>0.0</td>\n",
       "      <td>1.0</td>\n",
       "      <td>0.0</td>\n",
       "      <td>0.0</td>\n",
       "      <td>0.0</td>\n",
       "      <td>0.0</td>\n",
       "      <td>0.0</td>\n",
       "      <td>0.0</td>\n",
       "      <td>0.0</td>\n",
       "      <td>...</td>\n",
       "      <td>0.0</td>\n",
       "      <td>0.0</td>\n",
       "      <td>0.0</td>\n",
       "      <td>0.0</td>\n",
       "      <td>0.0</td>\n",
       "      <td>0.0</td>\n",
       "      <td>0.0</td>\n",
       "      <td>0.0</td>\n",
       "      <td>0.0</td>\n",
       "      <td>0.0</td>\n",
       "    </tr>\n",
       "    <tr>\n",
       "      <th>3</th>\n",
       "      <td>3.0</td>\n",
       "      <td>0.0</td>\n",
       "      <td>0.0</td>\n",
       "      <td>0.0</td>\n",
       "      <td>1.0</td>\n",
       "      <td>0.0</td>\n",
       "      <td>0.0</td>\n",
       "      <td>0.0</td>\n",
       "      <td>0.0</td>\n",
       "      <td>0.0</td>\n",
       "      <td>...</td>\n",
       "      <td>0.0</td>\n",
       "      <td>0.0</td>\n",
       "      <td>0.0</td>\n",
       "      <td>0.0</td>\n",
       "      <td>0.0</td>\n",
       "      <td>0.0</td>\n",
       "      <td>0.0</td>\n",
       "      <td>0.0</td>\n",
       "      <td>0.0</td>\n",
       "      <td>0.0</td>\n",
       "    </tr>\n",
       "    <tr>\n",
       "      <th>4</th>\n",
       "      <td>4.0</td>\n",
       "      <td>0.0</td>\n",
       "      <td>0.0</td>\n",
       "      <td>1.0</td>\n",
       "      <td>0.0</td>\n",
       "      <td>0.0</td>\n",
       "      <td>0.0</td>\n",
       "      <td>0.0</td>\n",
       "      <td>0.0</td>\n",
       "      <td>0.0</td>\n",
       "      <td>...</td>\n",
       "      <td>0.0</td>\n",
       "      <td>0.0</td>\n",
       "      <td>0.0</td>\n",
       "      <td>0.0</td>\n",
       "      <td>0.0</td>\n",
       "      <td>0.0</td>\n",
       "      <td>0.0</td>\n",
       "      <td>0.0</td>\n",
       "      <td>0.0</td>\n",
       "      <td>0.0</td>\n",
       "    </tr>\n",
       "  </tbody>\n",
       "</table>\n",
       "<p>5 rows × 79 columns</p>\n",
       "</div>"
      ],
      "text/plain": [
       "   age  survivd  x0_C  x0_K  x0_S  x1_id_0  x1_id_10  x1_id_12  x1_id_14  \\\n",
       "0  0.0      1.0   0.0   0.0   1.0      1.0       0.0       0.0       0.0   \n",
       "1  NaN      NaN   0.0   0.0   1.0      0.0       0.0       0.0       0.0   \n",
       "2  2.0      0.0   1.0   0.0   0.0      0.0       0.0       0.0       0.0   \n",
       "3  3.0      0.0   0.0   0.0   1.0      0.0       0.0       0.0       0.0   \n",
       "4  4.0      0.0   0.0   1.0   0.0      0.0       0.0       0.0       0.0   \n",
       "\n",
       "   x1_id_15  ...  x1_id_88  x1_id_9  x1_id_90  x1_id_92  x1_id_93  x1_id_94  \\\n",
       "0       0.0  ...       0.0      0.0       0.0       0.0       0.0       0.0   \n",
       "1       0.0  ...       0.0      0.0       0.0       0.0       0.0       0.0   \n",
       "2       0.0  ...       0.0      0.0       0.0       0.0       0.0       0.0   \n",
       "3       0.0  ...       0.0      0.0       0.0       0.0       0.0       0.0   \n",
       "4       0.0  ...       0.0      0.0       0.0       0.0       0.0       0.0   \n",
       "\n",
       "   x1_id_95  x1_id_96  x1_id_98  x1_id_99  \n",
       "0       0.0       0.0       0.0       0.0  \n",
       "1       0.0       0.0       0.0       0.0  \n",
       "2       0.0       0.0       0.0       0.0  \n",
       "3       0.0       0.0       0.0       0.0  \n",
       "4       0.0       0.0       0.0       0.0  \n",
       "\n",
       "[5 rows x 79 columns]"
      ]
     },
     "execution_count": 22,
     "metadata": {},
     "output_type": "execute_result"
    }
   ],
   "source": [
    "newData.head()"
   ]
  },
  {
   "cell_type": "markdown",
   "id": "defa8aa0",
   "metadata": {},
   "source": [
    "### 处理连续型特征：二值化与分段\n",
    "##### 二值化：将数值转换为0和1\n",
    "##### 分段：将数据进行切分"
   ]
  },
  {
   "cell_type": "code",
   "execution_count": 23,
   "id": "d5615aaa",
   "metadata": {},
   "outputs": [
    {
     "data": {
      "text/html": [
       "<div>\n",
       "<style scoped>\n",
       "    .dataframe tbody tr th:only-of-type {\n",
       "        vertical-align: middle;\n",
       "    }\n",
       "\n",
       "    .dataframe tbody tr th {\n",
       "        vertical-align: top;\n",
       "    }\n",
       "\n",
       "    .dataframe thead th {\n",
       "        text-align: right;\n",
       "    }\n",
       "</style>\n",
       "<table border=\"1\" class=\"dataframe\">\n",
       "  <thead>\n",
       "    <tr style=\"text-align: right;\">\n",
       "      <th></th>\n",
       "      <th>age</th>\n",
       "      <th>survivd</th>\n",
       "      <th>x0_C</th>\n",
       "      <th>x0_K</th>\n",
       "      <th>x0_S</th>\n",
       "      <th>x1_id_0</th>\n",
       "      <th>x1_id_10</th>\n",
       "      <th>x1_id_12</th>\n",
       "      <th>x1_id_14</th>\n",
       "      <th>x1_id_15</th>\n",
       "      <th>...</th>\n",
       "      <th>x1_id_88</th>\n",
       "      <th>x1_id_9</th>\n",
       "      <th>x1_id_90</th>\n",
       "      <th>x1_id_92</th>\n",
       "      <th>x1_id_93</th>\n",
       "      <th>x1_id_94</th>\n",
       "      <th>x1_id_95</th>\n",
       "      <th>x1_id_96</th>\n",
       "      <th>x1_id_98</th>\n",
       "      <th>x1_id_99</th>\n",
       "    </tr>\n",
       "  </thead>\n",
       "  <tbody>\n",
       "    <tr>\n",
       "      <th>0</th>\n",
       "      <td>0.0</td>\n",
       "      <td>1.0</td>\n",
       "      <td>0.0</td>\n",
       "      <td>0.0</td>\n",
       "      <td>1.0</td>\n",
       "      <td>1.0</td>\n",
       "      <td>0.0</td>\n",
       "      <td>0.0</td>\n",
       "      <td>0.0</td>\n",
       "      <td>0.0</td>\n",
       "      <td>...</td>\n",
       "      <td>0.0</td>\n",
       "      <td>0.0</td>\n",
       "      <td>0.0</td>\n",
       "      <td>0.0</td>\n",
       "      <td>0.0</td>\n",
       "      <td>0.0</td>\n",
       "      <td>0.0</td>\n",
       "      <td>0.0</td>\n",
       "      <td>0.0</td>\n",
       "      <td>0.0</td>\n",
       "    </tr>\n",
       "    <tr>\n",
       "      <th>1</th>\n",
       "      <td>NaN</td>\n",
       "      <td>NaN</td>\n",
       "      <td>0.0</td>\n",
       "      <td>0.0</td>\n",
       "      <td>1.0</td>\n",
       "      <td>0.0</td>\n",
       "      <td>0.0</td>\n",
       "      <td>0.0</td>\n",
       "      <td>0.0</td>\n",
       "      <td>0.0</td>\n",
       "      <td>...</td>\n",
       "      <td>0.0</td>\n",
       "      <td>0.0</td>\n",
       "      <td>0.0</td>\n",
       "      <td>0.0</td>\n",
       "      <td>0.0</td>\n",
       "      <td>0.0</td>\n",
       "      <td>0.0</td>\n",
       "      <td>0.0</td>\n",
       "      <td>0.0</td>\n",
       "      <td>0.0</td>\n",
       "    </tr>\n",
       "    <tr>\n",
       "      <th>2</th>\n",
       "      <td>2.0</td>\n",
       "      <td>0.0</td>\n",
       "      <td>1.0</td>\n",
       "      <td>0.0</td>\n",
       "      <td>0.0</td>\n",
       "      <td>0.0</td>\n",
       "      <td>0.0</td>\n",
       "      <td>0.0</td>\n",
       "      <td>0.0</td>\n",
       "      <td>0.0</td>\n",
       "      <td>...</td>\n",
       "      <td>0.0</td>\n",
       "      <td>0.0</td>\n",
       "      <td>0.0</td>\n",
       "      <td>0.0</td>\n",
       "      <td>0.0</td>\n",
       "      <td>0.0</td>\n",
       "      <td>0.0</td>\n",
       "      <td>0.0</td>\n",
       "      <td>0.0</td>\n",
       "      <td>0.0</td>\n",
       "    </tr>\n",
       "    <tr>\n",
       "      <th>3</th>\n",
       "      <td>3.0</td>\n",
       "      <td>0.0</td>\n",
       "      <td>0.0</td>\n",
       "      <td>0.0</td>\n",
       "      <td>1.0</td>\n",
       "      <td>0.0</td>\n",
       "      <td>0.0</td>\n",
       "      <td>0.0</td>\n",
       "      <td>0.0</td>\n",
       "      <td>0.0</td>\n",
       "      <td>...</td>\n",
       "      <td>0.0</td>\n",
       "      <td>0.0</td>\n",
       "      <td>0.0</td>\n",
       "      <td>0.0</td>\n",
       "      <td>0.0</td>\n",
       "      <td>0.0</td>\n",
       "      <td>0.0</td>\n",
       "      <td>0.0</td>\n",
       "      <td>0.0</td>\n",
       "      <td>0.0</td>\n",
       "    </tr>\n",
       "    <tr>\n",
       "      <th>4</th>\n",
       "      <td>4.0</td>\n",
       "      <td>0.0</td>\n",
       "      <td>0.0</td>\n",
       "      <td>1.0</td>\n",
       "      <td>0.0</td>\n",
       "      <td>0.0</td>\n",
       "      <td>0.0</td>\n",
       "      <td>0.0</td>\n",
       "      <td>0.0</td>\n",
       "      <td>0.0</td>\n",
       "      <td>...</td>\n",
       "      <td>0.0</td>\n",
       "      <td>0.0</td>\n",
       "      <td>0.0</td>\n",
       "      <td>0.0</td>\n",
       "      <td>0.0</td>\n",
       "      <td>0.0</td>\n",
       "      <td>0.0</td>\n",
       "      <td>0.0</td>\n",
       "      <td>0.0</td>\n",
       "      <td>0.0</td>\n",
       "    </tr>\n",
       "  </tbody>\n",
       "</table>\n",
       "<p>5 rows × 79 columns</p>\n",
       "</div>"
      ],
      "text/plain": [
       "   age  survivd  x0_C  x0_K  x0_S  x1_id_0  x1_id_10  x1_id_12  x1_id_14  \\\n",
       "0  0.0      1.0   0.0   0.0   1.0      1.0       0.0       0.0       0.0   \n",
       "1  NaN      NaN   0.0   0.0   1.0      0.0       0.0       0.0       0.0   \n",
       "2  2.0      0.0   1.0   0.0   0.0      0.0       0.0       0.0       0.0   \n",
       "3  3.0      0.0   0.0   0.0   1.0      0.0       0.0       0.0       0.0   \n",
       "4  4.0      0.0   0.0   1.0   0.0      0.0       0.0       0.0       0.0   \n",
       "\n",
       "   x1_id_15  ...  x1_id_88  x1_id_9  x1_id_90  x1_id_92  x1_id_93  x1_id_94  \\\n",
       "0       0.0  ...       0.0      0.0       0.0       0.0       0.0       0.0   \n",
       "1       0.0  ...       0.0      0.0       0.0       0.0       0.0       0.0   \n",
       "2       0.0  ...       0.0      0.0       0.0       0.0       0.0       0.0   \n",
       "3       0.0  ...       0.0      0.0       0.0       0.0       0.0       0.0   \n",
       "4       0.0  ...       0.0      0.0       0.0       0.0       0.0       0.0   \n",
       "\n",
       "   x1_id_95  x1_id_96  x1_id_98  x1_id_99  \n",
       "0       0.0       0.0       0.0       0.0  \n",
       "1       0.0       0.0       0.0       0.0  \n",
       "2       0.0       0.0       0.0       0.0  \n",
       "3       0.0       0.0       0.0       0.0  \n",
       "4       0.0       0.0       0.0       0.0  \n",
       "\n",
       "[5 rows x 79 columns]"
      ]
     },
     "execution_count": 23,
     "metadata": {},
     "output_type": "execute_result"
    }
   ],
   "source": [
    "data2=newData.copy()\n",
    "data2.head()"
   ]
  },
  {
   "cell_type": "code",
   "execution_count": 24,
   "id": "75e9703b",
   "metadata": {},
   "outputs": [],
   "source": [
    "# labelencoder\n",
    "data2.iloc[:,1]=LabelEncoder().fit_transform(data2.iloc[:,1])"
   ]
  },
  {
   "cell_type": "code",
   "execution_count": 25,
   "id": "5242c1bf",
   "metadata": {},
   "outputs": [
    {
     "data": {
      "text/html": [
       "<div>\n",
       "<style scoped>\n",
       "    .dataframe tbody tr th:only-of-type {\n",
       "        vertical-align: middle;\n",
       "    }\n",
       "\n",
       "    .dataframe tbody tr th {\n",
       "        vertical-align: top;\n",
       "    }\n",
       "\n",
       "    .dataframe thead th {\n",
       "        text-align: right;\n",
       "    }\n",
       "</style>\n",
       "<table border=\"1\" class=\"dataframe\">\n",
       "  <thead>\n",
       "    <tr style=\"text-align: right;\">\n",
       "      <th></th>\n",
       "      <th>age</th>\n",
       "      <th>survivd</th>\n",
       "      <th>x0_C</th>\n",
       "      <th>x0_K</th>\n",
       "      <th>x0_S</th>\n",
       "      <th>x1_id_0</th>\n",
       "      <th>x1_id_10</th>\n",
       "      <th>x1_id_12</th>\n",
       "      <th>x1_id_14</th>\n",
       "      <th>x1_id_15</th>\n",
       "      <th>...</th>\n",
       "      <th>x1_id_88</th>\n",
       "      <th>x1_id_9</th>\n",
       "      <th>x1_id_90</th>\n",
       "      <th>x1_id_92</th>\n",
       "      <th>x1_id_93</th>\n",
       "      <th>x1_id_94</th>\n",
       "      <th>x1_id_95</th>\n",
       "      <th>x1_id_96</th>\n",
       "      <th>x1_id_98</th>\n",
       "      <th>x1_id_99</th>\n",
       "    </tr>\n",
       "  </thead>\n",
       "  <tbody>\n",
       "    <tr>\n",
       "      <th>0</th>\n",
       "      <td>0.0</td>\n",
       "      <td>1</td>\n",
       "      <td>0.0</td>\n",
       "      <td>0.0</td>\n",
       "      <td>1.0</td>\n",
       "      <td>1.0</td>\n",
       "      <td>0.0</td>\n",
       "      <td>0.0</td>\n",
       "      <td>0.0</td>\n",
       "      <td>0.0</td>\n",
       "      <td>...</td>\n",
       "      <td>0.0</td>\n",
       "      <td>0.0</td>\n",
       "      <td>0.0</td>\n",
       "      <td>0.0</td>\n",
       "      <td>0.0</td>\n",
       "      <td>0.0</td>\n",
       "      <td>0.0</td>\n",
       "      <td>0.0</td>\n",
       "      <td>0.0</td>\n",
       "      <td>0.0</td>\n",
       "    </tr>\n",
       "    <tr>\n",
       "      <th>1</th>\n",
       "      <td>NaN</td>\n",
       "      <td>2</td>\n",
       "      <td>0.0</td>\n",
       "      <td>0.0</td>\n",
       "      <td>1.0</td>\n",
       "      <td>0.0</td>\n",
       "      <td>0.0</td>\n",
       "      <td>0.0</td>\n",
       "      <td>0.0</td>\n",
       "      <td>0.0</td>\n",
       "      <td>...</td>\n",
       "      <td>0.0</td>\n",
       "      <td>0.0</td>\n",
       "      <td>0.0</td>\n",
       "      <td>0.0</td>\n",
       "      <td>0.0</td>\n",
       "      <td>0.0</td>\n",
       "      <td>0.0</td>\n",
       "      <td>0.0</td>\n",
       "      <td>0.0</td>\n",
       "      <td>0.0</td>\n",
       "    </tr>\n",
       "    <tr>\n",
       "      <th>2</th>\n",
       "      <td>2.0</td>\n",
       "      <td>0</td>\n",
       "      <td>1.0</td>\n",
       "      <td>0.0</td>\n",
       "      <td>0.0</td>\n",
       "      <td>0.0</td>\n",
       "      <td>0.0</td>\n",
       "      <td>0.0</td>\n",
       "      <td>0.0</td>\n",
       "      <td>0.0</td>\n",
       "      <td>...</td>\n",
       "      <td>0.0</td>\n",
       "      <td>0.0</td>\n",
       "      <td>0.0</td>\n",
       "      <td>0.0</td>\n",
       "      <td>0.0</td>\n",
       "      <td>0.0</td>\n",
       "      <td>0.0</td>\n",
       "      <td>0.0</td>\n",
       "      <td>0.0</td>\n",
       "      <td>0.0</td>\n",
       "    </tr>\n",
       "    <tr>\n",
       "      <th>3</th>\n",
       "      <td>3.0</td>\n",
       "      <td>0</td>\n",
       "      <td>0.0</td>\n",
       "      <td>0.0</td>\n",
       "      <td>1.0</td>\n",
       "      <td>0.0</td>\n",
       "      <td>0.0</td>\n",
       "      <td>0.0</td>\n",
       "      <td>0.0</td>\n",
       "      <td>0.0</td>\n",
       "      <td>...</td>\n",
       "      <td>0.0</td>\n",
       "      <td>0.0</td>\n",
       "      <td>0.0</td>\n",
       "      <td>0.0</td>\n",
       "      <td>0.0</td>\n",
       "      <td>0.0</td>\n",
       "      <td>0.0</td>\n",
       "      <td>0.0</td>\n",
       "      <td>0.0</td>\n",
       "      <td>0.0</td>\n",
       "    </tr>\n",
       "    <tr>\n",
       "      <th>4</th>\n",
       "      <td>4.0</td>\n",
       "      <td>0</td>\n",
       "      <td>0.0</td>\n",
       "      <td>1.0</td>\n",
       "      <td>0.0</td>\n",
       "      <td>0.0</td>\n",
       "      <td>0.0</td>\n",
       "      <td>0.0</td>\n",
       "      <td>0.0</td>\n",
       "      <td>0.0</td>\n",
       "      <td>...</td>\n",
       "      <td>0.0</td>\n",
       "      <td>0.0</td>\n",
       "      <td>0.0</td>\n",
       "      <td>0.0</td>\n",
       "      <td>0.0</td>\n",
       "      <td>0.0</td>\n",
       "      <td>0.0</td>\n",
       "      <td>0.0</td>\n",
       "      <td>0.0</td>\n",
       "      <td>0.0</td>\n",
       "    </tr>\n",
       "  </tbody>\n",
       "</table>\n",
       "<p>5 rows × 79 columns</p>\n",
       "</div>"
      ],
      "text/plain": [
       "   age  survivd  x0_C  x0_K  x0_S  x1_id_0  x1_id_10  x1_id_12  x1_id_14  \\\n",
       "0  0.0        1   0.0   0.0   1.0      1.0       0.0       0.0       0.0   \n",
       "1  NaN        2   0.0   0.0   1.0      0.0       0.0       0.0       0.0   \n",
       "2  2.0        0   1.0   0.0   0.0      0.0       0.0       0.0       0.0   \n",
       "3  3.0        0   0.0   0.0   1.0      0.0       0.0       0.0       0.0   \n",
       "4  4.0        0   0.0   1.0   0.0      0.0       0.0       0.0       0.0   \n",
       "\n",
       "   x1_id_15  ...  x1_id_88  x1_id_9  x1_id_90  x1_id_92  x1_id_93  x1_id_94  \\\n",
       "0       0.0  ...       0.0      0.0       0.0       0.0       0.0       0.0   \n",
       "1       0.0  ...       0.0      0.0       0.0       0.0       0.0       0.0   \n",
       "2       0.0  ...       0.0      0.0       0.0       0.0       0.0       0.0   \n",
       "3       0.0  ...       0.0      0.0       0.0       0.0       0.0       0.0   \n",
       "4       0.0  ...       0.0      0.0       0.0       0.0       0.0       0.0   \n",
       "\n",
       "   x1_id_95  x1_id_96  x1_id_98  x1_id_99  \n",
       "0       0.0       0.0       0.0       0.0  \n",
       "1       0.0       0.0       0.0       0.0  \n",
       "2       0.0       0.0       0.0       0.0  \n",
       "3       0.0       0.0       0.0       0.0  \n",
       "4       0.0       0.0       0.0       0.0  \n",
       "\n",
       "[5 rows x 79 columns]"
      ]
     },
     "execution_count": 25,
     "metadata": {},
     "output_type": "execute_result"
    }
   ],
   "source": [
    "data2.head()"
   ]
  },
  {
   "cell_type": "code",
   "execution_count": 43,
   "id": "f2d266cb",
   "metadata": {},
   "outputs": [],
   "source": [
    "#填补缺失值后的数据\n",
    "# 缺失值处理\n",
    "import pandas as pd\n",
    "# 使用pandas进行填充\n",
    "data_=data2\n",
    "data_.loc[:,'age']=data.loc[:,'age'].fillna(data.loc[:,'age'].median())\n",
    "data_.head()\n",
    "# 删除缺失值\n",
    "data_.dropna(axis=0,inplace=True)"
   ]
  },
  {
   "cell_type": "markdown",
   "id": "962ff473",
   "metadata": {},
   "source": [
    "# 使用preprocessing.KBinsDiscretizer进行处理\n"
   ]
  },
  {
   "cell_type": "markdown",
   "id": "03d3bfdf",
   "metadata": {},
   "source": [
    "### 参数介绍\n",
    "##### n_bins: 每个特征中分箱的个数，默认为5\n",
    "##### encode:one-hot (做哑变量，返回一个稀疏矩阵)，oridianl(每个特征的每个分箱会编码为一个数)，onehot-dense(返回一个密集数组)\n",
    "##### strategy:用来定义箱宽的方式，默认”quantile“\n",
    "##### 取值有：uniform(表示等宽分箱)，quantile(等位分箱)，kmeans(按聚类分箱)"
   ]
  },
  {
   "cell_type": "code",
   "execution_count": 47,
   "id": "70beb7b5",
   "metadata": {},
   "outputs": [
    {
     "data": {
      "text/plain": [
       "{0.0, 1.0, 2.0}"
      ]
     },
     "execution_count": 47,
     "metadata": {},
     "output_type": "execute_result"
    }
   ],
   "source": [
    "from sklearn.preprocessing import KBinsDiscretizer\n",
    "x=data_.iloc[:,0].values.reshape(-1,1)\n",
    "est=KBinsDiscretizer(n_bins=3\n",
    "                    ,encode=\"ordinal\"\n",
    "                    ,strategy=\"uniform\"\n",
    "                    )\n",
    "est.fit(x)\n",
    "\n",
    "\n",
    "# 使用降维查看转换后的分值，变成了一列中的三箱\n",
    "set(est.fit_transform(x).ravel())"
   ]
  },
  {
   "cell_type": "code",
   "execution_count": 48,
   "id": "6a068ee4",
   "metadata": {},
   "outputs": [
    {
     "data": {
      "text/plain": [
       "array([[1., 0., 0.],\n",
       "       [1., 0., 0.],\n",
       "       [1., 0., 0.],\n",
       "       [1., 0., 0.],\n",
       "       [0., 0., 1.],\n",
       "       [1., 0., 0.],\n",
       "       [1., 0., 0.],\n",
       "       [1., 0., 0.],\n",
       "       [1., 0., 0.],\n",
       "       [1., 0., 0.],\n",
       "       [1., 0., 0.],\n",
       "       [1., 0., 0.],\n",
       "       [1., 0., 0.],\n",
       "       [1., 0., 0.],\n",
       "       [1., 0., 0.],\n",
       "       [1., 0., 0.],\n",
       "       [1., 0., 0.],\n",
       "       [0., 1., 0.],\n",
       "       [0., 0., 1.],\n",
       "       [0., 1., 0.],\n",
       "       [0., 1., 0.],\n",
       "       [0., 1., 0.],\n",
       "       [0., 1., 0.],\n",
       "       [0., 1., 0.],\n",
       "       [0., 1., 0.],\n",
       "       [0., 1., 0.],\n",
       "       [0., 0., 1.],\n",
       "       [0., 1., 0.],\n",
       "       [0., 1., 0.],\n",
       "       [0., 1., 0.],\n",
       "       [0., 1., 0.],\n",
       "       [0., 1., 0.],\n",
       "       [0., 1., 0.],\n",
       "       [0., 1., 0.],\n",
       "       [0., 1., 0.],\n",
       "       [0., 0., 1.],\n",
       "       [0., 0., 1.],\n",
       "       [0., 0., 1.],\n",
       "       [0., 0., 1.],\n",
       "       [0., 0., 1.],\n",
       "       [0., 0., 1.],\n",
       "       [0., 0., 1.],\n",
       "       [0., 0., 1.],\n",
       "       [0., 0., 1.],\n",
       "       [0., 0., 1.],\n",
       "       [0., 0., 1.],\n",
       "       [0., 0., 1.],\n",
       "       [0., 0., 1.],\n",
       "       [0., 0., 1.],\n",
       "       [0., 0., 1.],\n",
       "       [0., 0., 1.],\n",
       "       [0., 0., 1.],\n",
       "       [0., 0., 1.],\n",
       "       [0., 0., 1.]])"
      ]
     },
     "execution_count": 48,
     "metadata": {},
     "output_type": "execute_result"
    }
   ],
   "source": [
    "est=KBinsDiscretizer(n_bins=3\n",
    "                     ,encode=\"onehot\"\n",
    "                     ,strategy=\"uniform\"\n",
    "                    )\n",
    "\n",
    "# 查看转换后的分支，变成了哑变量\n",
    "est.fit_transform(x).toarray()"
   ]
  },
  {
   "cell_type": "markdown",
   "id": "ea3f9ae8",
   "metadata": {},
   "source": [
    "### 特征处理\n",
    "##### 特征提取\n",
    "##### 特征创造：根据现有特征构造新的组合特征\n",
    "##### 特征选择：去掉对目标预测值相关性较低的特征"
   ]
  },
  {
   "cell_type": "markdown",
   "id": "373050f8",
   "metadata": {},
   "source": [
    "### 特征选择\n",
    "#### 过滤法\n",
    "#####  1.方差过滤:降低计算成本\n",
    "##### 2.相关性过滤：挑选与标签相关性较高的特征"
   ]
  },
  {
   "cell_type": "code",
   "execution_count": 81,
   "id": "325a5e49",
   "metadata": {},
   "outputs": [
    {
     "data": {
      "text/plain": [
       "(54, 78)"
      ]
     },
     "execution_count": 81,
     "metadata": {},
     "output_type": "execute_result"
    }
   ],
   "source": [
    "import pandas as pd\n",
    "#填补缺失值后的数据\n",
    "# 缺失值处理\n",
    "import pandas as pd\n",
    "# 使用pandas进行填充\n",
    "data_=data2\n",
    "\n",
    "data2.head()\n",
    "x=data2.loc[:,data2.columns!=\"survivd\"]\n",
    "y=data2.loc[:,\"survivd\"]\n",
    "x.shape"
   ]
  },
  {
   "cell_type": "code",
   "execution_count": 82,
   "id": "8017e19f",
   "metadata": {},
   "outputs": [
    {
     "data": {
      "text/plain": [
       "(54, 58)"
      ]
     },
     "execution_count": 82,
     "metadata": {},
     "output_type": "execute_result"
    }
   ],
   "source": [
    "from sklearn.feature_selection import VarianceThreshold\n",
    "selector=VarianceThreshold() #实例化,默认使用方差0进行过滤\n",
    "\n",
    "x_var0=selector.fit_transform(x) #获取删除不合格特征之后的新特征矩阵\n",
    "x_var0.shape"
   ]
  },
  {
   "cell_type": "code",
   "execution_count": 83,
   "id": "95212a47",
   "metadata": {},
   "outputs": [
    {
     "data": {
      "text/plain": [
       "(54, 4)"
      ]
     },
     "execution_count": 83,
     "metadata": {},
     "output_type": "execute_result"
    }
   ],
   "source": [
    "import numpy as np\n",
    "# 获取方差的中位数\n",
    "np.median(x.var().values)\n",
    "# 根据方差的中位数进行过滤\n",
    "x_fsvar=VarianceThreshold(np.median(x.var().values)).fit_transform(x)\n",
    "x_fsvar.shape"
   ]
  },
  {
   "cell_type": "code",
   "execution_count": 84,
   "id": "19e718ad",
   "metadata": {},
   "outputs": [
    {
     "data": {
      "text/plain": [
       "(54, 3)"
      ]
     },
     "execution_count": 84,
     "metadata": {},
     "output_type": "execute_result"
    }
   ],
   "source": [
    "# 使用指定的方差作为阈值进行过滤\n",
    "x_bar=VarianceThreshold(.8*(1-.8)).fit_transform(x)\n",
    "x_bar.shape"
   ]
  },
  {
   "cell_type": "markdown",
   "id": "532ee900",
   "metadata": {},
   "source": [
    "### 调用模型"
   ]
  },
  {
   "cell_type": "code",
   "execution_count": 92,
   "id": "9542ff0d",
   "metadata": {},
   "outputs": [
    {
     "data": {
      "text/plain": [
       "(54, 4)"
      ]
     },
     "execution_count": 92,
     "metadata": {},
     "output_type": "execute_result"
    }
   ],
   "source": [
    "from sklearn.ensemble import RandomForestClassifier as RFC\n",
    "from sklearn.neighbors import KNeighborsClassifier as KNN\n",
    "from sklearn.model_selection import cross_val_score\n",
    "import numpy as np\n",
    "\n",
    "\n",
    "x=data2.loc[:,data2.columns!=\"survivd\"]\n",
    "y=data2.loc[:,\"survivd\"]\n",
    "\n",
    "x_fsvar=VarianceThreshold(np.median(x.var().values)).fit_transform(x)\n",
    "x_fsvar.shape"
   ]
  },
  {
   "cell_type": "code",
   "execution_count": 90,
   "id": "d55991ad",
   "metadata": {},
   "outputs": [
    {
     "data": {
      "text/plain": [
       "0.76"
      ]
     },
     "execution_count": 90,
     "metadata": {},
     "output_type": "execute_result"
    }
   ],
   "source": [
    "# 使用KNN模型过滤前后进行对比\n",
    "# 查看Cell运行时间 %%timeit\n",
    "cross_val_score(KNN(),x,y,cv=5).mean()"
   ]
  },
  {
   "cell_type": "code",
   "execution_count": 91,
   "id": "a78ec61d",
   "metadata": {},
   "outputs": [
    {
     "data": {
      "text/plain": [
       "0.76"
      ]
     },
     "execution_count": 91,
     "metadata": {},
     "output_type": "execute_result"
    }
   ],
   "source": [
    "cross_val_score(KNN(),x_fsvar,y,cv=5).mean()"
   ]
  },
  {
   "cell_type": "code",
   "execution_count": 97,
   "id": "206a94c5",
   "metadata": {},
   "outputs": [
    {
     "data": {
      "text/plain": [
       "0.76"
      ]
     },
     "execution_count": 97,
     "metadata": {},
     "output_type": "execute_result"
    }
   ],
   "source": [
    "# 使用RFC模型对比过滤前后得分\n",
    "cross_val_score(RFC(n_estimators=10,random_state=0),x,y,cv=5).mean()"
   ]
  },
  {
   "cell_type": "code",
   "execution_count": 99,
   "id": "3c3c95d1",
   "metadata": {},
   "outputs": [
    {
     "data": {
      "text/plain": [
       "0.6690909090909092"
      ]
     },
     "execution_count": 99,
     "metadata": {},
     "output_type": "execute_result"
    }
   ],
   "source": [
    "cross_val_score(RFC(n_estimators=10,random_state=0),x_fsvar,y,cv=5).mean()"
   ]
  },
  {
   "cell_type": "markdown",
   "id": "8eafed7a",
   "metadata": {},
   "source": [
    "### 相关性过滤\n",
    "##### 1.卡方过滤（离散型数据）\n",
    "##### 2.F检验（回归和分类）\n",
    "##### 3.互信息过滤（回归于分类）"
   ]
  },
  {
   "cell_type": "code",
   "execution_count": 108,
   "id": "f3d2b7b8",
   "metadata": {},
   "outputs": [
    {
     "data": {
      "text/plain": [
       "(54, 3)"
      ]
     },
     "execution_count": 108,
     "metadata": {},
     "output_type": "execute_result"
    }
   ],
   "source": [
    "from sklearn.ensemble import RandomForestClassifier as RFC\n",
    "from sklearn.model_selection import cross_val_score\n",
    "from sklearn.feature_selection import SelectKBest\n",
    "from sklearn.feature_selection import chi2\n",
    "# 使用经过方差过滤的数据进一步处理\n",
    "\n",
    "x_fschi=SelectKBest(chi2,k=3).fit_transform(x_fsvar,y)\n",
    "x_fschi.shape"
   ]
  },
  {
   "cell_type": "code",
   "execution_count": 112,
   "id": "61a119b0",
   "metadata": {},
   "outputs": [
    {
     "data": {
      "text/plain": [
       "0.6290909090909091"
      ]
     },
     "execution_count": 112,
     "metadata": {},
     "output_type": "execute_result"
    }
   ],
   "source": [
    "cross_val_score(RFC(n_estimators=10,random_state=0),x_fschi,y,cv=5).mean()"
   ]
  },
  {
   "cell_type": "code",
   "execution_count": 114,
   "id": "d52cf91e",
   "metadata": {},
   "outputs": [
    {
     "data": {
      "image/png": "[encoded data removed]",
      "text/plain": [
       "<Figure size 432x288 with 1 Axes>"
      ]
     },
     "metadata": {
      "needs_background": "light"
     },
     "output_type": "display_data"
    }
   ],
   "source": [
    "# 绘制k值的学习曲线\n",
    "import matplotlib.pyplot as plt\n",
    "score=[]\n",
    "for i in range(10,50,5):\n",
    "    x_fschi=SelectKBest(chi2,k=i).fit_transform(x_var0,y)\n",
    "    once=cross_val_score(RFC(n_estimators=10,random_state=0),x_fschi,y,cv=10).mean()\n",
    "    score.append(once)\n",
    "plt.plot(range(10,50,5),score,color=\"blue\")\n",
    "plt.show()\n",
    "    "
   ]
  },
  {
   "cell_type": "code",
   "execution_count": 117,
   "id": "4bb4c0b3",
   "metadata": {},
   "outputs": [
    {
     "data": {
      "text/html": [
       "<div>\n",
       "<style scoped>\n",
       "    .dataframe tbody tr th:only-of-type {\n",
       "        vertical-align: middle;\n",
       "    }\n",
       "\n",
       "    .dataframe tbody tr th {\n",
       "        vertical-align: top;\n",
       "    }\n",
       "\n",
       "    .dataframe thead th {\n",
       "        text-align: right;\n",
       "    }\n",
       "</style>\n",
       "<table border=\"1\" class=\"dataframe\">\n",
       "  <thead>\n",
       "    <tr style=\"text-align: right;\">\n",
       "      <th></th>\n",
       "      <th>P值</th>\n",
       "      <th>&lt;=0.05或0.01</th>\n",
       "      <th>&gt;0.05或0.01</th>\n",
       "    </tr>\n",
       "  </thead>\n",
       "  <tbody>\n",
       "    <tr>\n",
       "      <th>0</th>\n",
       "      <td>数据差异</td>\n",
       "      <td>差异不是自然形成的</td>\n",
       "      <td>自然形成的差异</td>\n",
       "    </tr>\n",
       "    <tr>\n",
       "      <th>1</th>\n",
       "      <td>相关性</td>\n",
       "      <td>两组数据相关</td>\n",
       "      <td>两组数据独立</td>\n",
       "    </tr>\n",
       "    <tr>\n",
       "      <th>2</th>\n",
       "      <td>原假设</td>\n",
       "      <td>拒绝原假设，接受备择假设</td>\n",
       "      <td>接受原假设</td>\n",
       "    </tr>\n",
       "  </tbody>\n",
       "</table>\n",
       "</div>"
      ],
      "text/plain": [
       "     P值   <=0.05或0.01 >0.05或0.01\n",
       "0  数据差异     差异不是自然形成的    自然形成的差异\n",
       "1   相关性        两组数据相关     两组数据独立\n",
       "2   原假设  拒绝原假设，接受备择假设      接受原假设"
      ]
     },
     "execution_count": 117,
     "metadata": {},
     "output_type": "execute_result"
    }
   ],
   "source": [
    "title=[\"数据差异\",\"相关性\",\"原假设\"]\n",
    "data1=[\"差异不是自然形成的\",\"两组数据相关\",\"拒绝原假设，接受备择假设\"]\n",
    "data2=[\"自然形成的差异\",\"两组数据独立\",\"接受原假设\"]\n",
    "import pandas as pd\n",
    "datainfo=pd.DataFrame()\n",
    "datainfo[\"P值\"]=title\n",
    "datainfo[\"<=0.05或0.01\"]=data1\n",
    "datainfo[\">0.05或0.01\"]=data2\n",
    "datainfo"
   ]
  },
  {
   "cell_type": "code",
   "execution_count": 121,
   "id": "3f7a887f",
   "metadata": {},
   "outputs": [
    {
     "data": {
      "text/plain": [
       "array([0.77142926, 0.2089374 , 0.07745913, 0.01688555])"
      ]
     },
     "execution_count": 121,
     "metadata": {},
     "output_type": "execute_result"
    }
   ],
   "source": [
    "# 获取卡方值和p值\n",
    "chivalue,pvalues_chi=chi2(x_fsvar,y)\n",
    "chivalue"
   ]
  },
  {
   "cell_type": "code",
   "execution_count": 119,
   "id": "6dee43c6",
   "metadata": {},
   "outputs": [
    {
     "data": {
      "text/plain": [
       "array([0.37977526, 0.64760153, 0.78077072, 0.8966104 ])"
      ]
     },
     "execution_count": 119,
     "metadata": {},
     "output_type": "execute_result"
    }
   ],
   "source": [
    "pvalues_chi"
   ]
  },
  {
   "cell_type": "code",
   "execution_count": 123,
   "id": "0935281e",
   "metadata": {},
   "outputs": [
    {
     "data": {
      "text/plain": [
       "0"
      ]
     },
     "execution_count": 123,
     "metadata": {},
     "output_type": "execute_result"
    }
   ],
   "source": [
    "# k为需要保存的特征数量\n",
    "\n",
    "k=chivalue.shape[0]-(pvalues_chi>0.05).sum()\n",
    "k"
   ]
  },
  {
   "cell_type": "markdown",
   "id": "32891783",
   "metadata": {},
   "source": [
    "### F检验\n",
    "##### 离散型和连续型\n"
   ]
  },
  {
   "cell_type": "code",
   "execution_count": 128,
   "id": "e77623da",
   "metadata": {},
   "outputs": [
    {
     "data": {
      "text/plain": [
       "array([0.06538827, 0.2539022 , 0.08584093, 0.04882629])"
      ]
     },
     "execution_count": 128,
     "metadata": {},
     "output_type": "execute_result"
    }
   ],
   "source": [
    "from sklearn.feature_selection import f_classif #检验分类\n",
    "from sklearn.feature_selection import f_regression #检验回归\n",
    "\n",
    "\n",
    "F,pvalues_f=f_classif(x_fsvar,y)\n",
    "F"
   ]
  },
  {
   "cell_type": "code",
   "execution_count": 126,
   "id": "c5f59fcc",
   "metadata": {},
   "outputs": [
    {
     "data": {
      "text/plain": [
       "array([0.79918258, 0.61646896, 0.77069871, 0.82598371])"
      ]
     },
     "execution_count": 126,
     "metadata": {},
     "output_type": "execute_result"
    }
   ],
   "source": [
    "pvalues_f"
   ]
  },
  {
   "cell_type": "code",
   "execution_count": 127,
   "id": "944ec0d5",
   "metadata": {},
   "outputs": [
    {
     "data": {
      "text/plain": [
       "0"
      ]
     },
     "execution_count": 127,
     "metadata": {},
     "output_type": "execute_result"
    }
   ],
   "source": [
    "# 找出p值大于0.05的特征量进行删除\n",
    "F.shape[0]-(pvalues_f>0.05).sum()"
   ]
  },
  {
   "cell_type": "markdown",
   "id": "c1f52c67",
   "metadata": {},
   "source": [
    "### 互信息法\n",
    "##### 离散型和连续型\n",
    "##### 用来捕捉特征与标签的任何关系（线性和非线性）"
   ]
  },
  {
   "cell_type": "code",
   "execution_count": 140,
   "id": "099c923d",
   "metadata": {},
   "outputs": [
    {
     "name": "stderr",
     "output_type": "stream",
     "text": [
      "d:\\miniconda3\\envs\\torch_qxy\\lib\\site-packages\\sklearn\\utils\\validation.py:72: FutureWarning: Pass k=1 as keyword args. From version 1.0 (renaming of 0.25) passing these as positional arguments will result in an error\n",
      "  \"will result in an error\", FutureWarning)\n"
     ]
    },
    {
     "data": {
      "text/plain": [
       "0.76"
      ]
     },
     "execution_count": 140,
     "metadata": {},
     "output_type": "execute_result"
    }
   ],
   "source": [
    "from sklearn.feature_selection import mutual_info_classif as MIC  #分类\n",
    "from sklearn.feature_selection import mutual_info_regression as MIR #回归\n",
    "from sklearn.feature_selection import SelectKBest\n",
    "\n",
    "result=MIC(x_fsvar,y)\n",
    "k=result.shape[0]-sum(result<=0)\n",
    "k\n",
    "\n",
    "x_fsmic=SelectKBest(MIC,k).fit_transform(x_fsvar,y)\n",
    "cross_val_score(RFC(n_estimators=10,random_state=0),x_fsmic,y,cv=5).mean()"
   ]
  },
  {
   "cell_type": "markdown",
   "id": "f669d0dd",
   "metadata": {},
   "source": [
    "# 嵌入法"
   ]
  },
  {
   "cell_type": "code",
   "execution_count": 145,
   "id": "6f453a53",
   "metadata": {},
   "outputs": [
    {
     "data": {
      "text/plain": [
       "(54, 19)"
      ]
     },
     "execution_count": 145,
     "metadata": {},
     "output_type": "execute_result"
    }
   ],
   "source": [
    "from sklearn.feature_selection import SelectFromModel\n",
    "from sklearn.ensemble import RandomForestClassifier as RFC\n",
    "\n",
    "RFC_=RFC(n_estimators=10,random_state=0) #随机森林的实例化\n",
    "x_embedded=SelectFromModel(RFC_,threshold=0.005).fit_transform(x,y) #实例化embedded\n",
    "x_embedded.shape"
   ]
  },
  {
   "cell_type": "code",
   "execution_count": 147,
   "id": "479089d8",
   "metadata": {},
   "outputs": [
    {
     "data": {
      "text/plain": [
       "0.13821196634778574"
      ]
     },
     "execution_count": 147,
     "metadata": {},
     "output_type": "execute_result"
    }
   ],
   "source": [
    "RFC_.fit(x,y).feature_importances_.max()"
   ]
  },
  {
   "cell_type": "markdown",
   "id": "cc60a777",
   "metadata": {},
   "source": [
    "##### 根据threshold 绘制学习曲线\n",
    "    "
   ]
  },
  {
   "cell_type": "code",
   "execution_count": 151,
   "id": "246aa54b",
   "metadata": {},
   "outputs": [
    {
     "data": {
      "image/png": "[encoded data removed]",
      "text/plain": [
       "<Figure size 432x288 with 1 Axes>"
      ]
     },
     "metadata": {
      "needs_background": "light"
     },
     "output_type": "display_data"
    }
   ],
   "source": [
    "import matplotlib.pyplot as plt\n",
    "from sklearn.model_selection import cross_val_score\n",
    "\n",
    "# 使用linspace\n",
    "threshold=np.linspace(0,RFC_.fit(x,y).feature_importances_.max(),20)\n",
    "\n",
    "score=[]\n",
    "for i in threshold:\n",
    "    x_embedded=SelectFromModel(RFC_,threshold=i).fit_transform(x,y) #实例化embedded\n",
    "    x_score=cross_val_score(RFC_,x_embedded,y,cv=10).mean()\n",
    "    score.append(x_score)\n",
    "    \n",
    "plt.plot(threshold,score)\n",
    "plt.show()"
   ]
  },
  {
   "cell_type": "markdown",
   "id": "79e46ad8",
   "metadata": {},
   "source": [
    "### 包装法\n",
    "##### 目标函数：RFE，递归特征消除法"
   ]
  },
  {
   "cell_type": "code",
   "execution_count": 154,
   "id": "35065f33",
   "metadata": {},
   "outputs": [
    {
     "data": {
      "text/plain": [
       "10"
      ]
     },
     "execution_count": 154,
     "metadata": {},
     "output_type": "execute_result"
    }
   ],
   "source": [
    "from sklearn.model_selection import cross_val_score\n",
    "from sklearn.feature_selection import RFE\n",
    "from sklearn.ensemble import RandomForestClassifier as RFC\n",
    "\n",
    "RFC_=RFC(n_estimators=10,random_state=0)\n",
    "selector=RFE(RFC_,n_features_to_select=10,step=5).fit(x,y)\n",
    "selector.support_.sum()"
   ]
  },
  {
   "cell_type": "code",
   "execution_count": 156,
   "id": "113d613b",
   "metadata": {},
   "outputs": [
    {
     "data": {
      "text/plain": [
       "array([ 1,  3,  3,  3,  2,  6, 10,  6, 10,  1, 11, 11,  6, 11,  9, 11,  1,\n",
       "       12,  8, 11,  9,  5, 13,  1,  7,  8,  6, 14, 14,  7,  2, 13,  4, 14,\n",
       "        7,  8,  5,  3, 15,  5,  9,  8, 13,  1, 13,  4,  5,  3, 12, 12,  1,\n",
       "       13, 10, 12,  4, 12,  1,  9,  4,  7,  2,  6, 14,  1, 15, 10,  7, 10,\n",
       "        5, 15,  1, 15,  9,  8,  4, 15,  1, 14])"
      ]
     },
     "execution_count": 156,
     "metadata": {},
     "output_type": "execute_result"
    }
   ],
   "source": [
    "selector.ranking_"
   ]
  },
  {
   "cell_type": "code",
   "execution_count": 158,
   "id": "3d22f86c",
   "metadata": {},
   "outputs": [
    {
     "data": {
      "text/plain": [
       "0.7236363636363636"
      ]
     },
     "execution_count": 158,
     "metadata": {},
     "output_type": "execute_result"
    }
   ],
   "source": [
    "x_wrapper=selector.transform(x)\n",
    "cross_val_score(RFC_,x_wrapper,y,cv=5).mean()"
   ]
  },
  {
   "cell_type": "markdown",
   "id": "d361870f",
   "metadata": {},
   "source": [
    "### 根据n_feature_to_select绘制学习曲线\n"
   ]
  },
  {
   "cell_type": "code",
   "execution_count": 159,
   "id": "ed809afe",
   "metadata": {},
   "outputs": [
    {
     "data": {
      "image/png": "[encoded data removed]",
      "text/plain": [
       "<Figure size 432x288 with 1 Axes>"
      ]
     },
     "metadata": {
      "needs_background": "light"
     },
     "output_type": "display_data"
    }
   ],
   "source": [
    "score=[]\n",
    "for i in range(1,50,5):\n",
    "    RFC_=RFC(n_estimators=10,random_state=0)\n",
    "    selector=RFE(RFC_,n_features_to_select=i,step=5).fit(x,y)\n",
    "    x_wrapper=selector.transform(x)\n",
    "    t_score=cross_val_score(RFC_,x_wrapper,y,cv=5).mean()\n",
    "    score.append(t_score)\n",
    "    \n",
    "plt.plot(range(1,50,5),score)\n",
    "plt.show()\n",
    "    "
   ]
  },
  {
   "cell_type": "code",
   "execution_count": null,
   "id": "0a6691d2",
   "metadata": {},
   "outputs": [],
   "source": []
  }
 ],
 "metadata": {
  "kernelspec": {
   "display_name": "Python 3 (ipykernel)",
   "language": "python",
   "name": "python3"
  },
  "language_info": {
   "codemirror_mode": {
    "name": "ipython",
    "version": 3
   },
   "file_extension": ".py",
   "mimetype": "text/x-python",
   "name": "python",
   "nbconvert_exporter": "python",
   "pygments_lexer": "ipython3",
   "version": "3.7.11"
  }
 },
 "nbformat": 4,
 "nbformat_minor": 5
}
