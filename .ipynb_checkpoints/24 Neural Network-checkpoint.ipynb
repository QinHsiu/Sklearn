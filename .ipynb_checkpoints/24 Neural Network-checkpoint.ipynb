{
 "cells": [
  {
   "cell_type": "code",
   "execution_count": 5,
   "id": "4beacf54",
   "metadata": {},
   "outputs": [
    {
     "data": {
      "text/plain": [
       "array([-0.2 , -0.05, -0.05,  0.1 ])"
      ]
     },
     "execution_count": 5,
     "metadata": {},
     "output_type": "execute_result"
    }
   ],
   "source": [
    "# 伯努利限制珀尔兹蛮机器RBM，一种随机递归神经网络\n",
    "# 多层感知机分类器\n",
    "# 多层感知机回归器\n",
    "from sklearn.neural_network import BernoulliRBM,MLPClassifier,MLPRegressor \n",
    "\n",
    "# 回归单层神经网络\n",
    "import numpy as np\n",
    "\n",
    "x=np.array([[0,0],[1,0],[0,1],[1,1]]) #x1,x2\n",
    "z_reg=np.array([-0.2,-0.05,-0.05,0.1]) \n",
    "\n",
    "def LinearR(x1,x2):\n",
    "    w1,w2,b=0.15,0.15,-0.2\n",
    "    z=w1*x1+w2*x2+b\n",
    "    return z\n",
    "\n",
    "LinearR(x[:,0],x[:,1]) "
   ]
  },
  {
   "cell_type": "code",
   "execution_count": 9,
   "id": "bdcea9cf",
   "metadata": {},
   "outputs": [
    {
     "data": {
      "text/plain": [
       "[0, 0, 0, 1]"
      ]
     },
     "execution_count": 9,
     "metadata": {},
     "output_type": "execute_result"
    }
   ],
   "source": [
    "# 二分类单层神经网络,使用sigmoid函数，符号函数 sign\n",
    "y_rand=np.array([0,0,0,1])\n",
    "def sigmoid(z):\n",
    "    return 1/(1+np.exp(-z))\n",
    "\n",
    "# 使用sigmoid函数\n",
    "def AND_sigmoid(x1,x2):\n",
    "    w1,w2,b=0.15,0.15,-0.2\n",
    "    z=w1*x1+w2*x2+b\n",
    "    return sigmoid(z),[int(i>=0.5) for i in sigmoid(z)] \n",
    "\n",
    "# 使用阶跃函数\n",
    "def AND_sign(x1,x2):\n",
    "    w1,w2,b=0.15,0.15,-0.2\n",
    "    z=w1*x1+w2*x2+b\n",
    "    return [int(i) for i in z>=0] \n",
    "\n",
    "\n",
    "AND_sigmoid(x[:,0],x[:,1])\n",
    "AND_sign(x[:,0],x[:,1])"
   ]
  },
  {
   "cell_type": "code",
   "execution_count": 14,
   "id": "c323fcb5",
   "metadata": {},
   "outputs": [
    {
     "name": "stdout",
     "output_type": "stream",
     "text": [
      "overflow\n"
     ]
    },
    {
     "name": "stderr",
     "output_type": "stream",
     "text": [
      "d:\\miniconda3\\envs\\torch_qxy\\lib\\site-packages\\ipykernel_launcher.py:5: RuntimeWarning: overflow encountered in exp\n",
      "  \"\"\"\n",
      "d:\\miniconda3\\envs\\torch_qxy\\lib\\site-packages\\ipykernel_launcher.py:5: RuntimeWarning: invalid value encountered in true_divide\n",
      "  \"\"\"\n"
     ]
    },
    {
     "data": {
      "text/plain": [
       "array([9.99954600e-01, 4.53978686e-05, 2.06106005e-09])"
      ]
     },
     "execution_count": 14,
     "metadata": {},
     "output_type": "execute_result"
    }
   ],
   "source": [
    "# 多分类单层神经网络，使用softmax回归或者恒等函数\n",
    "# 逻辑回归通过MVM(多对多)和OVR(一对多)来进行多分类\n",
    "# o=e^(zk)/sum(e^(zK))\n",
    "z=np.array([1010,1000,990])\n",
    "np.exp(z)/np.sum(np.exp(z))\n",
    "print(\"overflow\")\n",
    "\n",
    "# 分子分母同乘一个C值\n",
    "def softmax(z):\n",
    "    c=np.max(z)\n",
    "    exp_z=np.exp(z-c) #防止溢出\n",
    "    sum_exp_z=np.sum(exp_z)\n",
    "    o=exp_z/sum_exp_z\n",
    "    return o\n",
    "\n",
    "softmax(z)"
   ]
  },
  {
   "cell_type": "code",
   "execution_count": null,
   "id": "ba676a7f",
   "metadata": {},
   "outputs": [],
   "source": []
  }
 ],
 "metadata": {
  "kernelspec": {
   "display_name": "Python 3 (ipykernel)",
   "language": "python",
   "name": "python3"
  },
  "language_info": {
   "codemirror_mode": {
    "name": "ipython",
    "version": 3
   },
   "file_extension": ".py",
   "mimetype": "text/x-python",
   "name": "python",
   "nbconvert_exporter": "python",
   "pygments_lexer": "ipython3",
   "version": "3.7.11"
  }
 },
 "nbformat": 4,
 "nbformat_minor": 5
}
