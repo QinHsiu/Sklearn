{
 "cells": [
  {
   "cell_type": "markdown",
   "id": "5fde9c9d",
   "metadata": {},
   "source": [
    "### 对数几率回归是一种分类算法\n",
    "##### Logistic Regression\n",
    "##### 几率：p/(1-p)\n",
    "###### 逻辑回归对线性关系的拟合结果好\n",
    "###### 对于线性数据，计算快\n",
    "###### 逻辑回归返回的分类结果不是固定的0，1，而是以小数形式呈现的类概率数字"
   ]
  },
  {
   "cell_type": "code",
   "execution_count": 8,
   "id": "20f39ba2",
   "metadata": {},
   "outputs": [],
   "source": [
    "from sklearn.linear_model import LogisticRegression as LR #逻辑回归分类器\n",
    "from sklearn.linear_model import LogisticRegressionCV as LRCV #带交叉验证的逻辑回归分类器\n",
    "# from sklearn.linear_model import logistic_regression_path #计算逻辑回归模型以获得正则化参数\n",
    "from sklearn.linear_model import SGDClassifier #利用梯度下降求解线性分类器（SVM、逻辑回归等）\n",
    "from sklearn.linear_model import SGDRegressor #利用梯度下降最小正则化后的损失函数的线性回归模型\n",
    "\n",
    "from sklearn.metrics import log_loss #对数损失，也叫逻辑损失或者交叉熵损失\n",
    "\n",
    "# 模型评估\n",
    "from sklearn.metrics import confusion_matrix #混淆矩阵，模型评估\n",
    "from sklearn.metrics import roc_auc_score #ROC曲线，模型评估\n",
    "from sklearn.metrics import accuracy_score #精确性，模型评估"
   ]
  },
  {
   "cell_type": "markdown",
   "id": "b1fbdad5",
   "metadata": {},
   "source": [
    "##### 使用正则化来预防过拟合\n",
    "##### 正则化项可以使用 L1（会将参数压缩至0）,L2范数（会让参数尽量小，不会取到0）\n"
   ]
  },
  {
   "cell_type": "code",
   "execution_count": 16,
   "id": "22e84b73",
   "metadata": {},
   "outputs": [],
   "source": [
    "from sklearn.linear_model import LogisticRegression as LR\n",
    "from sklearn.datasets import load_breast_cancer\n",
    "\n",
    "from sklearn.model_selection import train_test_split\n",
    "from sklearn.model_selection import cross_val_score\n",
    "from sklearn.metrics import accuracy_score\n",
    "\n",
    "import numpy as np\n",
    "import matplotlib.pyplot as plt"
   ]
  },
  {
   "cell_type": "code",
   "execution_count": 17,
   "id": "272ea4b2",
   "metadata": {},
   "outputs": [
    {
     "data": {
      "text/plain": [
       "(569,)"
      ]
     },
     "execution_count": 17,
     "metadata": {},
     "output_type": "execute_result"
    }
   ],
   "source": [
    "# 加载数据\n",
    "data=load_breast_cancer()\n",
    "x=data.data\n",
    "y=data.target\n",
    "y.shape"
   ]
  },
  {
   "cell_type": "markdown",
   "id": "a2209615",
   "metadata": {},
   "source": [
    "### 使用不同正则化项进行分类，观察分类得分"
   ]
  },
  {
   "cell_type": "code",
   "execution_count": 27,
   "id": "fbc2af48",
   "metadata": {},
   "outputs": [],
   "source": [
    "# 划分数据集\n",
    "x_train,x_test,y_train,y_test=train_test_split(x,y,test_size=0.1)\n",
    "# L1范数\n",
    "l1=LR(penalty=\"l1\",solver=\"liblinear\",C=0.5,max_iter=1000)\n",
    "l1=l1.fit(x_train,y_train)\n",
    "# L2范数\n",
    "l2=LR(penalty=\"l2\",solver=\"liblinear\",C=0.5,max_iter=1000)\n",
    "l2=l2.fit(x_train,y_train)"
   ]
  },
  {
   "cell_type": "code",
   "execution_count": 28,
   "id": "797d1d21",
   "metadata": {},
   "outputs": [
    {
     "data": {
      "text/plain": [
       "array([10])"
      ]
     },
     "execution_count": 28,
     "metadata": {},
     "output_type": "execute_result"
    }
   ],
   "source": [
    "l1.coef_ #查看每个特征所对应的参数\n",
    "(l1.coef_!=0).sum(axis=1)"
   ]
  },
  {
   "cell_type": "code",
   "execution_count": 29,
   "id": "95dbbad9",
   "metadata": {},
   "outputs": [
    {
     "data": {
      "text/plain": [
       "array([30])"
      ]
     },
     "execution_count": 29,
     "metadata": {},
     "output_type": "execute_result"
    }
   ],
   "source": [
    "l2.coef_ #查看每个特征所对应的参数\n",
    "(l2.coef_!=0).sum(axis=1)"
   ]
  },
  {
   "cell_type": "code",
   "execution_count": 74,
   "id": "48368df9",
   "metadata": {},
   "outputs": [
    {
     "data": {
      "image/png": "[encoded data removed]",
      "text/plain": [
       "<Figure size 432x432 with 1 Axes>"
      ]
     },
     "metadata": {
      "needs_background": "light"
     },
     "output_type": "display_data"
    }
   ],
   "source": [
    "# 对比两个正则化项在不同条件下的学习曲线\n",
    "def show_plot(x,y):\n",
    "    x_train,x_test,y_train,y_test=train_test_split(x,y,test_size=0.1,random_state=0)\n",
    "    l1=[]\n",
    "    l2=[]\n",
    "    l1_test=[]\n",
    "    l2_test=[]\n",
    "    for i in np.linspace(0.05,1,19):\n",
    "        lr1=LR(penalty=\"l1\",solver=\"liblinear\",C=i,max_iter=1000)\n",
    "        lr2=LR(penalty=\"l2\",solver=\"liblinear\",C=i,max_iter=1000)\n",
    "        \n",
    "        lr1=lr1.fit(x_train,y_train)\n",
    "        l1.append(accuracy_score(lr1.predict(x_train),y_train))\n",
    "        l1_test.append(accuracy_score(lr1.predict(x_test),y_test))\n",
    "        \n",
    "        lr2=lr2.fit(x_train,y_train)\n",
    "        l2.append(accuracy_score(lr2.predict(x_train),y_train))\n",
    "        l2_test.append(accuracy_score(lr2.predict(x_test),y_test))\n",
    "        \n",
    "    labels=['l1_train','l1_test','l2_train','l2_test']\n",
    "    colors=['r','b','g','y']\n",
    "    data=[l1,l1_test,l2,l2_test]\n",
    "    plt.figure(figsize=(6,6))\n",
    "    for i in range(4):\n",
    "        plt.plot(np.linspace(0.05,1,19),data[i],color=colors[i],label=labels[i])\n",
    "        plt.xlabel('difference C')\n",
    "        plt.ylabel(\"L1 and L2's  accuracy_score on train and test\")\n",
    "        plt.legend(loc='lower right')\n",
    "    plt.title('different C values')\n",
    "    plt.show()\n",
    "    \n",
    "show_plot(x,y)  "
   ]
  },
  {
   "cell_type": "code",
   "execution_count": 40,
   "id": "a5ec1aeb",
   "metadata": {},
   "outputs": [],
   "source": [
    "plt.legend?"
   ]
  },
  {
   "cell_type": "markdown",
   "id": "ec8cbd00",
   "metadata": {},
   "source": [
    "      loc取值\n",
    "       'best'         0\n",
    "        'upper right'     1\n",
    "        'upper left'      2\n",
    "        'lower left'      3\n",
    "        'lower right'     4\n",
    "        'right'         5\n",
    "        'center left'     6\n",
    "        'center right'     7\n",
    "        'lower center'     8\n",
    "        'upper center'     9\n",
    "        'center'         10"
   ]
  },
  {
   "cell_type": "markdown",
   "id": "03d4f286",
   "metadata": {},
   "source": [
    "### 逻辑回归的特征工程"
   ]
  },
  {
   "cell_type": "markdown",
   "id": "996c733a",
   "metadata": {},
   "source": [
    "### 使用embedded\n",
    "##### 参数threshold用来调节嵌入法的阈值，删除所有参数的绝对值小于该值的特征，默认值为None "
   ]
  },
  {
   "cell_type": "code",
   "execution_count": 43,
   "id": "37060819",
   "metadata": {},
   "outputs": [],
   "source": [
    "from sklearn.feature_selection import SelectFromModel"
   ]
  },
  {
   "cell_type": "code",
   "execution_count": 58,
   "id": "06a35886",
   "metadata": {},
   "outputs": [
    {
     "name": "stdout",
     "output_type": "stream",
     "text": [
      "降维前： (569, 30)\n"
     ]
    },
    {
     "data": {
      "text/plain": [
       "0.9525694767893185"
      ]
     },
     "execution_count": 58,
     "metadata": {},
     "output_type": "execute_result"
    }
   ],
   "source": [
    "LR_=LR(solver=\"liblinear\",C=0.9,random_state=420)\n",
    "print('降维前：',x.shape)\n",
    "cross_val_score(LR_,x,y,cv=5).mean()"
   ]
  },
  {
   "cell_type": "code",
   "execution_count": 57,
   "id": "4cdf22c0",
   "metadata": {},
   "outputs": [
    {
     "name": "stdout",
     "output_type": "stream",
     "text": [
      "降维后： (569, 9)\n"
     ]
    },
    {
     "data": {
      "text/plain": [
       "0.9368107769423559"
      ]
     },
     "execution_count": 57,
     "metadata": {},
     "output_type": "execute_result"
    }
   ],
   "source": [
    "x_embedded=SelectFromModel(LR_,norm_order=1).fit_transform(x,y)\n",
    "print(\"降维后：\",x_embedded.shape)\n",
    "cross_val_score(LR_,x_embedded,y,cv=10).mean()"
   ]
  },
  {
   "cell_type": "markdown",
   "id": "d684faf2",
   "metadata": {},
   "source": [
    "### 根据embedded的阈值绘制学习曲线"
   ]
  },
  {
   "cell_type": "code",
   "execution_count": 73,
   "id": "f2054427",
   "metadata": {},
   "outputs": [
    {
     "name": "stdout",
     "output_type": "stream",
     "text": [
      "阈值：0.000000 对应的降维特征个数为：30 交叉得分为：0.952569\n",
      "阈值：0.106996 对应的降维特征个数为：17 交叉得分为：0.936764\n",
      "阈值：0.213993 对应的降维特征个数为：12 交叉得分为：0.935026\n",
      "阈值：0.320989 对应的降维特征个数为：11 交叉得分为：0.935026\n",
      "阈值：0.427986 对应的降维特征个数为：8 交叉得分为：0.938519\n",
      "阈值：0.534982 对应的降维特征个数为：8 交叉得分为：0.938519\n",
      "阈值：0.641979 对应的降维特征个数为：6 交叉得分为：0.934995\n",
      "阈值：0.748975 对应的降维特征个数为：5 交叉得分为：0.936749\n",
      "阈值：0.855972 对应的降维特征个数为：5 交叉得分为：0.936749\n",
      "阈值：0.962968 对应的降维特征个数为：5 交叉得分为：0.936749\n",
      "阈值：1.069965 对应的降维特征个数为：5 交叉得分为：0.936749\n",
      "阈值：1.176961 对应的降维特征个数为：4 交叉得分为：0.934995\n",
      "阈值：1.283958 对应的降维特征个数为：2 交叉得分为：0.908632\n",
      "阈值：1.390954 对应的降维特征个数为：2 交叉得分为：0.908632\n",
      "阈值：1.497951 对应的降维特征个数为：2 交叉得分为：0.908632\n",
      "阈值：1.604947 对应的降维特征个数为：1 交叉得分为：0.885841\n",
      "阈值：1.711944 对应的降维特征个数为：1 交叉得分为：0.885841\n",
      "阈值：1.818940 对应的降维特征个数为：1 交叉得分为：0.885841\n",
      "阈值：1.925937 对应的降维特征个数为：1 交叉得分为：0.885841\n",
      "阈值：2.032933 对应的降维特征个数为：1 交叉得分为：0.885841\n"
     ]
    },
    {
     "data": {
      "image/png": "[encoded data removed]",
      "text/plain": [
       "<Figure size 1440x360 with 1 Axes>"
      ]
     },
     "metadata": {
      "needs_background": "light"
     },
     "output_type": "display_data"
    }
   ],
   "source": [
    "def plot_embedded(x,y):\n",
    "    fullx=[]\n",
    "    fsx=[]\n",
    "    LR_=LR(solver=\"liblinear\",C=0.9,random_state=420)\n",
    "    threshold=np.linspace(0,abs(LR_.fit(x,y).coef_).max(),20) #设置阈值范围\n",
    "    k=0\n",
    "    for i in threshold:\n",
    "        x_embedded=SelectFromModel(LR_,threshold=i,norm_order=1).fit_transform(x,y)\n",
    "        fullx.append(cross_val_score(LR_,x,y,cv=5).mean())\n",
    "        fsx.append(cross_val_score(LR_,x_embedded,y,cv=5).mean())\n",
    "        print(\"阈值：%f 对应的降维特征个数为：%d 交叉得分为：%f\"%(threshold[k],x_embedded.shape[1],fsx[k]))\n",
    "        k+=1\n",
    "    plt.figure(figsize=(20,5))\n",
    "    plt.plot(threshold,fullx,color=\"r\",label=\"full x\")\n",
    "    plt.plot(threshold,fsx,color=\"b\",label=\"embedded x\")\n",
    "    plt.xlabel('embedded threshold')\n",
    "    plt.ylabel('cross_val_score')\n",
    "    plt.legend(loc='lower left')\n",
    "    plt.show()\n",
    "    \n",
    "plot_embedded(x,y)\n",
    "    "
   ]
  },
  {
   "cell_type": "markdown",
   "id": "778601ac",
   "metadata": {},
   "source": [
    "### 不同C值对交叉验证的影响"
   ]
  },
  {
   "cell_type": "code",
   "execution_count": 83,
   "id": "f54d836d",
   "metadata": {},
   "outputs": [
    {
     "name": "stdout",
     "output_type": "stream",
     "text": [
      "C值：3.500000 对应的降维特征个数为：9 交叉得分为：0.949091\n",
      "C值：3.550000 对应的降维特征个数为：9 交叉得分为：0.952600\n",
      "C值：3.600000 对应的降维特征个数为：10 交叉得分为：0.950846\n",
      "C值：3.650000 对应的降维特征个数为：10 交叉得分为：0.954355\n",
      "C值：3.700000 对应的降维特征个数为：10 交叉得分为：0.954355\n",
      "C值：3.750000 对应的降维特征个数为：9 交叉得分为：0.952600\n",
      "C值：3.800000 对应的降维特征个数为：9 交叉得分为：0.950846\n",
      "C值：3.850000 对应的降维特征个数为：10 交叉得分为：0.954355\n",
      "C值：3.900000 对应的降维特征个数为：10 交叉得分为：0.954355\n",
      "C值：3.950000 对应的降维特征个数为：9 交叉得分为：0.952600\n",
      "C值：4.000000 对应的降维特征个数为：10 交叉得分为：0.954355\n",
      "C值：4.050000 对应的降维特征个数为：9 交叉得分为：0.952600\n",
      "C值：4.100000 对应的降维特征个数为：9 交叉得分为：0.952600\n",
      "C值：4.150000 对应的降维特征个数为：9 交叉得分为：0.952600\n",
      "C值：4.200000 对应的降维特征个数为：10 交叉得分为：0.954355\n",
      "C值：4.250000 对应的降维特征个数为：10 交叉得分为：0.954355\n",
      "C值：4.300000 对应的降维特征个数为：9 交叉得分为：0.952600\n",
      "C值：4.350000 对应的降维特征个数为：9 交叉得分为：0.954355\n",
      "C值：4.400000 对应的降维特征个数为：9 交叉得分为：0.952600\n",
      "C值：4.450000 对应的降维特征个数为：10 交叉得分为：0.954355\n",
      "C值：4.500000 对应的降维特征个数为：10 交叉得分为：0.954355\n",
      "C值：4.550000 对应的降维特征个数为：10 交叉得分为：0.954355\n",
      "C值：4.600000 对应的降维特征个数为：10 交叉得分为：0.954355\n",
      "C值：4.650000 对应的降维特征个数为：10 交叉得分为：0.954355\n",
      "C值：4.700000 对应的降维特征个数为：10 交叉得分为：0.954355\n",
      "C值：4.750000 对应的降维特征个数为：10 交叉得分为：0.954355\n",
      "C值：4.800000 对应的降维特征个数为：10 交叉得分为：0.954355\n",
      "C值：4.850000 对应的降维特征个数为：10 交叉得分为：0.954355\n",
      "C值：4.900000 对应的降维特征个数为：9 交叉得分为：0.952600\n",
      "C值：4.950000 对应的降维特征个数为：9 交叉得分为：0.952600\n"
     ]
    },
    {
     "data": {
      "image/png": "[encoded data removed]",
      "text/plain": [
       "<Figure size 1440x360 with 1 Axes>"
      ]
     },
     "metadata": {
      "needs_background": "light"
     },
     "output_type": "display_data"
    }
   ],
   "source": [
    "def plot_C(x,y):\n",
    "    fullx=[]\n",
    "    fsx=[]\n",
    "    c=np.arange(3.5,5,0.05)\n",
    "    k=0\n",
    "    for i in c:\n",
    "        LR_=LR(solver=\"liblinear\",C=i,random_state=420)\n",
    "        x_embedded=SelectFromModel(LR_,norm_order=1).fit_transform(x,y)\n",
    "        fullx.append(cross_val_score(LR_,x,y,cv=10).mean())\n",
    "        fsx.append(cross_val_score(LR_,x_embedded,y,cv=10).mean())\n",
    "        print(\"C值：%f 对应的降维特征个数为：%d 交叉得分为：%f\"%(c[k],x_embedded.shape[1],fsx[k]))\n",
    "        k+=1\n",
    "    plt.figure(figsize=(20,5))\n",
    "    plt.plot(c,fullx,color=\"r\",label=\"full x\")\n",
    "    plt.plot(c,fsx,color=\"b\",label=\"embedded x\")\n",
    "    plt.xlabel('embedded C')\n",
    "    plt.ylabel('cross_val_score')\n",
    "    plt.legend(loc='lower left')\n",
    "    plt.show()\n",
    "plot_C(x,y)"
   ]
  },
  {
   "cell_type": "markdown",
   "id": "c63134a1",
   "metadata": {},
   "source": [
    "### 梯度下降求解逻辑回归"
   ]
  },
  {
   "cell_type": "markdown",
   "id": "ab1a53c3",
   "metadata": {},
   "source": [
    "##### 绘制最大迭代次数的学习曲线\n"
   ]
  },
  {
   "cell_type": "code",
   "execution_count": 96,
   "id": "af9da04f",
   "metadata": {},
   "outputs": [
    {
     "name": "stdout",
     "output_type": "stream",
     "text": [
      "迭代次数：1 对应测试集合得分为：0.947368\n",
      "实际迭代次数 [1]\n",
      "迭代次数：11 对应测试集合得分为：0.964912\n",
      "实际迭代次数 [11]\n",
      "迭代次数：21 对应测试集合得分为：1.000000\n",
      "实际迭代次数 [21]\n",
      "迭代次数：31 对应测试集合得分为：1.000000\n",
      "实际迭代次数 [23]\n",
      "迭代次数：41 对应测试集合得分为：1.000000\n",
      "实际迭代次数 [23]\n",
      "迭代次数：51 对应测试集合得分为：1.000000\n",
      "实际迭代次数 [23]\n",
      "迭代次数：61 对应测试集合得分为：1.000000\n",
      "实际迭代次数 [23]\n",
      "迭代次数：71 对应测试集合得分为：1.000000\n",
      "实际迭代次数 [23]\n",
      "迭代次数：81 对应测试集合得分为：1.000000\n",
      "实际迭代次数 [23]\n",
      "迭代次数：91 对应测试集合得分为：1.000000\n",
      "实际迭代次数 [23]\n",
      "迭代次数：101 对应测试集合得分为：1.000000\n",
      "实际迭代次数 [23]\n",
      "迭代次数：111 对应测试集合得分为：1.000000\n",
      "实际迭代次数 [23]\n",
      "迭代次数：121 对应测试集合得分为：1.000000\n",
      "实际迭代次数 [23]\n",
      "迭代次数：131 对应测试集合得分为：1.000000\n",
      "实际迭代次数 [23]\n",
      "迭代次数：141 对应测试集合得分为：1.000000\n",
      "实际迭代次数 [23]\n",
      "迭代次数：151 对应测试集合得分为：1.000000\n",
      "实际迭代次数 [23]\n",
      "迭代次数：161 对应测试集合得分为：1.000000\n",
      "实际迭代次数 [23]\n",
      "迭代次数：171 对应测试集合得分为：1.000000\n",
      "实际迭代次数 [23]\n",
      "迭代次数：181 对应测试集合得分为：1.000000\n",
      "实际迭代次数 [23]\n",
      "迭代次数：191 对应测试集合得分为：1.000000\n",
      "实际迭代次数 [23]\n"
     ]
    },
    {
     "name": "stderr",
     "output_type": "stream",
     "text": [
      "d:\\miniconda3\\envs\\torch_qxy\\lib\\site-packages\\sklearn\\svm\\_base.py:986: ConvergenceWarning: Liblinear failed to converge, increase the number of iterations.\n",
      "  \"the number of iterations.\", ConvergenceWarning)\n",
      "d:\\miniconda3\\envs\\torch_qxy\\lib\\site-packages\\sklearn\\svm\\_base.py:986: ConvergenceWarning: Liblinear failed to converge, increase the number of iterations.\n",
      "  \"the number of iterations.\", ConvergenceWarning)\n",
      "d:\\miniconda3\\envs\\torch_qxy\\lib\\site-packages\\sklearn\\svm\\_base.py:986: ConvergenceWarning: Liblinear failed to converge, increase the number of iterations.\n",
      "  \"the number of iterations.\", ConvergenceWarning)\n"
     ]
    },
    {
     "data": {
      "image/png": "[encoded data removed]",
      "text/plain": [
       "<Figure size 1440x360 with 1 Axes>"
      ]
     },
     "metadata": {
      "needs_background": "light"
     },
     "output_type": "display_data"
    }
   ],
   "source": [
    "def plot_iter(x,y):\n",
    "    l2=[]\n",
    "    l2_test=[]\n",
    "    x_train,x_test,y_train,y_test=train_test_split(x,y,test_size=0.1,random_state=420)\n",
    "    k=0\n",
    "    for i in range(1,201,10):\n",
    "        lrl2=LR(penalty=\"l2\" #选择范数\n",
    "                ,solver=\"liblinear\" #选择提示样式\n",
    "                ,C=0.9 #步长\n",
    "                ,max_iter=i #最大迭代次数\n",
    "               )\n",
    "        lrl2=lrl2.fit(x_train,y_train)\n",
    "        l2.append(accuracy_score(lrl2.predict(x_train),y_train))\n",
    "        l2_test.append(accuracy_score(lrl2.predict(x_test),y_test))\n",
    "        print(\"迭代次数：%d 对应测试集合得分为：%f\"%(i,l2_test[k]))\n",
    "        print(\"实际迭代次数\",lrl2.n_iter_)\n",
    "        k+=1\n",
    "    plt.figure(figsize=(20,5))\n",
    "    plt.plot(range(1,201,10),l2,color=\"r\",label=\"l2_train\")\n",
    "    plt.plot(range(1,201,10),l2_test,color=\"b\",label=\"l2_test\")\n",
    "    plt.xlabel('iter_max')\n",
    "    plt.ylabel('accuracy_score')\n",
    "    plt.xticks(np.arange(1,201,10))\n",
    "    plt.legend(loc=0)\n",
    "    plt.show()\n",
    "plot_iter(x,y)"
   ]
  },
  {
   "cell_type": "markdown",
   "id": "5e7ff5c5",
   "metadata": {},
   "source": [
    "### 关于multi_class 的值\n"
   ]
  },
  {
   "cell_type": "markdown",
   "id": "2bf5d7f5",
   "metadata": {},
   "source": [
    "##### 'ovr':表示分类问题为二分类，或让模型使用“一对多”形式处理多分类问题\n",
    "##### 'multinomial':表示处理多分类问题，在输入参数liblinear时不可用\n",
    "##### 'auto':会根据数据的分类情况和其他参数来确定模型处理分类问题的类型\n"
   ]
  },
  {
   "cell_type": "markdown",
   "id": "7fe423a2",
   "metadata": {},
   "source": [
    "### 关于solver的值"
   ]
  },
  {
   "cell_type": "markdown",
   "id": "c2d6b120",
   "metadata": {},
   "source": [
    "##### liblinear:坐标下降法，采用l1,l2范数\n",
    "##### lbfgs:拟牛顿法，利用损失函数二阶导数矩阵（海森矩阵）来迭代化损失函数，l2范数\n",
    "##### newton-cg:牛顿法的一种，利用二阶导数矩阵来迭代优化损失函数，l2范数\n",
    "##### sag:随机平均梯度下降，与普通梯度下降的区别为每一次迭代仅用一部分样本计算梯度，l2范数\n",
    "##### saga:随机平均梯度下降的进化，系数多项逻辑回归的首选，l2范数"
   ]
  },
  {
   "cell_type": "markdown",
   "id": "7c61d9cf",
   "metadata": {},
   "source": [
    "### 通过鸢尾花数据集来观察multinomial与ovr的区别\n"
   ]
  },
  {
   "cell_type": "code",
   "execution_count": 99,
   "id": "fa708d58",
   "metadata": {},
   "outputs": [],
   "source": [
    "from sklearn.datasets import load_iris\n",
    "iris=load_iris()"
   ]
  },
  {
   "cell_type": "code",
   "execution_count": 109,
   "id": "aa0baf18",
   "metadata": {},
   "outputs": [
    {
     "name": "stdout",
     "output_type": "stream",
     "text": [
      "training score:0.987 (multinomial)\n",
      "training score:0.960 (ovr)\n"
     ]
    },
    {
     "name": "stderr",
     "output_type": "stream",
     "text": [
      "d:\\miniconda3\\envs\\torch_qxy\\lib\\site-packages\\sklearn\\linear_model\\_sag.py:329: ConvergenceWarning: The max_iter was reached which means the coef_ did not converge\n",
      "  \"the coef_ did not converge\", ConvergenceWarning)\n",
      "d:\\miniconda3\\envs\\torch_qxy\\lib\\site-packages\\sklearn\\linear_model\\_sag.py:329: ConvergenceWarning: The max_iter was reached which means the coef_ did not converge\n",
      "  \"the coef_ did not converge\", ConvergenceWarning)\n",
      "d:\\miniconda3\\envs\\torch_qxy\\lib\\site-packages\\sklearn\\linear_model\\_sag.py:329: ConvergenceWarning: The max_iter was reached which means the coef_ did not converge\n",
      "  \"the coef_ did not converge\", ConvergenceWarning)\n",
      "d:\\miniconda3\\envs\\torch_qxy\\lib\\site-packages\\sklearn\\linear_model\\_sag.py:329: ConvergenceWarning: The max_iter was reached which means the coef_ did not converge\n",
      "  \"the coef_ did not converge\", ConvergenceWarning)\n"
     ]
    }
   ],
   "source": [
    "for multi_class in ('multinomial','ovr'):\n",
    "    lr=LR(solver=\"sag\"\n",
    "           ,max_iter=100\n",
    "           ,random_state=42\n",
    "           ,multi_class=multi_class).fit(iris.data,iris.target)\n",
    "    \n",
    "    print(\"training score:%.3f (%s)\"%(lr.score(iris.data,iris.target),multi_class))"
   ]
  },
  {
   "cell_type": "markdown",
   "id": "016dac30",
   "metadata": {},
   "source": [
    "### 对于样本不平衡问题与参数class_weight"
   ]
  },
  {
   "cell_type": "markdown",
   "id": "612bb7c0",
   "metadata": {},
   "source": [
    "##### 上采样：增加少数类的样本\n",
    "##### 下采样：减少多数类的样本"
   ]
  },
  {
   "cell_type": "code",
   "execution_count": null,
   "id": "ef7af369",
   "metadata": {},
   "outputs": [],
   "source": []
  }
 ],
 "metadata": {
  "kernelspec": {
   "display_name": "Python 3 (ipykernel)",
   "language": "python",
   "name": "python3"
  },
  "language_info": {
   "codemirror_mode": {
    "name": "ipython",
    "version": 3
   },
   "file_extension": ".py",
   "mimetype": "text/x-python",
   "name": "python",
   "nbconvert_exporter": "python",
   "pygments_lexer": "ipython3",
   "version": "3.7.11"
  }
 },
 "nbformat": 4,
 "nbformat_minor": 5
}
